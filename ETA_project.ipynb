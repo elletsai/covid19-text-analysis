{
 "cells": [
  {
   "cell_type": "code",
   "execution_count": 243,
   "metadata": {},
   "outputs": [],
   "source": [
    "import numpy as np # linear algebra\n",
    "import pandas as pd # data processing, CSV file I/O (e.g. pd.read_csv)\n",
    "import glob\n",
    "import json\n",
    "from sklearn.feature_extraction.text import TfidfVectorizer\n",
    "\n",
    "import matplotlib.pyplot as plt\n",
    "plt.style.use('ggplot')"
   ]
  },
  {
   "cell_type": "markdown",
   "metadata": {},
   "source": [
    "# Import Data"
   ]
  },
  {
   "cell_type": "code",
   "execution_count": 244,
   "metadata": {},
   "outputs": [],
   "source": [
    "df_covid = pd.read_csv(\"covid19_news.csv\")"
   ]
  },
  {
   "cell_type": "code",
   "execution_count": 245,
   "metadata": {},
   "outputs": [
    {
     "data": {
      "text/html": [
       "<div>\n",
       "<style scoped>\n",
       "    .dataframe tbody tr th:only-of-type {\n",
       "        vertical-align: middle;\n",
       "    }\n",
       "\n",
       "    .dataframe tbody tr th {\n",
       "        vertical-align: top;\n",
       "    }\n",
       "\n",
       "    .dataframe thead th {\n",
       "        text-align: right;\n",
       "    }\n",
       "</style>\n",
       "<table border=\"1\" class=\"dataframe\">\n",
       "  <thead>\n",
       "    <tr style=\"text-align: right;\">\n",
       "      <th></th>\n",
       "      <th>doc_content</th>\n",
       "      <th>doc_date</th>\n",
       "      <th>doc_id</th>\n",
       "      <th>doc_source</th>\n",
       "      <th>doc_title</th>\n",
       "      <th>doc_url</th>\n",
       "    </tr>\n",
       "  </thead>\n",
       "  <tbody>\n",
       "    <tr>\n",
       "      <th>1067</th>\n",
       "      <td>closeVideoDemocrats use coronavirus fears to t...</td>\n",
       "      <td>02/27/2020</td>\n",
       "      <td>1026378</td>\n",
       "      <td>Fox</td>\n",
       "      <td>Ingraham spars with ex-Clinton aide, hits Dems...</td>\n",
       "      <td>https://www.foxnews.com/media/laura-ingraham-s...</td>\n",
       "    </tr>\n",
       "    <tr>\n",
       "      <th>3567</th>\n",
       "      <td>TOPEKA, Kan. (AP) — A second COVID-19 death in...</td>\n",
       "      <td>03/22/2020</td>\n",
       "      <td>1038354</td>\n",
       "      <td>US News</td>\n",
       "      <td>Kansas Sees Second Death From COVID-19 as Case...</td>\n",
       "      <td>https://www.usnews.com/news/best-states/kansas...</td>\n",
       "    </tr>\n",
       "    <tr>\n",
       "      <th>2299</th>\n",
       "      <td>\\nPresident Donald Trump declared a national s...</td>\n",
       "      <td>03/13/2020</td>\n",
       "      <td>1035375</td>\n",
       "      <td>Breitbart</td>\n",
       "      <td>Donald Trump Declares National Emergency over ...</td>\n",
       "      <td>http://feedproxy.google.com/~r/breitbart/~3/x2...</td>\n",
       "    </tr>\n",
       "    <tr>\n",
       "      <th>758</th>\n",
       "      <td>DUBAI (Reuters) - Two Iranians have died in ho...</td>\n",
       "      <td>02/19/2020</td>\n",
       "      <td>1020147</td>\n",
       "      <td>US News</td>\n",
       "      <td>Two Iranians Die After Testing Positive for Co...</td>\n",
       "      <td>https://www.usnews.com/news/world/articles/202...</td>\n",
       "    </tr>\n",
       "    <tr>\n",
       "      <th>3556</th>\n",
       "      <td>By Asif Shahzad\\nISLAMABAD (Reuters) - A Pakis...</td>\n",
       "      <td>03/22/2020</td>\n",
       "      <td>1038470</td>\n",
       "      <td>US News</td>\n",
       "      <td>Pakistan Doctor Dies Amid Strike Threat Over L...</td>\n",
       "      <td>https://www.usnews.com/news/world/articles/202...</td>\n",
       "    </tr>\n",
       "    <tr>\n",
       "      <th>2920</th>\n",
       "      <td>By MARY ESCH, Associated Press\\nALBANY, N.Y. (...</td>\n",
       "      <td>03/16/2020</td>\n",
       "      <td>1036320</td>\n",
       "      <td>US News</td>\n",
       "      <td>Schools and Bars Shut as Virus Deaths Tick up ...</td>\n",
       "      <td>https://www.usnews.com/news/best-states/new-yo...</td>\n",
       "    </tr>\n",
       "    <tr>\n",
       "      <th>621</th>\n",
       "      <td>closeVideoSan Diego adult becomes the 13th con...</td>\n",
       "      <td>02/12/2020</td>\n",
       "      <td>1014717</td>\n",
       "      <td>Fox</td>\n",
       "      <td>Nearly 200 Georgia residents being monitored f...</td>\n",
       "      <td>https://www.foxnews.com/us/nearly-200-georgia-...</td>\n",
       "    </tr>\n",
       "    <tr>\n",
       "      <th>2978</th>\n",
       "      <td>By JOHN RABY, Associated Press\\nCHARLESTON, W....</td>\n",
       "      <td>03/17/2020</td>\n",
       "      <td>1037063</td>\n",
       "      <td>US News</td>\n",
       "      <td>All 50 States Now Have Virus Cases: West Virgi...</td>\n",
       "      <td>https://www.usnews.com/news/best-states/west-v...</td>\n",
       "    </tr>\n",
       "    <tr>\n",
       "      <th>1631</th>\n",
       "      <td>By RYAN TARINELLI, Associated Press\\nALBANY (A...</td>\n",
       "      <td>03/06/2020</td>\n",
       "      <td>1031572</td>\n",
       "      <td>US News</td>\n",
       "      <td>Suburban Rabbi Among New York's 44 Cases of CO...</td>\n",
       "      <td>https://www.usnews.com/news/best-states/new-yo...</td>\n",
       "    </tr>\n",
       "    <tr>\n",
       "      <th>1780</th>\n",
       "      <td>WASHINGTON (Reuters) - The U.S. Army said on S...</td>\n",
       "      <td>03/08/2020</td>\n",
       "      <td>1032755</td>\n",
       "      <td>US News</td>\n",
       "      <td>U.S. Army Restricts Travel to Italy, South Kor...</td>\n",
       "      <td>https://www.usnews.com/news/us/articles/2020-0...</td>\n",
       "    </tr>\n",
       "  </tbody>\n",
       "</table>\n",
       "</div>"
      ],
      "text/plain": [
       "                                            doc_content    doc_date   doc_id  \\\n",
       "1067  closeVideoDemocrats use coronavirus fears to t...  02/27/2020  1026378   \n",
       "3567  TOPEKA, Kan. (AP) — A second COVID-19 death in...  03/22/2020  1038354   \n",
       "2299  \\nPresident Donald Trump declared a national s...  03/13/2020  1035375   \n",
       "758   DUBAI (Reuters) - Two Iranians have died in ho...  02/19/2020  1020147   \n",
       "3556  By Asif Shahzad\\nISLAMABAD (Reuters) - A Pakis...  03/22/2020  1038470   \n",
       "2920  By MARY ESCH, Associated Press\\nALBANY, N.Y. (...  03/16/2020  1036320   \n",
       "621   closeVideoSan Diego adult becomes the 13th con...  02/12/2020  1014717   \n",
       "2978  By JOHN RABY, Associated Press\\nCHARLESTON, W....  03/17/2020  1037063   \n",
       "1631  By RYAN TARINELLI, Associated Press\\nALBANY (A...  03/06/2020  1031572   \n",
       "1780  WASHINGTON (Reuters) - The U.S. Army said on S...  03/08/2020  1032755   \n",
       "\n",
       "     doc_source                                          doc_title  \\\n",
       "1067        Fox  Ingraham spars with ex-Clinton aide, hits Dems...   \n",
       "3567    US News  Kansas Sees Second Death From COVID-19 as Case...   \n",
       "2299  Breitbart  Donald Trump Declares National Emergency over ...   \n",
       "758     US News  Two Iranians Die After Testing Positive for Co...   \n",
       "3556    US News  Pakistan Doctor Dies Amid Strike Threat Over L...   \n",
       "2920    US News  Schools and Bars Shut as Virus Deaths Tick up ...   \n",
       "621         Fox  Nearly 200 Georgia residents being monitored f...   \n",
       "2978    US News  All 50 States Now Have Virus Cases: West Virgi...   \n",
       "1631    US News  Suburban Rabbi Among New York's 44 Cases of CO...   \n",
       "1780    US News  U.S. Army Restricts Travel to Italy, South Kor...   \n",
       "\n",
       "                                                doc_url  \n",
       "1067  https://www.foxnews.com/media/laura-ingraham-s...  \n",
       "3567  https://www.usnews.com/news/best-states/kansas...  \n",
       "2299  http://feedproxy.google.com/~r/breitbart/~3/x2...  \n",
       "758   https://www.usnews.com/news/world/articles/202...  \n",
       "3556  https://www.usnews.com/news/world/articles/202...  \n",
       "2920  https://www.usnews.com/news/best-states/new-yo...  \n",
       "621   https://www.foxnews.com/us/nearly-200-georgia-...  \n",
       "2978  https://www.usnews.com/news/best-states/west-v...  \n",
       "1631  https://www.usnews.com/news/best-states/new-yo...  \n",
       "1780  https://www.usnews.com/news/us/articles/2020-0...  "
      ]
     },
     "execution_count": 245,
     "metadata": {},
     "output_type": "execute_result"
    }
   ],
   "source": [
    "df_covid.sample(10)"
   ]
  },
  {
   "cell_type": "code",
   "execution_count": 246,
   "metadata": {},
   "outputs": [
    {
     "data": {
      "text/plain": [
       "' (CNN)Former President Barack Obama thanked the health care workers fighting the novel coronavirus pandemic, spotlighting the story of one family impacted by combating the virus and urging Americans to show similar commitment to the common good.\\n\"We owe a profound debt of gratitude to all our health professionals and everybody who\\'ll be on the front lines of this pandemic for a long while,\" Obama tweeted on Tuesday, sharing the story of a family in which the father, a doctor, had opted to self-quarantine away from his family while treating coronavirus patients.\\n\"They\\'re giving everything,\" Obama added. \"May we all model our own behavior on their selflessness and sacrifice as we help each other through this.\"\\nObama referenced the circumstances of Rachel Patzer, a medical professor who tweeted on Tuesday that she and her husband, an emergency department physician, \"made the difficult decision for him to isolate & move into our garage apartment for the foreseeable future as he continues to treat patients.\"\\nPatzer said that the couple has two young children and a 3-week-old newborn, who her husband would not get to spend time with and she must care for and home school. Thirty-seven states have closed public schools in light of the outbreak.\\n\"As I attempt to home school my kids (alone) with a new baby who screams if she isn\\'t held, I am worried about the health of my spouse and my family,\" she said.\\nPatzer also expressed frustration with people who have chosen not to practice \"social distancing,\" a recommendation by the Centers for Disease Control and Prevention defined as \"remaining out of places where people meet or gather\" and \"avoiding local public transportation\" --  even if one does not have any symptoms of the virus -- as a way to slow the spread of the disease. The Trump administration also unveiled new guidelines on Monday advising people to avoid gathering in groups of more than 10, going to bars, restaurants and food courts, and non-essential traveling to staunch the spread of the pandemic.\\n\"It is difficult to see pictures of all the people at bars and restaurants, socializing, making play dates, and ignoring social distancing recommendations when I know my husband and many other health care workers are risking their lives to treat more sick patients,\" Patzer said.\\nShe urged people to take the outbreak seriously and to \"please thank a health care worker for what they are doing and sacrificing.\"\\nCNN\\'s Devan Cole contributed to this report.'"
      ]
     },
     "execution_count": 246,
     "metadata": {},
     "output_type": "execute_result"
    }
   ],
   "source": [
    "df_covid.doc_content[3180]"
   ]
  },
  {
   "cell_type": "code",
   "execution_count": 247,
   "metadata": {},
   "outputs": [
    {
     "data": {
      "text/plain": [
       "'closeVideoCoronavirus drive-thru testing site opens in New Rochelle, NYDrivers will remain in their cars and be swabbed by workers in hazmat suits; Alex Hogan reports from the scene.New Yorkers woke up Friday in the city that never sleeps to a fast-spreading coronavirus pandemic — and to an empty Times Square, no Broadway shows, no Knicks and Nets basketball, no concerts or other large gatherings and deserted\\xa0office buildings.Subways and commuter trains were running but with significantly fewer riders.Aqueduct racetrack near JFK Airport told railbirds to stay home but was still planning to run a full card of horse races Friday afternoon.Thursday\\'s dizzying series of coronavirus-related shutdowns included some\\xa0of New York City’s cultural jewels: the Metropolitan Opera, Metropolitan Museum of Art, the American Museum of Natural History and Carnegie Hall.\\n      A pedestrian wearing a face mask stops in Times Square, Thursday, March 12, 2020, in New York. New York City Mayor Bill de Blasio said Thursday he will announce new restrictions on gatherings to halt the spread of the new coronavirus in the coming days. For most people, the new coronavirus causes only mild or moderate symptoms. For some it can cause more severe illness. (AP Photo/John Minchillo)\\n      The shows affected by the Broadway shutdown included such big hits as \"Hamilton\" and \"To Kill a Mockingbird.\"Next week’s historic St. Patrick’s Day parade down Fifth Avenue, an event that attracts two million people each year, was also a casualty of the coronavirus.At the same time, restaurants and bars were noticeably emptier. So too Manhattan’s bustling sidewalks.DE BLASIO WANTS NEW YORK CITY’S SCHOOLS, SUBWAY, BROADWAY TO REMAIN OPEN DESPITE CORONAVIRUSMany workers who fill Manhattan’s skyscrapers had been told to work\\xa0from home Friday.Colleges were holding classes online.\\n      A commuter wears a face mask while riding the a nearly empty subway car into Brooklyn, Thursday, March 12, 2020, in New York. (AP Photo/John Minchillo)\\n      “People are scared to come outside,” said Justin Rahim, a tour guide at Manhattan’s Central Park, who said several of his pedicab drivers — reliant on tourists for their living — quit Thursday to drive for Uber\\'s food delivery service. “It’s crazy. How am I going to survive this?”The closures, cancelations and\\xa0changes come\\xa0as officials seek\\xa0to contain the virus and mitigate the spread.The number of confirmed coronavirus cases in New York City stayed at 95 as of Friday morning, officials said.The total number of coronavirus cases in New York State was 328, second-most in the country behind Washington state which had 457 cases.\\n      The Minskoff Theatre is shuttered Thursday, March 12, 2020, in New York, near Times Square after Broadway theaters closed following New York Gov. Andrew Cuomo\\'s banning of gatherings of more than 500 people over concerns about the spread of the coronavirus. (AP Photo/Kathy Willens)\\n      Nationally, there were at least 1,600 coronavirus cases in 47 states and DC.CORONAVIRUS \\'CONTAINMENT ZONE\\' IN NEW YORK COUNTY TO SHUT DOWN FOR 2 WEEKS, UNDERGO CLEANINGMayor Bill de Blasio, while pointing out the outbreak could last six months or longer, counseled against giving up.“The city has to keep going,” de Blasio told Fox 5 New York Friday morning. “We need people to have their livelihoods. We need folks to show up at work. We need our public servants to be where we need them to be to take care of folks -- hospitals, schools, first responders.”De Blasio said he didn\\'t want to close public schools because of their\\xa0importance to the communities they serve.An exception was New Dorp High School on Staten Island, which was ordered closed Friday after a student tested positive for the corona virus, according to the Staten Island Advance.The total number of people with the virus\\xa0in New York City wasn\\'t known due to the relative scarcity of tests.But\\xa0for some, the danger is all too real.\\n      A pedestrian passes an entrance to the Barclays Center in the Brooklyn borough of New York on Thursday, March 12, 2020, after the NCAA\\'s Atlantic 10 Conference Tournament was announced cancelled due to concerns over the COVID-19 coronavirus. (AP Photo/John Minchillo)\\n      On Tuesday, John Brennan, a New Jersey resident and a horse trainer at Yonkers Raceway, just north of the city, was killed by the virus.Two days later, a close colleague at the track, Standardbred Owners Association President Joseph Faraldo, said he was quarantined in his New York City home waiting for his own test results.“He could have infected the entire paddock, because he had contact with everybody,” said Faraldo, who fell ill himself a week ago. He said he was tested Wednesday at a medical facility in Queens and expected to get the results back by Friday.CLICK HERE FOR COMPLETE CORONAVIRUS COVERAGE“I think I was pretty lucky,\" he said. “I wasn’t there more than 40 minutes. They asked a whole series of questions and I told them I was in the company of a person who had died from this. They were very nice.”The Associated Press contributed to this report.'"
      ]
     },
     "execution_count": 247,
     "metadata": {},
     "output_type": "execute_result"
    }
   ],
   "source": [
    "df_covid.doc_content[2509]"
   ]
  },
  {
   "cell_type": "code",
   "execution_count": 248,
   "metadata": {},
   "outputs": [
    {
     "data": {
      "text/plain": [
       "1035069"
      ]
     },
     "execution_count": 248,
     "metadata": {},
     "output_type": "execute_result"
    }
   ],
   "source": [
    "df_covid.doc_id[2509]"
   ]
  },
  {
   "cell_type": "markdown",
   "metadata": {},
   "source": [
    "## doc content preprocessing"
   ]
  },
  {
   "cell_type": "code",
   "execution_count": 249,
   "metadata": {},
   "outputs": [],
   "source": [
    "dt_fox = df_covid[df_covid.doc_source == 'Fox']"
   ]
  },
  {
   "cell_type": "code",
   "execution_count": 250,
   "metadata": {},
   "outputs": [
    {
     "data": {
      "text/plain": [
       "330"
      ]
     },
     "execution_count": 250,
     "metadata": {},
     "output_type": "execute_result"
    }
   ],
   "source": [
    "len(dt_fox)"
   ]
  },
  {
   "cell_type": "code",
   "execution_count": 251,
   "metadata": {},
   "outputs": [
    {
     "data": {
      "text/html": [
       "<div>\n",
       "<style scoped>\n",
       "    .dataframe tbody tr th:only-of-type {\n",
       "        vertical-align: middle;\n",
       "    }\n",
       "\n",
       "    .dataframe tbody tr th {\n",
       "        vertical-align: top;\n",
       "    }\n",
       "\n",
       "    .dataframe thead th {\n",
       "        text-align: right;\n",
       "    }\n",
       "</style>\n",
       "<table border=\"1\" class=\"dataframe\">\n",
       "  <thead>\n",
       "    <tr style=\"text-align: right;\">\n",
       "      <th></th>\n",
       "      <th>doc_content</th>\n",
       "      <th>doc_date</th>\n",
       "      <th>doc_id</th>\n",
       "      <th>doc_source</th>\n",
       "      <th>doc_title</th>\n",
       "      <th>doc_url</th>\n",
       "    </tr>\n",
       "  </thead>\n",
       "  <tbody>\n",
       "    <tr>\n",
       "      <th>14</th>\n",
       "      <td>BEIJING -- China reported Monday a sharp rise ...</td>\n",
       "      <td>01/20/2020</td>\n",
       "      <td>993253</td>\n",
       "      <td>Fox</td>\n",
       "      <td>China counts sharp rise in coronavirus cases d...</td>\n",
       "      <td>https://www.foxnews.com/health/china-counts-sh...</td>\n",
       "    </tr>\n",
       "    <tr>\n",
       "      <th>43</th>\n",
       "      <td>closeVideoSen. Tom Cotton links coronavirus sp...</td>\n",
       "      <td>01/22/2020</td>\n",
       "      <td>995686</td>\n",
       "      <td>Fox</td>\n",
       "      <td>Tom Cotton: China needs to answer for 'malfeas...</td>\n",
       "      <td>https://www.foxnews.com/media/tom-cotton-coron...</td>\n",
       "    </tr>\n",
       "    <tr>\n",
       "      <th>47</th>\n",
       "      <td>closeVideoTrump took swipe at Democratic candi...</td>\n",
       "      <td>01/22/2020</td>\n",
       "      <td>995366</td>\n",
       "      <td>Fox</td>\n",
       "      <td>Trump says US has plan to contain coronavirus</td>\n",
       "      <td>https://www.foxnews.com/health/trump-says-us-h...</td>\n",
       "    </tr>\n",
       "    <tr>\n",
       "      <th>54</th>\n",
       "      <td>closeVideoChina expands quarantine measures am...</td>\n",
       "      <td>01/23/2020</td>\n",
       "      <td>996817</td>\n",
       "      <td>Fox</td>\n",
       "      <td>Who are the coronavirus victims? What to know ...</td>\n",
       "      <td>https://www.foxnews.com/health/who-are-the-cor...</td>\n",
       "    </tr>\n",
       "    <tr>\n",
       "      <th>56</th>\n",
       "      <td>closeVideoWorld Health Organization officials ...</td>\n",
       "      <td>01/23/2020</td>\n",
       "      <td>996824</td>\n",
       "      <td>Fox</td>\n",
       "      <td>WHO says China's coronavirus 'too early' for e...</td>\n",
       "      <td>https://www.foxnews.com/health/who-china-coron...</td>\n",
       "    </tr>\n",
       "  </tbody>\n",
       "</table>\n",
       "</div>"
      ],
      "text/plain": [
       "                                          doc_content    doc_date  doc_id  \\\n",
       "14  BEIJING -- China reported Monday a sharp rise ...  01/20/2020  993253   \n",
       "43  closeVideoSen. Tom Cotton links coronavirus sp...  01/22/2020  995686   \n",
       "47  closeVideoTrump took swipe at Democratic candi...  01/22/2020  995366   \n",
       "54  closeVideoChina expands quarantine measures am...  01/23/2020  996817   \n",
       "56  closeVideoWorld Health Organization officials ...  01/23/2020  996824   \n",
       "\n",
       "   doc_source                                          doc_title  \\\n",
       "14        Fox  China counts sharp rise in coronavirus cases d...   \n",
       "43        Fox  Tom Cotton: China needs to answer for 'malfeas...   \n",
       "47        Fox      Trump says US has plan to contain coronavirus   \n",
       "54        Fox  Who are the coronavirus victims? What to know ...   \n",
       "56        Fox  WHO says China's coronavirus 'too early' for e...   \n",
       "\n",
       "                                              doc_url  \n",
       "14  https://www.foxnews.com/health/china-counts-sh...  \n",
       "43  https://www.foxnews.com/media/tom-cotton-coron...  \n",
       "47  https://www.foxnews.com/health/trump-says-us-h...  \n",
       "54  https://www.foxnews.com/health/who-are-the-cor...  \n",
       "56  https://www.foxnews.com/health/who-china-coron...  "
      ]
     },
     "execution_count": 251,
     "metadata": {},
     "output_type": "execute_result"
    }
   ],
   "source": [
    "dt_fox.head()"
   ]
  },
  {
   "cell_type": "code",
   "execution_count": 268,
   "metadata": {},
   "outputs": [
    {
     "data": {
      "text/plain": [
       "[0, 1, 2, 3, 4, 5, 6, 7, 8, 9]"
      ]
     },
     "execution_count": 268,
     "metadata": {},
     "output_type": "execute_result"
    }
   ],
   "source": [
    "index = list(df_covid.doc_content.index.values)\n",
    "index[:10]"
   ]
  },
  {
   "cell_type": "code",
   "execution_count": 269,
   "metadata": {},
   "outputs": [],
   "source": [
    "#dt_fox.doc_content[index[329]]"
   ]
  },
  {
   "cell_type": "code",
   "execution_count": 296,
   "metadata": {},
   "outputs": [
    {
     "name": "stderr",
     "output_type": "stream",
     "text": [
      "/apps/software/standard/compiler/gcc/7.1.0/jupyter_conda/2019.10-py3.7/lib/python3.7/site-packages/ipykernel_launcher.py:18: DeprecationWarning: The default dtype for empty Series will be 'object' instead of 'float64' in a future version. Specify a dtype explicitly to silence this warning.\n"
     ]
    }
   ],
   "source": [
    "K = []\n",
    "\n",
    "for i, d in enumerate(index):\n",
    "    #print(i,d)\n",
    "    text = df_covid.doc_content[d]\n",
    "    para_lst = text.split('\\n\\s*')\n",
    "    \n",
    "    para_lst = pd.DataFrame(para_lst)\n",
    "    para_lst.columns = ['paragraph_str']\n",
    "    er = df_covid.doc_id[i]\n",
    "    para_lst = pd.concat([para_lst], keys=[er], names=['doc_id'])\n",
    "    K.append(pd.DataFrame())\n",
    "    \n",
    "    K[i] = para_lst.paragraph_str.apply(lambda x: pd.Series(x.split('.'))).stack()\n",
    "    K[i] = K[i].to_frame().rename(columns={0:'sentence_str'})\n",
    "    \n",
    "    K[i].index.names = ['doc_id','paragraph_num','sentence_num']\n",
    "    K[i] = K[i].sentence_str.apply(lambda x: pd.Series(x.split())).stack()\n",
    "    \n",
    "    K[i] = K[i].to_frame().rename(columns={0:'token_str'})\n",
    "    K[i].index.names = ['doc_id','paragraph_num','sentence_num','token_num']\n",
    "    \n",
    "    K[i]['term_str'] = K[i].token_str.replace('\\W+', '', regex=True).str.lower()\n",
    "\n",
    "#print (K[13], K[7])"
   ]
  },
  {
   "cell_type": "code",
   "execution_count": 298,
   "metadata": {},
   "outputs": [
    {
     "data": {
      "text/html": [
       "<div>\n",
       "<style scoped>\n",
       "    .dataframe tbody tr th:only-of-type {\n",
       "        vertical-align: middle;\n",
       "    }\n",
       "\n",
       "    .dataframe tbody tr th {\n",
       "        vertical-align: top;\n",
       "    }\n",
       "\n",
       "    .dataframe thead th {\n",
       "        text-align: right;\n",
       "    }\n",
       "</style>\n",
       "<table border=\"1\" class=\"dataframe\">\n",
       "  <thead>\n",
       "    <tr style=\"text-align: right;\">\n",
       "      <th></th>\n",
       "      <th></th>\n",
       "      <th></th>\n",
       "      <th></th>\n",
       "      <th>token_str</th>\n",
       "      <th>term_str</th>\n",
       "    </tr>\n",
       "    <tr>\n",
       "      <th>doc_id</th>\n",
       "      <th>paragraph_num</th>\n",
       "      <th>sentence_num</th>\n",
       "      <th>token_num</th>\n",
       "      <th></th>\n",
       "      <th></th>\n",
       "    </tr>\n",
       "  </thead>\n",
       "  <tbody>\n",
       "    <tr>\n",
       "      <th rowspan=\"11\" valign=\"top\">1035069</th>\n",
       "      <th rowspan=\"11\" valign=\"top\">0</th>\n",
       "      <th rowspan=\"5\" valign=\"top\">0</th>\n",
       "      <th>0</th>\n",
       "      <td>closeVideoCoronavirus</td>\n",
       "      <td>closevideocoronavirus</td>\n",
       "    </tr>\n",
       "    <tr>\n",
       "      <th>1</th>\n",
       "      <td>drive-thru</td>\n",
       "      <td>drivethru</td>\n",
       "    </tr>\n",
       "    <tr>\n",
       "      <th>2</th>\n",
       "      <td>testing</td>\n",
       "      <td>testing</td>\n",
       "    </tr>\n",
       "    <tr>\n",
       "      <th>3</th>\n",
       "      <td>site</td>\n",
       "      <td>site</td>\n",
       "    </tr>\n",
       "    <tr>\n",
       "      <th>4</th>\n",
       "      <td>opens</td>\n",
       "      <td>opens</td>\n",
       "    </tr>\n",
       "    <tr>\n",
       "      <th>...</th>\n",
       "      <th>...</th>\n",
       "      <td>...</td>\n",
       "      <td>...</td>\n",
       "    </tr>\n",
       "    <tr>\n",
       "      <th rowspan=\"5\" valign=\"top\">43</th>\n",
       "      <th>2</th>\n",
       "      <td>Press</td>\n",
       "      <td>press</td>\n",
       "    </tr>\n",
       "    <tr>\n",
       "      <th>3</th>\n",
       "      <td>contributed</td>\n",
       "      <td>contributed</td>\n",
       "    </tr>\n",
       "    <tr>\n",
       "      <th>4</th>\n",
       "      <td>to</td>\n",
       "      <td>to</td>\n",
       "    </tr>\n",
       "    <tr>\n",
       "      <th>5</th>\n",
       "      <td>this</td>\n",
       "      <td>this</td>\n",
       "    </tr>\n",
       "    <tr>\n",
       "      <th>6</th>\n",
       "      <td>report</td>\n",
       "      <td>report</td>\n",
       "    </tr>\n",
       "  </tbody>\n",
       "</table>\n",
       "<p>843 rows × 2 columns</p>\n",
       "</div>"
      ],
      "text/plain": [
       "                                                          token_str  \\\n",
       "doc_id  paragraph_num sentence_num token_num                          \n",
       "1035069 0             0            0          closeVideoCoronavirus   \n",
       "                                   1                     drive-thru   \n",
       "                                   2                        testing   \n",
       "                                   3                           site   \n",
       "                                   4                          opens   \n",
       "...                                                             ...   \n",
       "                      43           2                          Press   \n",
       "                                   3                    contributed   \n",
       "                                   4                             to   \n",
       "                                   5                           this   \n",
       "                                   6                         report   \n",
       "\n",
       "                                                           term_str  \n",
       "doc_id  paragraph_num sentence_num token_num                         \n",
       "1035069 0             0            0          closevideocoronavirus  \n",
       "                                   1                      drivethru  \n",
       "                                   2                        testing  \n",
       "                                   3                           site  \n",
       "                                   4                          opens  \n",
       "...                                                             ...  \n",
       "                      43           2                          press  \n",
       "                                   3                    contributed  \n",
       "                                   4                             to  \n",
       "                                   5                           this  \n",
       "                                   6                         report  \n",
       "\n",
       "[843 rows x 2 columns]"
      ]
     },
     "execution_count": 298,
     "metadata": {},
     "output_type": "execute_result"
    }
   ],
   "source": [
    "K[2509]"
   ]
  },
  {
   "cell_type": "code",
   "execution_count": 272,
   "metadata": {},
   "outputs": [],
   "source": [
    "\n",
    "df_total = pd.concat(K,axis = 0)"
   ]
  },
  {
   "cell_type": "code",
   "execution_count": 273,
   "metadata": {},
   "outputs": [
    {
     "data": {
      "text/html": [
       "<div>\n",
       "<style scoped>\n",
       "    .dataframe tbody tr th:only-of-type {\n",
       "        vertical-align: middle;\n",
       "    }\n",
       "\n",
       "    .dataframe tbody tr th {\n",
       "        vertical-align: top;\n",
       "    }\n",
       "\n",
       "    .dataframe thead th {\n",
       "        text-align: right;\n",
       "    }\n",
       "</style>\n",
       "<table border=\"1\" class=\"dataframe\">\n",
       "  <thead>\n",
       "    <tr style=\"text-align: right;\">\n",
       "      <th></th>\n",
       "      <th></th>\n",
       "      <th></th>\n",
       "      <th></th>\n",
       "      <th>token_str</th>\n",
       "      <th>term_str</th>\n",
       "    </tr>\n",
       "    <tr>\n",
       "      <th>doc_id</th>\n",
       "      <th>paragraph_num</th>\n",
       "      <th>sentence_num</th>\n",
       "      <th></th>\n",
       "      <th></th>\n",
       "      <th></th>\n",
       "    </tr>\n",
       "  </thead>\n",
       "  <tbody>\n",
       "    <tr>\n",
       "      <th rowspan=\"5\" valign=\"top\">983556</th>\n",
       "      <th rowspan=\"5\" valign=\"top\">0</th>\n",
       "      <th rowspan=\"5\" valign=\"top\">0</th>\n",
       "      <th>0</th>\n",
       "      <td>By</td>\n",
       "      <td>by</td>\n",
       "    </tr>\n",
       "    <tr>\n",
       "      <th>1</th>\n",
       "      <td>YANAN</td>\n",
       "      <td>yanan</td>\n",
       "    </tr>\n",
       "    <tr>\n",
       "      <th>2</th>\n",
       "      <td>WANG</td>\n",
       "      <td>wang</td>\n",
       "    </tr>\n",
       "    <tr>\n",
       "      <th>3</th>\n",
       "      <td>and</td>\n",
       "      <td>and</td>\n",
       "    </tr>\n",
       "    <tr>\n",
       "      <th>4</th>\n",
       "      <td>MIKE</td>\n",
       "      <td>mike</td>\n",
       "    </tr>\n",
       "    <tr>\n",
       "      <th>...</th>\n",
       "      <th>...</th>\n",
       "      <th>...</th>\n",
       "      <th>...</th>\n",
       "      <td>...</td>\n",
       "      <td>...</td>\n",
       "    </tr>\n",
       "    <tr>\n",
       "      <th rowspan=\"5\" valign=\"top\">1040732</th>\n",
       "      <th rowspan=\"5\" valign=\"top\">0</th>\n",
       "      <th rowspan=\"5\" valign=\"top\">33</th>\n",
       "      <th>7</th>\n",
       "      <td>in</td>\n",
       "      <td>in</td>\n",
       "    </tr>\n",
       "    <tr>\n",
       "      <th>8</th>\n",
       "      <td>the</td>\n",
       "      <td>the</td>\n",
       "    </tr>\n",
       "    <tr>\n",
       "      <th>9</th>\n",
       "      <td>adjacent</td>\n",
       "      <td>adjacent</td>\n",
       "    </tr>\n",
       "    <tr>\n",
       "      <th>10</th>\n",
       "      <td>post</td>\n",
       "      <td>post</td>\n",
       "    </tr>\n",
       "    <tr>\n",
       "      <th>11</th>\n",
       "      <td>here</td>\n",
       "      <td>here</td>\n",
       "    </tr>\n",
       "  </tbody>\n",
       "</table>\n",
       "<p>2617125 rows × 2 columns</p>\n",
       "</div>"
      ],
      "text/plain": [
       "                                      token_str  term_str\n",
       "doc_id  paragraph_num sentence_num                       \n",
       "983556  0             0            0         By        by\n",
       "                                   1      YANAN     yanan\n",
       "                                   2       WANG      wang\n",
       "                                   3        and       and\n",
       "                                   4       MIKE      mike\n",
       "...                                         ...       ...\n",
       "1040732 0             33           7         in        in\n",
       "                                   8        the       the\n",
       "                                   9   adjacent  adjacent\n",
       "                                   10      post      post\n",
       "                                   11      here      here\n",
       "\n",
       "[2617125 rows x 2 columns]"
      ]
     },
     "execution_count": 273,
     "metadata": {},
     "output_type": "execute_result"
    }
   ],
   "source": [
    "df_total"
   ]
  },
  {
   "cell_type": "code",
   "execution_count": null,
   "metadata": {},
   "outputs": [],
   "source": [
    "·"
   ]
  },
  {
   "cell_type": "code",
   "execution_count": null,
   "metadata": {},
   "outputs": [],
   "source": []
  },
  {
   "cell_type": "code",
   "execution_count": null,
   "metadata": {},
   "outputs": [],
   "source": []
  },
  {
   "cell_type": "code",
   "execution_count": null,
   "metadata": {},
   "outputs": [],
   "source": []
  },
  {
   "cell_type": "code",
   "execution_count": null,
   "metadata": {},
   "outputs": [],
   "source": []
  },
  {
   "cell_type": "code",
   "execution_count": 278,
   "metadata": {},
   "outputs": [],
   "source": [
    "text = df_covid.doc_content[2509]"
   ]
  },
  {
   "cell_type": "code",
   "execution_count": 279,
   "metadata": {},
   "outputs": [],
   "source": [
    "para_lst = text.split('\\n      ')"
   ]
  },
  {
   "cell_type": "code",
   "execution_count": 280,
   "metadata": {},
   "outputs": [],
   "source": [
    "para_lst = pd.DataFrame(para_lst)\n",
    "para_lst.columns = ['paragraph_str']\n",
    "er = df_covid.doc_id[2509]\n",
    "para_lst = pd.concat([para_lst], keys=[er], names=['doc_id'])\n"
   ]
  },
  {
   "cell_type": "code",
   "execution_count": 281,
   "metadata": {},
   "outputs": [],
   "source": [
    "K = para_lst.paragraph_str.apply(lambda x: pd.Series(x.split('.'))).stack()"
   ]
  },
  {
   "cell_type": "code",
   "execution_count": 282,
   "metadata": {},
   "outputs": [],
   "source": [
    "K = K.to_frame().rename(columns={0:'sentence_str'})"
   ]
  },
  {
   "cell_type": "code",
   "execution_count": 283,
   "metadata": {},
   "outputs": [
    {
     "data": {
      "text/html": [
       "<div>\n",
       "<style scoped>\n",
       "    .dataframe tbody tr th:only-of-type {\n",
       "        vertical-align: middle;\n",
       "    }\n",
       "\n",
       "    .dataframe tbody tr th {\n",
       "        vertical-align: top;\n",
       "    }\n",
       "\n",
       "    .dataframe thead th {\n",
       "        text-align: right;\n",
       "    }\n",
       "</style>\n",
       "<table border=\"1\" class=\"dataframe\">\n",
       "  <thead>\n",
       "    <tr style=\"text-align: right;\">\n",
       "      <th></th>\n",
       "      <th></th>\n",
       "      <th></th>\n",
       "      <th>sentence_str</th>\n",
       "    </tr>\n",
       "    <tr>\n",
       "      <th>doc_id</th>\n",
       "      <th></th>\n",
       "      <th></th>\n",
       "      <th></th>\n",
       "    </tr>\n",
       "  </thead>\n",
       "  <tbody>\n",
       "    <tr>\n",
       "      <th rowspan=\"5\" valign=\"top\">1035069</th>\n",
       "      <th rowspan=\"5\" valign=\"top\">0</th>\n",
       "      <th>0</th>\n",
       "      <td>closeVideoCoronavirus drive-thru testing site ...</td>\n",
       "    </tr>\n",
       "    <tr>\n",
       "      <th>1</th>\n",
       "      <td>New Yorkers woke up Friday in the city that ne...</td>\n",
       "    </tr>\n",
       "    <tr>\n",
       "      <th>2</th>\n",
       "      <td>Subways and commuter trains were running but w...</td>\n",
       "    </tr>\n",
       "    <tr>\n",
       "      <th>3</th>\n",
       "      <td>Aqueduct racetrack near JFK Airport told railb...</td>\n",
       "    </tr>\n",
       "    <tr>\n",
       "      <th>4</th>\n",
       "      <td>Thursday's dizzying series of coronavirus-rela...</td>\n",
       "    </tr>\n",
       "  </tbody>\n",
       "</table>\n",
       "</div>"
      ],
      "text/plain": [
       "                                                  sentence_str\n",
       "doc_id                                                        \n",
       "1035069 0 0  closeVideoCoronavirus drive-thru testing site ...\n",
       "          1  New Yorkers woke up Friday in the city that ne...\n",
       "          2  Subways and commuter trains were running but w...\n",
       "          3  Aqueduct racetrack near JFK Airport told railb...\n",
       "          4  Thursday's dizzying series of coronavirus-rela..."
      ]
     },
     "execution_count": 283,
     "metadata": {},
     "output_type": "execute_result"
    }
   ],
   "source": [
    "K.head()"
   ]
  },
  {
   "cell_type": "code",
   "execution_count": 284,
   "metadata": {},
   "outputs": [],
   "source": [
    "K.index.names = ['doc_id','paragraph_num','sentence_num']"
   ]
  },
  {
   "cell_type": "code",
   "execution_count": 285,
   "metadata": {},
   "outputs": [
    {
     "data": {
      "text/html": [
       "<div>\n",
       "<style scoped>\n",
       "    .dataframe tbody tr th:only-of-type {\n",
       "        vertical-align: middle;\n",
       "    }\n",
       "\n",
       "    .dataframe tbody tr th {\n",
       "        vertical-align: top;\n",
       "    }\n",
       "\n",
       "    .dataframe thead th {\n",
       "        text-align: right;\n",
       "    }\n",
       "</style>\n",
       "<table border=\"1\" class=\"dataframe\">\n",
       "  <thead>\n",
       "    <tr style=\"text-align: right;\">\n",
       "      <th></th>\n",
       "      <th></th>\n",
       "      <th></th>\n",
       "      <th>sentence_str</th>\n",
       "    </tr>\n",
       "    <tr>\n",
       "      <th>doc_id</th>\n",
       "      <th>paragraph_num</th>\n",
       "      <th>sentence_num</th>\n",
       "      <th></th>\n",
       "    </tr>\n",
       "  </thead>\n",
       "  <tbody>\n",
       "    <tr>\n",
       "      <th rowspan=\"10\" valign=\"top\">1035069</th>\n",
       "      <th rowspan=\"6\" valign=\"top\">0</th>\n",
       "      <th>0</th>\n",
       "      <td>closeVideoCoronavirus drive-thru testing site ...</td>\n",
       "    </tr>\n",
       "    <tr>\n",
       "      <th>1</th>\n",
       "      <td>New Yorkers woke up Friday in the city that ne...</td>\n",
       "    </tr>\n",
       "    <tr>\n",
       "      <th>2</th>\n",
       "      <td>Subways and commuter trains were running but w...</td>\n",
       "    </tr>\n",
       "    <tr>\n",
       "      <th>3</th>\n",
       "      <td>Aqueduct racetrack near JFK Airport told railb...</td>\n",
       "    </tr>\n",
       "    <tr>\n",
       "      <th>4</th>\n",
       "      <td>Thursday's dizzying series of coronavirus-rela...</td>\n",
       "    </tr>\n",
       "    <tr>\n",
       "      <th>5</th>\n",
       "      <td></td>\n",
       "    </tr>\n",
       "    <tr>\n",
       "      <th rowspan=\"4\" valign=\"top\">1</th>\n",
       "      <th>0</th>\n",
       "      <td>A pedestrian wearing a face mask stops in Time...</td>\n",
       "    </tr>\n",
       "    <tr>\n",
       "      <th>1</th>\n",
       "      <td>New York City Mayor Bill de Blasio said Thurs...</td>\n",
       "    </tr>\n",
       "    <tr>\n",
       "      <th>2</th>\n",
       "      <td>For most people, the new coronavirus causes o...</td>\n",
       "    </tr>\n",
       "    <tr>\n",
       "      <th>3</th>\n",
       "      <td>For some it can cause more severe illness</td>\n",
       "    </tr>\n",
       "  </tbody>\n",
       "</table>\n",
       "</div>"
      ],
      "text/plain": [
       "                                                                         sentence_str\n",
       "doc_id  paragraph_num sentence_num                                                   \n",
       "1035069 0             0             closeVideoCoronavirus drive-thru testing site ...\n",
       "                      1             New Yorkers woke up Friday in the city that ne...\n",
       "                      2             Subways and commuter trains were running but w...\n",
       "                      3             Aqueduct racetrack near JFK Airport told railb...\n",
       "                      4             Thursday's dizzying series of coronavirus-rela...\n",
       "                      5                                                              \n",
       "        1             0             A pedestrian wearing a face mask stops in Time...\n",
       "                      1              New York City Mayor Bill de Blasio said Thurs...\n",
       "                      2              For most people, the new coronavirus causes o...\n",
       "                      3                     For some it can cause more severe illness"
      ]
     },
     "execution_count": 285,
     "metadata": {},
     "output_type": "execute_result"
    }
   ],
   "source": [
    "K.head(10)"
   ]
  },
  {
   "cell_type": "code",
   "execution_count": 286,
   "metadata": {},
   "outputs": [
    {
     "name": "stderr",
     "output_type": "stream",
     "text": [
      "/apps/software/standard/compiler/gcc/7.1.0/jupyter_conda/2019.10-py3.7/lib/python3.7/site-packages/ipykernel_launcher.py:1: DeprecationWarning: The default dtype for empty Series will be 'object' instead of 'float64' in a future version. Specify a dtype explicitly to silence this warning.\n",
      "  \"\"\"Entry point for launching an IPython kernel.\n"
     ]
    }
   ],
   "source": [
    "K = K.sentence_str.apply(lambda x: pd.Series(x.split())).stack()"
   ]
  },
  {
   "cell_type": "code",
   "execution_count": 287,
   "metadata": {},
   "outputs": [],
   "source": [
    "K = K.to_frame().rename(columns={0:'token_str'})"
   ]
  },
  {
   "cell_type": "code",
   "execution_count": 289,
   "metadata": {},
   "outputs": [
    {
     "data": {
      "text/html": [
       "<div>\n",
       "<style scoped>\n",
       "    .dataframe tbody tr th:only-of-type {\n",
       "        vertical-align: middle;\n",
       "    }\n",
       "\n",
       "    .dataframe tbody tr th {\n",
       "        vertical-align: top;\n",
       "    }\n",
       "\n",
       "    .dataframe thead th {\n",
       "        text-align: right;\n",
       "    }\n",
       "</style>\n",
       "<table border=\"1\" class=\"dataframe\">\n",
       "  <thead>\n",
       "    <tr style=\"text-align: right;\">\n",
       "      <th></th>\n",
       "      <th></th>\n",
       "      <th></th>\n",
       "      <th></th>\n",
       "      <th>token_str</th>\n",
       "    </tr>\n",
       "    <tr>\n",
       "      <th>doc_id</th>\n",
       "      <th>paragraph_num</th>\n",
       "      <th>sentence_num</th>\n",
       "      <th></th>\n",
       "      <th></th>\n",
       "    </tr>\n",
       "  </thead>\n",
       "  <tbody>\n",
       "    <tr>\n",
       "      <th rowspan=\"20\" valign=\"top\">1035069</th>\n",
       "      <th>5</th>\n",
       "      <th>1</th>\n",
       "      <th>3</th>\n",
       "      <td>of</td>\n",
       "    </tr>\n",
       "    <tr>\n",
       "      <th>4</th>\n",
       "      <th>4</th>\n",
       "      <th>16</th>\n",
       "      <td>behind</td>\n",
       "    </tr>\n",
       "    <tr>\n",
       "      <th>3</th>\n",
       "      <th>0</th>\n",
       "      <th>21</th>\n",
       "      <td>New</td>\n",
       "    </tr>\n",
       "    <tr>\n",
       "      <th>1</th>\n",
       "      <th>1</th>\n",
       "      <th>24</th>\n",
       "      <td>in</td>\n",
       "    </tr>\n",
       "    <tr>\n",
       "      <th>6</th>\n",
       "      <th>7</th>\n",
       "      <th>19</th>\n",
       "      <td>positive</td>\n",
       "    </tr>\n",
       "    <tr>\n",
       "      <th>3</th>\n",
       "      <th>1</th>\n",
       "      <th>0</th>\n",
       "      <td>(AP</td>\n",
       "    </tr>\n",
       "    <tr>\n",
       "      <th>2</th>\n",
       "      <th>5</th>\n",
       "      <th>17</th>\n",
       "      <td>Manhattan’s</td>\n",
       "    </tr>\n",
       "    <tr>\n",
       "      <th>0</th>\n",
       "      <th>4</th>\n",
       "      <th>12</th>\n",
       "      <td>cultural</td>\n",
       "    </tr>\n",
       "    <tr>\n",
       "      <th>7</th>\n",
       "      <th>0</th>\n",
       "      <th>3</th>\n",
       "      <td>an</td>\n",
       "    </tr>\n",
       "    <tr>\n",
       "      <th>2</th>\n",
       "      <th>5</th>\n",
       "      <th>25</th>\n",
       "      <td>home</td>\n",
       "    </tr>\n",
       "    <tr>\n",
       "      <th>4</th>\n",
       "      <th>2</th>\n",
       "      <th>13</th>\n",
       "      <td>officials</td>\n",
       "    </tr>\n",
       "    <tr>\n",
       "      <th rowspan=\"2\" valign=\"top\">8</th>\n",
       "      <th>0</th>\n",
       "      <th>16</th>\n",
       "      <td>north</td>\n",
       "    </tr>\n",
       "    <tr>\n",
       "      <th>1</th>\n",
       "      <th>16</th>\n",
       "      <td>he</td>\n",
       "    </tr>\n",
       "    <tr>\n",
       "      <th>6</th>\n",
       "      <th>6</th>\n",
       "      <th>17</th>\n",
       "      <td>they</td>\n",
       "    </tr>\n",
       "    <tr>\n",
       "      <th>5</th>\n",
       "      <th>0</th>\n",
       "      <th>19</th>\n",
       "      <td>following</td>\n",
       "    </tr>\n",
       "    <tr>\n",
       "      <th rowspan=\"3\" valign=\"top\">6</th>\n",
       "      <th>0</th>\n",
       "      <th>9</th>\n",
       "      <td>47</td>\n",
       "    </tr>\n",
       "    <tr>\n",
       "      <th>9</th>\n",
       "      <th>5</th>\n",
       "      <td>is</td>\n",
       "    </tr>\n",
       "    <tr>\n",
       "      <th>2</th>\n",
       "      <th>6</th>\n",
       "      <td>de</td>\n",
       "    </tr>\n",
       "    <tr>\n",
       "      <th>4</th>\n",
       "      <th>0</th>\n",
       "      <th>15</th>\n",
       "      <td>Park,</td>\n",
       "    </tr>\n",
       "    <tr>\n",
       "      <th>2</th>\n",
       "      <th>5</th>\n",
       "      <th>16</th>\n",
       "      <td>fill</td>\n",
       "    </tr>\n",
       "  </tbody>\n",
       "</table>\n",
       "</div>"
      ],
      "text/plain": [
       "                                         token_str\n",
       "doc_id  paragraph_num sentence_num                \n",
       "1035069 5             1            3            of\n",
       "        4             4            16       behind\n",
       "        3             0            21          New\n",
       "        1             1            24           in\n",
       "        6             7            19     positive\n",
       "        3             1            0           (AP\n",
       "        2             5            17  Manhattan’s\n",
       "        0             4            12     cultural\n",
       "        7             0            3            an\n",
       "        2             5            25         home\n",
       "        4             2            13    officials\n",
       "        8             0            16        north\n",
       "                      1            16           he\n",
       "        6             6            17         they\n",
       "        5             0            19    following\n",
       "        6             0            9            47\n",
       "                      9            5            is\n",
       "                      2            6            de\n",
       "        4             0            15        Park,\n",
       "        2             5            16         fill"
      ]
     },
     "execution_count": 289,
     "metadata": {},
     "output_type": "execute_result"
    }
   ],
   "source": [
    "K.sample(20)"
   ]
  },
  {
   "cell_type": "code",
   "execution_count": 150,
   "metadata": {},
   "outputs": [],
   "source": [
    "K['term_str'] = K.token_str.replace('\\W+', '', regex=True).str.lower()"
   ]
  },
  {
   "cell_type": "code",
   "execution_count": 277,
   "metadata": {},
   "outputs": [
    {
     "ename": "AttributeError",
     "evalue": "'list' object has no attribute 'sample'",
     "output_type": "error",
     "traceback": [
      "\u001b[0;31m---------------------------------------------------------------------------\u001b[0m",
      "\u001b[0;31mAttributeError\u001b[0m                            Traceback (most recent call last)",
      "\u001b[0;32m<ipython-input-277-d813d3f74812>\u001b[0m in \u001b[0;36m<module>\u001b[0;34m\u001b[0m\n\u001b[0;32m----> 1\u001b[0;31m \u001b[0mK\u001b[0m\u001b[0;34m.\u001b[0m\u001b[0msample\u001b[0m\u001b[0;34m(\u001b[0m\u001b[0;36m20\u001b[0m\u001b[0;34m)\u001b[0m\u001b[0;34m\u001b[0m\u001b[0;34m\u001b[0m\u001b[0m\n\u001b[0m",
      "\u001b[0;31mAttributeError\u001b[0m: 'list' object has no attribute 'sample'"
     ]
    }
   ],
   "source": [
    "K.sample(20)"
   ]
  },
  {
   "cell_type": "code",
   "execution_count": null,
   "metadata": {},
   "outputs": [],
   "source": []
  }
 ],
 "metadata": {
  "kernelspec": {
   "display_name": "Python 3",
   "language": "python",
   "name": "python3"
  },
  "language_info": {
   "codemirror_mode": {
    "name": "ipython",
    "version": 3
   },
   "file_extension": ".py",
   "mimetype": "text/x-python",
   "name": "python",
   "nbconvert_exporter": "python",
   "pygments_lexer": "ipython3",
   "version": "3.7.4"
  }
 },
 "nbformat": 4,
 "nbformat_minor": 4
}
