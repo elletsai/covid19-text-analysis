{
 "cells": [
  {
   "cell_type": "markdown",
   "metadata": {},
   "source": [
    "# Topic modeling\n",
    "\n",
    "Yiting (Elle) Tsai (yt9mh@virginia.edu)<br>\n",
    "DS 5001<br>\n",
    "28 April 2020<br>\n",
    "\n",
    "## Overview\n",
    "1.  Aim to find the topics for the documents to see if there is different topics about COVID-19"
   ]
  },
  {
   "cell_type": "code",
   "execution_count": 13,
   "metadata": {
    "ExecuteTime": {
     "end_time": "2020-04-24T19:46:54.621251Z",
     "start_time": "2020-04-24T19:46:54.587215Z"
    }
   },
   "outputs": [],
   "source": [
    "import pandas as pd\n",
    "from sklearn.feature_extraction.text import CountVectorizer\n",
    "from sklearn.decomposition import LatentDirichletAllocation as LDA\n",
    "from tqdm.notebook import tqdm\n",
    "import matplotlib.pyplot as plt\n",
    "%matplotlib inline\n",
    "\n",
    "pd.set_option('display.max_columns', 500)\n",
    "pd.set_option('display.max_rows', 500)\n",
    "\n",
    "import warnings\n",
    "warnings.filterwarnings(\"ignore\")"
   ]
  },
  {
   "cell_type": "code",
   "execution_count": 5,
   "metadata": {
    "ExecuteTime": {
     "end_time": "2020-04-24T19:46:15.268159Z",
     "start_time": "2020-04-24T19:46:15.264792Z"
    }
   },
   "outputs": [],
   "source": [
    "import nltk\n",
    "from nltk.corpus import stopwords "
   ]
  },
  {
   "cell_type": "code",
   "execution_count": 14,
   "metadata": {},
   "outputs": [],
   "source": [
    "OHCO = ['doc_id']"
   ]
  },
  {
   "cell_type": "code",
   "execution_count": 6,
   "metadata": {
    "ExecuteTime": {
     "end_time": "2020-04-24T19:40:48.104920Z",
     "start_time": "2020-04-24T19:40:47.649841Z"
    }
   },
   "outputs": [
    {
     "data": {
      "text/html": [
       "<div>\n",
       "<style scoped>\n",
       "    .dataframe tbody tr th:only-of-type {\n",
       "        vertical-align: middle;\n",
       "    }\n",
       "\n",
       "    .dataframe tbody tr th {\n",
       "        vertical-align: top;\n",
       "    }\n",
       "\n",
       "    .dataframe thead th {\n",
       "        text-align: right;\n",
       "    }\n",
       "</style>\n",
       "<table border=\"1\" class=\"dataframe\">\n",
       "  <thead>\n",
       "    <tr style=\"text-align: right;\">\n",
       "      <th></th>\n",
       "      <th>doc_content</th>\n",
       "      <th>doc_date</th>\n",
       "      <th>doc_id</th>\n",
       "      <th>doc_source</th>\n",
       "      <th>doc_title</th>\n",
       "      <th>doc_url</th>\n",
       "      <th>doc_lemma</th>\n",
       "    </tr>\n",
       "  </thead>\n",
       "  <tbody>\n",
       "    <tr>\n",
       "      <th>0</th>\n",
       "      <td>By YANAN WANG and MIKE STOBBE\\nBEIJING (AP) — ...</td>\n",
       "      <td>2020-01-08</td>\n",
       "      <td>983556</td>\n",
       "      <td>US News</td>\n",
       "      <td>Chinese Report Says Illnesses May Be From New ...</td>\n",
       "      <td>https://www.usnews.com/news/world/articles/202...</td>\n",
       "      <td>yanan wang mike stobbe beijing ( ap ) — prelim...</td>\n",
       "    </tr>\n",
       "    <tr>\n",
       "      <th>1</th>\n",
       "      <td>BEIJING (AP) — Health authorities in a central...</td>\n",
       "      <td>2020-01-10</td>\n",
       "      <td>985558</td>\n",
       "      <td>US News</td>\n",
       "      <td>China Reports 1st Death From New Type of Coron...</td>\n",
       "      <td>https://www.usnews.com/news/health-news/articl...</td>\n",
       "      <td>beijing ( ap ) — health authority central chin...</td>\n",
       "    </tr>\n",
       "    <tr>\n",
       "      <th>2</th>\n",
       "      <td>Here are some of the latest health and medical...</td>\n",
       "      <td>2020-01-13</td>\n",
       "      <td>987316</td>\n",
       "      <td>US News</td>\n",
       "      <td>Health Highlights: Jan. 13, 2020</td>\n",
       "      <td>https://www.usnews.com/news/health-news/articl...</td>\n",
       "      <td>late health medical news development , compile...</td>\n",
       "    </tr>\n",
       "    <tr>\n",
       "      <th>3</th>\n",
       "      <td>Here are some of the latest health and medical...</td>\n",
       "      <td>2020-01-14</td>\n",
       "      <td>988361</td>\n",
       "      <td>US News</td>\n",
       "      <td>Health Highlights: Jan. 14, 2020</td>\n",
       "      <td>https://www.usnews.com/news/health-news/articl...</td>\n",
       "      <td>late health medical news development , compile...</td>\n",
       "    </tr>\n",
       "    <tr>\n",
       "      <th>4</th>\n",
       "      <td>By MARI YAMAGUCHI, Associated Press\\nTOKYO (AP...</td>\n",
       "      <td>2020-01-16</td>\n",
       "      <td>989997</td>\n",
       "      <td>US News</td>\n",
       "      <td>Patient in Japan Confirmed as Having New Virus...</td>\n",
       "      <td>https://www.usnews.com/news/world/articles/202...</td>\n",
       "      <td>mari yamaguchi , associate press tokyo ( ap ) ...</td>\n",
       "    </tr>\n",
       "  </tbody>\n",
       "</table>\n",
       "</div>"
      ],
      "text/plain": [
       "                                         doc_content   doc_date  doc_id  \\\n",
       "0  By YANAN WANG and MIKE STOBBE\\nBEIJING (AP) — ... 2020-01-08  983556   \n",
       "1  BEIJING (AP) — Health authorities in a central... 2020-01-10  985558   \n",
       "2  Here are some of the latest health and medical... 2020-01-13  987316   \n",
       "3  Here are some of the latest health and medical... 2020-01-14  988361   \n",
       "4  By MARI YAMAGUCHI, Associated Press\\nTOKYO (AP... 2020-01-16  989997   \n",
       "\n",
       "  doc_source                                          doc_title  \\\n",
       "0    US News  Chinese Report Says Illnesses May Be From New ...   \n",
       "1    US News  China Reports 1st Death From New Type of Coron...   \n",
       "2    US News                   Health Highlights: Jan. 13, 2020   \n",
       "3    US News                   Health Highlights: Jan. 14, 2020   \n",
       "4    US News  Patient in Japan Confirmed as Having New Virus...   \n",
       "\n",
       "                                             doc_url  \\\n",
       "0  https://www.usnews.com/news/world/articles/202...   \n",
       "1  https://www.usnews.com/news/health-news/articl...   \n",
       "2  https://www.usnews.com/news/health-news/articl...   \n",
       "3  https://www.usnews.com/news/health-news/articl...   \n",
       "4  https://www.usnews.com/news/world/articles/202...   \n",
       "\n",
       "                                           doc_lemma  \n",
       "0  yanan wang mike stobbe beijing ( ap ) — prelim...  \n",
       "1  beijing ( ap ) — health authority central chin...  \n",
       "2  late health medical news development , compile...  \n",
       "3  late health medical news development , compile...  \n",
       "4  mari yamaguchi , associate press tokyo ( ap ) ...  "
      ]
     },
     "execution_count": 6,
     "metadata": {},
     "output_type": "execute_result"
    }
   ],
   "source": [
    "df = pd.read_csv('covid19_news.csv')\n",
    "df['doc_date'] = pd.to_datetime(df['doc_date'])\n",
    "df.head()"
   ]
  },
  {
   "cell_type": "markdown",
   "metadata": {},
   "source": [
    "## Latent Dirichlet Allocation (LDA)"
   ]
  },
  {
   "cell_type": "code",
   "execution_count": 7,
   "metadata": {
    "ExecuteTime": {
     "end_time": "2020-04-24T19:46:58.475105Z",
     "start_time": "2020-04-24T19:46:56.507641Z"
    }
   },
   "outputs": [],
   "source": [
    "stop_words = set(stopwords.words('english')) \n",
    "tokenizer = nltk.RegexpTokenizer(r\"\\w+\") # remove punctuation\n",
    "\n",
    "df['tokenize'] = 0\n",
    "\n",
    "for i in range(len(df)):\n",
    "    rm_words = tokenizer.tokenize(df['doc_lemma'][i].lower()) \n",
    "    df['tokenize'][i] = [w for w in rm_words if not w in stop_words] \n",
    "\n"
   ]
  },
  {
   "cell_type": "code",
   "execution_count": 8,
   "metadata": {},
   "outputs": [],
   "source": [
    "tfv = CountVectorizer(stop_words='english')\n",
    "tf = tfv.fit_transform(df['doc_lemma'])\n",
    "TERMS = tfv.get_feature_names()"
   ]
  },
  {
   "cell_type": "code",
   "execution_count": 9,
   "metadata": {},
   "outputs": [],
   "source": [
    "lda = LDA(n_components=5, max_iter=600, learning_offset=50., random_state=0)"
   ]
  },
  {
   "cell_type": "markdown",
   "metadata": {},
   "source": [
    "### Theta"
   ]
  },
  {
   "cell_type": "code",
   "execution_count": 10,
   "metadata": {},
   "outputs": [],
   "source": [
    "THETA = pd.DataFrame(lda.fit_transform(tf), index= df['doc_id'])\n",
    "THETA.columns.name = 'topic_id'"
   ]
  },
  {
   "cell_type": "code",
   "execution_count": 15,
   "metadata": {},
   "outputs": [
    {
     "data": {
      "text/html": [
       "<style  type=\"text/css\" >\n",
       "    #T_44e824c4_88a2_11ea_b5e7_e0d55e1c57e4row0_col0 {\n",
       "            background-color:  #fff7fb;\n",
       "            color:  #000000;\n",
       "        }    #T_44e824c4_88a2_11ea_b5e7_e0d55e1c57e4row0_col1 {\n",
       "            background-color:  #fff7fb;\n",
       "            color:  #000000;\n",
       "        }    #T_44e824c4_88a2_11ea_b5e7_e0d55e1c57e4row0_col2 {\n",
       "            background-color:  #f5eef6;\n",
       "            color:  #000000;\n",
       "        }    #T_44e824c4_88a2_11ea_b5e7_e0d55e1c57e4row0_col3 {\n",
       "            background-color:  #023858;\n",
       "            color:  #f1f1f1;\n",
       "        }    #T_44e824c4_88a2_11ea_b5e7_e0d55e1c57e4row0_col4 {\n",
       "            background-color:  #fff7fb;\n",
       "            color:  #000000;\n",
       "        }    #T_44e824c4_88a2_11ea_b5e7_e0d55e1c57e4row1_col0 {\n",
       "            background-color:  #fcf4fa;\n",
       "            color:  #000000;\n",
       "        }    #T_44e824c4_88a2_11ea_b5e7_e0d55e1c57e4row1_col1 {\n",
       "            background-color:  #81aed2;\n",
       "            color:  #000000;\n",
       "        }    #T_44e824c4_88a2_11ea_b5e7_e0d55e1c57e4row1_col2 {\n",
       "            background-color:  #d5d5e8;\n",
       "            color:  #000000;\n",
       "        }    #T_44e824c4_88a2_11ea_b5e7_e0d55e1c57e4row1_col3 {\n",
       "            background-color:  #7dacd1;\n",
       "            color:  #000000;\n",
       "        }    #T_44e824c4_88a2_11ea_b5e7_e0d55e1c57e4row1_col4 {\n",
       "            background-color:  #fff7fb;\n",
       "            color:  #000000;\n",
       "        }    #T_44e824c4_88a2_11ea_b5e7_e0d55e1c57e4row2_col0 {\n",
       "            background-color:  #fff7fb;\n",
       "            color:  #000000;\n",
       "        }    #T_44e824c4_88a2_11ea_b5e7_e0d55e1c57e4row2_col1 {\n",
       "            background-color:  #023858;\n",
       "            color:  #f1f1f1;\n",
       "        }    #T_44e824c4_88a2_11ea_b5e7_e0d55e1c57e4row2_col2 {\n",
       "            background-color:  #d2d3e7;\n",
       "            color:  #000000;\n",
       "        }    #T_44e824c4_88a2_11ea_b5e7_e0d55e1c57e4row2_col3 {\n",
       "            background-color:  #fff7fb;\n",
       "            color:  #000000;\n",
       "        }    #T_44e824c4_88a2_11ea_b5e7_e0d55e1c57e4row2_col4 {\n",
       "            background-color:  #fef6fb;\n",
       "            color:  #000000;\n",
       "        }    #T_44e824c4_88a2_11ea_b5e7_e0d55e1c57e4row3_col0 {\n",
       "            background-color:  #fff7fb;\n",
       "            color:  #000000;\n",
       "        }    #T_44e824c4_88a2_11ea_b5e7_e0d55e1c57e4row3_col1 {\n",
       "            background-color:  #5a9ec9;\n",
       "            color:  #000000;\n",
       "        }    #T_44e824c4_88a2_11ea_b5e7_e0d55e1c57e4row3_col2 {\n",
       "            background-color:  #fff7fb;\n",
       "            color:  #000000;\n",
       "        }    #T_44e824c4_88a2_11ea_b5e7_e0d55e1c57e4row3_col3 {\n",
       "            background-color:  #eae6f1;\n",
       "            color:  #000000;\n",
       "        }    #T_44e824c4_88a2_11ea_b5e7_e0d55e1c57e4row3_col4 {\n",
       "            background-color:  #023858;\n",
       "            color:  #f1f1f1;\n",
       "        }    #T_44e824c4_88a2_11ea_b5e7_e0d55e1c57e4row4_col0 {\n",
       "            background-color:  #023858;\n",
       "            color:  #f1f1f1;\n",
       "        }    #T_44e824c4_88a2_11ea_b5e7_e0d55e1c57e4row4_col1 {\n",
       "            background-color:  #fff7fb;\n",
       "            color:  #000000;\n",
       "        }    #T_44e824c4_88a2_11ea_b5e7_e0d55e1c57e4row4_col2 {\n",
       "            background-color:  #e0deed;\n",
       "            color:  #000000;\n",
       "        }    #T_44e824c4_88a2_11ea_b5e7_e0d55e1c57e4row4_col3 {\n",
       "            background-color:  #f8f1f8;\n",
       "            color:  #000000;\n",
       "        }    #T_44e824c4_88a2_11ea_b5e7_e0d55e1c57e4row4_col4 {\n",
       "            background-color:  #fff7fb;\n",
       "            color:  #000000;\n",
       "        }    #T_44e824c4_88a2_11ea_b5e7_e0d55e1c57e4row5_col0 {\n",
       "            background-color:  #fff7fb;\n",
       "            color:  #000000;\n",
       "        }    #T_44e824c4_88a2_11ea_b5e7_e0d55e1c57e4row5_col1 {\n",
       "            background-color:  #fff7fb;\n",
       "            color:  #000000;\n",
       "        }    #T_44e824c4_88a2_11ea_b5e7_e0d55e1c57e4row5_col2 {\n",
       "            background-color:  #023858;\n",
       "            color:  #f1f1f1;\n",
       "        }    #T_44e824c4_88a2_11ea_b5e7_e0d55e1c57e4row5_col3 {\n",
       "            background-color:  #6fa7ce;\n",
       "            color:  #000000;\n",
       "        }    #T_44e824c4_88a2_11ea_b5e7_e0d55e1c57e4row5_col4 {\n",
       "            background-color:  #fff7fb;\n",
       "            color:  #000000;\n",
       "        }    #T_44e824c4_88a2_11ea_b5e7_e0d55e1c57e4row6_col0 {\n",
       "            background-color:  #03456c;\n",
       "            color:  #f1f1f1;\n",
       "        }    #T_44e824c4_88a2_11ea_b5e7_e0d55e1c57e4row6_col1 {\n",
       "            background-color:  #fff7fb;\n",
       "            color:  #000000;\n",
       "        }    #T_44e824c4_88a2_11ea_b5e7_e0d55e1c57e4row6_col2 {\n",
       "            background-color:  #fff7fb;\n",
       "            color:  #000000;\n",
       "        }    #T_44e824c4_88a2_11ea_b5e7_e0d55e1c57e4row6_col3 {\n",
       "            background-color:  #dedcec;\n",
       "            color:  #000000;\n",
       "        }    #T_44e824c4_88a2_11ea_b5e7_e0d55e1c57e4row6_col4 {\n",
       "            background-color:  #fff7fb;\n",
       "            color:  #000000;\n",
       "        }    #T_44e824c4_88a2_11ea_b5e7_e0d55e1c57e4row7_col0 {\n",
       "            background-color:  #9fbad9;\n",
       "            color:  #000000;\n",
       "        }    #T_44e824c4_88a2_11ea_b5e7_e0d55e1c57e4row7_col1 {\n",
       "            background-color:  #fff7fb;\n",
       "            color:  #000000;\n",
       "        }    #T_44e824c4_88a2_11ea_b5e7_e0d55e1c57e4row7_col2 {\n",
       "            background-color:  #fff7fb;\n",
       "            color:  #000000;\n",
       "        }    #T_44e824c4_88a2_11ea_b5e7_e0d55e1c57e4row7_col3 {\n",
       "            background-color:  #3991c1;\n",
       "            color:  #000000;\n",
       "        }    #T_44e824c4_88a2_11ea_b5e7_e0d55e1c57e4row7_col4 {\n",
       "            background-color:  #e4e1ef;\n",
       "            color:  #000000;\n",
       "        }    #T_44e824c4_88a2_11ea_b5e7_e0d55e1c57e4row8_col0 {\n",
       "            background-color:  #dad9ea;\n",
       "            color:  #000000;\n",
       "        }    #T_44e824c4_88a2_11ea_b5e7_e0d55e1c57e4row8_col1 {\n",
       "            background-color:  #045a8d;\n",
       "            color:  #f1f1f1;\n",
       "        }    #T_44e824c4_88a2_11ea_b5e7_e0d55e1c57e4row8_col2 {\n",
       "            background-color:  #fff7fb;\n",
       "            color:  #000000;\n",
       "        }    #T_44e824c4_88a2_11ea_b5e7_e0d55e1c57e4row8_col3 {\n",
       "            background-color:  #fef6fa;\n",
       "            color:  #000000;\n",
       "        }    #T_44e824c4_88a2_11ea_b5e7_e0d55e1c57e4row8_col4 {\n",
       "            background-color:  #ebe6f2;\n",
       "            color:  #000000;\n",
       "        }    #T_44e824c4_88a2_11ea_b5e7_e0d55e1c57e4row9_col0 {\n",
       "            background-color:  #fef6fb;\n",
       "            color:  #000000;\n",
       "        }    #T_44e824c4_88a2_11ea_b5e7_e0d55e1c57e4row9_col1 {\n",
       "            background-color:  #8eb3d5;\n",
       "            color:  #000000;\n",
       "        }    #T_44e824c4_88a2_11ea_b5e7_e0d55e1c57e4row9_col2 {\n",
       "            background-color:  #fef6fa;\n",
       "            color:  #000000;\n",
       "        }    #T_44e824c4_88a2_11ea_b5e7_e0d55e1c57e4row9_col3 {\n",
       "            background-color:  #358fc0;\n",
       "            color:  #000000;\n",
       "        }    #T_44e824c4_88a2_11ea_b5e7_e0d55e1c57e4row9_col4 {\n",
       "            background-color:  #fef6fa;\n",
       "            color:  #000000;\n",
       "        }</style><table id=\"T_44e824c4_88a2_11ea_b5e7_e0d55e1c57e4\" ><thead>    <tr>        <th class=\"index_name level0\" >topic_id</th>        <th class=\"col_heading level0 col0\" >0</th>        <th class=\"col_heading level0 col1\" >1</th>        <th class=\"col_heading level0 col2\" >2</th>        <th class=\"col_heading level0 col3\" >3</th>        <th class=\"col_heading level0 col4\" >4</th>    </tr>    <tr>        <th class=\"index_name level0\" >doc_id</th>        <th class=\"blank\" ></th>        <th class=\"blank\" ></th>        <th class=\"blank\" ></th>        <th class=\"blank\" ></th>        <th class=\"blank\" ></th>    </tr></thead><tbody>\n",
       "                <tr>\n",
       "                        <th id=\"T_44e824c4_88a2_11ea_b5e7_e0d55e1c57e4level0_row0\" class=\"row_heading level0 row0\" >1035632</th>\n",
       "                        <td id=\"T_44e824c4_88a2_11ea_b5e7_e0d55e1c57e4row0_col0\" class=\"data row0 col0\" >0.000664066</td>\n",
       "                        <td id=\"T_44e824c4_88a2_11ea_b5e7_e0d55e1c57e4row0_col1\" class=\"data row0 col1\" >0.000645346</td>\n",
       "                        <td id=\"T_44e824c4_88a2_11ea_b5e7_e0d55e1c57e4row0_col2\" class=\"data row0 col2\" >0.0349882</td>\n",
       "                        <td id=\"T_44e824c4_88a2_11ea_b5e7_e0d55e1c57e4row0_col3\" class=\"data row0 col3\" >0.963051</td>\n",
       "                        <td id=\"T_44e824c4_88a2_11ea_b5e7_e0d55e1c57e4row0_col4\" class=\"data row0 col4\" >0.000651883</td>\n",
       "            </tr>\n",
       "            <tr>\n",
       "                        <th id=\"T_44e824c4_88a2_11ea_b5e7_e0d55e1c57e4level0_row1\" class=\"row_heading level0 row1\" >1037427</th>\n",
       "                        <td id=\"T_44e824c4_88a2_11ea_b5e7_e0d55e1c57e4row1_col0\" class=\"data row1 col0\" >0.0178945</td>\n",
       "                        <td id=\"T_44e824c4_88a2_11ea_b5e7_e0d55e1c57e4row1_col1\" class=\"data row1 col1\" >0.405656</td>\n",
       "                        <td id=\"T_44e824c4_88a2_11ea_b5e7_e0d55e1c57e4row1_col2\" class=\"data row1 col2\" >0.115079</td>\n",
       "                        <td id=\"T_44e824c4_88a2_11ea_b5e7_e0d55e1c57e4row1_col3\" class=\"data row1 col3\" >0.461019</td>\n",
       "                        <td id=\"T_44e824c4_88a2_11ea_b5e7_e0d55e1c57e4row1_col4\" class=\"data row1 col4\" >0.000351392</td>\n",
       "            </tr>\n",
       "            <tr>\n",
       "                        <th id=\"T_44e824c4_88a2_11ea_b5e7_e0d55e1c57e4level0_row2\" class=\"row_heading level0 row2\" >1031451</th>\n",
       "                        <td id=\"T_44e824c4_88a2_11ea_b5e7_e0d55e1c57e4row2_col0\" class=\"data row2 col0\" >0.00203523</td>\n",
       "                        <td id=\"T_44e824c4_88a2_11ea_b5e7_e0d55e1c57e4row2_col1\" class=\"data row2 col1\" >0.87146</td>\n",
       "                        <td id=\"T_44e824c4_88a2_11ea_b5e7_e0d55e1c57e4row2_col2\" class=\"data row2 col2\" >0.122439</td>\n",
       "                        <td id=\"T_44e824c4_88a2_11ea_b5e7_e0d55e1c57e4row2_col3\" class=\"data row2 col3\" >0.00203648</td>\n",
       "                        <td id=\"T_44e824c4_88a2_11ea_b5e7_e0d55e1c57e4row2_col4\" class=\"data row2 col4\" >0.00202915</td>\n",
       "            </tr>\n",
       "            <tr>\n",
       "                        <th id=\"T_44e824c4_88a2_11ea_b5e7_e0d55e1c57e4level0_row3\" class=\"row_heading level0 row3\" >994493</th>\n",
       "                        <td id=\"T_44e824c4_88a2_11ea_b5e7_e0d55e1c57e4row3_col0\" class=\"data row3 col0\" >0.00082365</td>\n",
       "                        <td id=\"T_44e824c4_88a2_11ea_b5e7_e0d55e1c57e4row3_col1\" class=\"data row3 col1\" >0.480572</td>\n",
       "                        <td id=\"T_44e824c4_88a2_11ea_b5e7_e0d55e1c57e4row3_col2\" class=\"data row3 col2\" >0.000814114</td>\n",
       "                        <td id=\"T_44e824c4_88a2_11ea_b5e7_e0d55e1c57e4row3_col3\" class=\"data row3 col3\" >0.133131</td>\n",
       "                        <td id=\"T_44e824c4_88a2_11ea_b5e7_e0d55e1c57e4row3_col4\" class=\"data row3 col4\" >0.38466</td>\n",
       "            </tr>\n",
       "            <tr>\n",
       "                        <th id=\"T_44e824c4_88a2_11ea_b5e7_e0d55e1c57e4level0_row4\" class=\"row_heading level0 row4\" >1036269</th>\n",
       "                        <td id=\"T_44e824c4_88a2_11ea_b5e7_e0d55e1c57e4row4_col0\" class=\"data row4 col0\" >0.859484</td>\n",
       "                        <td id=\"T_44e824c4_88a2_11ea_b5e7_e0d55e1c57e4row4_col1\" class=\"data row4 col1\" >0.000326626</td>\n",
       "                        <td id=\"T_44e824c4_88a2_11ea_b5e7_e0d55e1c57e4row4_col2\" class=\"data row4 col2\" >0.0897494</td>\n",
       "                        <td id=\"T_44e824c4_88a2_11ea_b5e7_e0d55e1c57e4row4_col3\" class=\"data row4 col3\" >0.0501148</td>\n",
       "                        <td id=\"T_44e824c4_88a2_11ea_b5e7_e0d55e1c57e4row4_col4\" class=\"data row4 col4\" >0.000325154</td>\n",
       "            </tr>\n",
       "            <tr>\n",
       "                        <th id=\"T_44e824c4_88a2_11ea_b5e7_e0d55e1c57e4level0_row5\" class=\"row_heading level0 row5\" >1035412</th>\n",
       "                        <td id=\"T_44e824c4_88a2_11ea_b5e7_e0d55e1c57e4row5_col0\" class=\"data row5 col0\" >0.00111178</td>\n",
       "                        <td id=\"T_44e824c4_88a2_11ea_b5e7_e0d55e1c57e4row5_col1\" class=\"data row5 col1\" >0.00110283</td>\n",
       "                        <td id=\"T_44e824c4_88a2_11ea_b5e7_e0d55e1c57e4row5_col2\" class=\"data row5 col2\" >0.506437</td>\n",
       "                        <td id=\"T_44e824c4_88a2_11ea_b5e7_e0d55e1c57e4row5_col3\" class=\"data row5 col3\" >0.490259</td>\n",
       "                        <td id=\"T_44e824c4_88a2_11ea_b5e7_e0d55e1c57e4row5_col4\" class=\"data row5 col4\" >0.00109032</td>\n",
       "            </tr>\n",
       "            <tr>\n",
       "                        <th id=\"T_44e824c4_88a2_11ea_b5e7_e0d55e1c57e4level0_row6\" class=\"row_heading level0 row6\" >1033801</th>\n",
       "                        <td id=\"T_44e824c4_88a2_11ea_b5e7_e0d55e1c57e4row6_col0\" class=\"data row6 col0\" >0.816456</td>\n",
       "                        <td id=\"T_44e824c4_88a2_11ea_b5e7_e0d55e1c57e4row6_col1\" class=\"data row6 col1\" >0.000393549</td>\n",
       "                        <td id=\"T_44e824c4_88a2_11ea_b5e7_e0d55e1c57e4row6_col2\" class=\"data row6 col2\" >0.00040336</td>\n",
       "                        <td id=\"T_44e824c4_88a2_11ea_b5e7_e0d55e1c57e4row6_col3\" class=\"data row6 col3\" >0.182353</td>\n",
       "                        <td id=\"T_44e824c4_88a2_11ea_b5e7_e0d55e1c57e4row6_col4\" class=\"data row6 col4\" >0.000393648</td>\n",
       "            </tr>\n",
       "            <tr>\n",
       "                        <th id=\"T_44e824c4_88a2_11ea_b5e7_e0d55e1c57e4level0_row7\" class=\"row_heading level0 row7\" >1039638</th>\n",
       "                        <td id=\"T_44e824c4_88a2_11ea_b5e7_e0d55e1c57e4row7_col0\" class=\"data row7 col0\" >0.336609</td>\n",
       "                        <td id=\"T_44e824c4_88a2_11ea_b5e7_e0d55e1c57e4row7_col1\" class=\"data row7 col1\" >0.0013634</td>\n",
       "                        <td id=\"T_44e824c4_88a2_11ea_b5e7_e0d55e1c57e4row7_col2\" class=\"data row7 col2\" >0.00136462</td>\n",
       "                        <td id=\"T_44e824c4_88a2_11ea_b5e7_e0d55e1c57e4row7_col3\" class=\"data row7 col3\" >0.598338</td>\n",
       "                        <td id=\"T_44e824c4_88a2_11ea_b5e7_e0d55e1c57e4row7_col4\" class=\"data row7 col4\" >0.0623255</td>\n",
       "            </tr>\n",
       "            <tr>\n",
       "                        <th id=\"T_44e824c4_88a2_11ea_b5e7_e0d55e1c57e4level0_row8\" class=\"row_heading level0 row8\" >1007257</th>\n",
       "                        <td id=\"T_44e824c4_88a2_11ea_b5e7_e0d55e1c57e4row8_col0\" class=\"data row8 col0\" >0.17581</td>\n",
       "                        <td id=\"T_44e824c4_88a2_11ea_b5e7_e0d55e1c57e4row8_col1\" class=\"data row8 col1\" >0.760376</td>\n",
       "                        <td id=\"T_44e824c4_88a2_11ea_b5e7_e0d55e1c57e4row8_col2\" class=\"data row8 col2\" >0.00065558</td>\n",
       "                        <td id=\"T_44e824c4_88a2_11ea_b5e7_e0d55e1c57e4row8_col3\" class=\"data row8 col3\" >0.0128889</td>\n",
       "                        <td id=\"T_44e824c4_88a2_11ea_b5e7_e0d55e1c57e4row8_col4\" class=\"data row8 col4\" >0.0502692</td>\n",
       "            </tr>\n",
       "            <tr>\n",
       "                        <th id=\"T_44e824c4_88a2_11ea_b5e7_e0d55e1c57e4level0_row9\" class=\"row_heading level0 row9\" >1027799</th>\n",
       "                        <td id=\"T_44e824c4_88a2_11ea_b5e7_e0d55e1c57e4row9_col0\" class=\"data row9 col0\" >0.00440932</td>\n",
       "                        <td id=\"T_44e824c4_88a2_11ea_b5e7_e0d55e1c57e4row9_col1\" class=\"data row9 col1\" >0.381428</td>\n",
       "                        <td id=\"T_44e824c4_88a2_11ea_b5e7_e0d55e1c57e4row9_col2\" class=\"data row9 col2\" >0.00439347</td>\n",
       "                        <td id=\"T_44e824c4_88a2_11ea_b5e7_e0d55e1c57e4row9_col3\" class=\"data row9 col3\" >0.605227</td>\n",
       "                        <td id=\"T_44e824c4_88a2_11ea_b5e7_e0d55e1c57e4row9_col4\" class=\"data row9 col4\" >0.00454197</td>\n",
       "            </tr>\n",
       "    </tbody></table>"
      ],
      "text/plain": [
       "<pandas.io.formats.style.Styler at 0x7f8b4619f2b0>"
      ]
     },
     "execution_count": 15,
     "metadata": {},
     "output_type": "execute_result"
    }
   ],
   "source": [
    "THETA.sample(10).style.background_gradient()"
   ]
  },
  {
   "cell_type": "markdown",
   "metadata": {},
   "source": [
    "### Phi"
   ]
  },
  {
   "cell_type": "code",
   "execution_count": 12,
   "metadata": {},
   "outputs": [
    {
     "data": {
      "text/html": [
       "<style  type=\"text/css\" >\n",
       "    #T_86e7074c_88a1_11ea_b5e7_e0d55e1c57e4row0_col0 {\n",
       "            background-color:  #f3edf5;\n",
       "            color:  #000000;\n",
       "        }    #T_86e7074c_88a1_11ea_b5e7_e0d55e1c57e4row0_col1 {\n",
       "            background-color:  #67a4cc;\n",
       "            color:  #000000;\n",
       "        }    #T_86e7074c_88a1_11ea_b5e7_e0d55e1c57e4row0_col2 {\n",
       "            background-color:  #cccfe5;\n",
       "            color:  #000000;\n",
       "        }    #T_86e7074c_88a1_11ea_b5e7_e0d55e1c57e4row0_col3 {\n",
       "            background-color:  #fff7fb;\n",
       "            color:  #000000;\n",
       "        }    #T_86e7074c_88a1_11ea_b5e7_e0d55e1c57e4row0_col4 {\n",
       "            background-color:  #bcc7e1;\n",
       "            color:  #000000;\n",
       "        }    #T_86e7074c_88a1_11ea_b5e7_e0d55e1c57e4row1_col0 {\n",
       "            background-color:  #fff7fb;\n",
       "            color:  #000000;\n",
       "        }    #T_86e7074c_88a1_11ea_b5e7_e0d55e1c57e4row1_col1 {\n",
       "            background-color:  #056caa;\n",
       "            color:  #f1f1f1;\n",
       "        }    #T_86e7074c_88a1_11ea_b5e7_e0d55e1c57e4row1_col2 {\n",
       "            background-color:  #fff7fb;\n",
       "            color:  #000000;\n",
       "        }    #T_86e7074c_88a1_11ea_b5e7_e0d55e1c57e4row1_col3 {\n",
       "            background-color:  #fff7fb;\n",
       "            color:  #000000;\n",
       "        }    #T_86e7074c_88a1_11ea_b5e7_e0d55e1c57e4row1_col4 {\n",
       "            background-color:  #eee8f3;\n",
       "            color:  #000000;\n",
       "        }    #T_86e7074c_88a1_11ea_b5e7_e0d55e1c57e4row2_col0 {\n",
       "            background-color:  #fff7fb;\n",
       "            color:  #000000;\n",
       "        }    #T_86e7074c_88a1_11ea_b5e7_e0d55e1c57e4row2_col1 {\n",
       "            background-color:  #023858;\n",
       "            color:  #f1f1f1;\n",
       "        }    #T_86e7074c_88a1_11ea_b5e7_e0d55e1c57e4row2_col2 {\n",
       "            background-color:  #fff7fb;\n",
       "            color:  #000000;\n",
       "        }    #T_86e7074c_88a1_11ea_b5e7_e0d55e1c57e4row2_col3 {\n",
       "            background-color:  #023858;\n",
       "            color:  #f1f1f1;\n",
       "        }    #T_86e7074c_88a1_11ea_b5e7_e0d55e1c57e4row2_col4 {\n",
       "            background-color:  #fff7fb;\n",
       "            color:  #000000;\n",
       "        }    #T_86e7074c_88a1_11ea_b5e7_e0d55e1c57e4row3_col0 {\n",
       "            background-color:  #faf3f9;\n",
       "            color:  #000000;\n",
       "        }    #T_86e7074c_88a1_11ea_b5e7_e0d55e1c57e4row3_col1 {\n",
       "            background-color:  #fff7fb;\n",
       "            color:  #000000;\n",
       "        }    #T_86e7074c_88a1_11ea_b5e7_e0d55e1c57e4row3_col2 {\n",
       "            background-color:  #023858;\n",
       "            color:  #f1f1f1;\n",
       "        }    #T_86e7074c_88a1_11ea_b5e7_e0d55e1c57e4row3_col3 {\n",
       "            background-color:  #fff7fb;\n",
       "            color:  #000000;\n",
       "        }    #T_86e7074c_88a1_11ea_b5e7_e0d55e1c57e4row3_col4 {\n",
       "            background-color:  #fff7fb;\n",
       "            color:  #000000;\n",
       "        }    #T_86e7074c_88a1_11ea_b5e7_e0d55e1c57e4row4_col0 {\n",
       "            background-color:  #023858;\n",
       "            color:  #f1f1f1;\n",
       "        }    #T_86e7074c_88a1_11ea_b5e7_e0d55e1c57e4row4_col1 {\n",
       "            background-color:  #7eadd1;\n",
       "            color:  #000000;\n",
       "        }    #T_86e7074c_88a1_11ea_b5e7_e0d55e1c57e4row4_col2 {\n",
       "            background-color:  #7eadd1;\n",
       "            color:  #000000;\n",
       "        }    #T_86e7074c_88a1_11ea_b5e7_e0d55e1c57e4row4_col3 {\n",
       "            background-color:  #fff7fb;\n",
       "            color:  #000000;\n",
       "        }    #T_86e7074c_88a1_11ea_b5e7_e0d55e1c57e4row4_col4 {\n",
       "            background-color:  #023858;\n",
       "            color:  #f1f1f1;\n",
       "        }</style><table id=\"T_86e7074c_88a1_11ea_b5e7_e0d55e1c57e4\" ><thead>    <tr>        <th class=\"index_name level0\" >topic_id</th>        <th class=\"col_heading level0 col0\" >0</th>        <th class=\"col_heading level0 col1\" >1</th>        <th class=\"col_heading level0 col2\" >2</th>        <th class=\"col_heading level0 col3\" >3</th>        <th class=\"col_heading level0 col4\" >4</th>    </tr>    <tr>        <th class=\"index_name level0\" >term_str</th>        <th class=\"blank\" ></th>        <th class=\"blank\" ></th>        <th class=\"blank\" ></th>        <th class=\"blank\" ></th>        <th class=\"blank\" ></th>    </tr></thead><tbody>\n",
       "                <tr>\n",
       "                        <th id=\"T_86e7074c_88a1_11ea_b5e7_e0d55e1c57e4level0_row0\" class=\"row_heading level0 row0\" >torment</th>\n",
       "                        <td id=\"T_86e7074c_88a1_11ea_b5e7_e0d55e1c57e4row0_col0\" class=\"data row0 col0\" >2.49451</td>\n",
       "                        <td id=\"T_86e7074c_88a1_11ea_b5e7_e0d55e1c57e4row0_col1\" class=\"data row0 col1\" >0.201024</td>\n",
       "                        <td id=\"T_86e7074c_88a1_11ea_b5e7_e0d55e1c57e4row0_col2\" class=\"data row0 col2\" >0.20159</td>\n",
       "                        <td id=\"T_86e7074c_88a1_11ea_b5e7_e0d55e1c57e4row0_col3\" class=\"data row0 col3\" >0.200597</td>\n",
       "                        <td id=\"T_86e7074c_88a1_11ea_b5e7_e0d55e1c57e4row0_col4\" class=\"data row0 col4\" >2.90228</td>\n",
       "            </tr>\n",
       "            <tr>\n",
       "                        <th id=\"T_86e7074c_88a1_11ea_b5e7_e0d55e1c57e4level0_row1\" class=\"row_heading level0 row1\" >marmara</th>\n",
       "                        <td id=\"T_86e7074c_88a1_11ea_b5e7_e0d55e1c57e4row1_col0\" class=\"data row1 col0\" >0.2</td>\n",
       "                        <td id=\"T_86e7074c_88a1_11ea_b5e7_e0d55e1c57e4row1_col1\" class=\"data row1 col1\" >0.201498</td>\n",
       "                        <td id=\"T_86e7074c_88a1_11ea_b5e7_e0d55e1c57e4row1_col2\" class=\"data row1 col2\" >0.2</td>\n",
       "                        <td id=\"T_86e7074c_88a1_11ea_b5e7_e0d55e1c57e4row1_col3\" class=\"data row1 col3\" >0.200418</td>\n",
       "                        <td id=\"T_86e7074c_88a1_11ea_b5e7_e0d55e1c57e4row1_col4\" class=\"data row1 col4\" >1.19808</td>\n",
       "            </tr>\n",
       "            <tr>\n",
       "                        <th id=\"T_86e7074c_88a1_11ea_b5e7_e0d55e1c57e4level0_row2\" class=\"row_heading level0 row2\" >packaged</th>\n",
       "                        <td id=\"T_86e7074c_88a1_11ea_b5e7_e0d55e1c57e4row2_col0\" class=\"data row2 col0\" >0.20113</td>\n",
       "                        <td id=\"T_86e7074c_88a1_11ea_b5e7_e0d55e1c57e4row2_col1\" class=\"data row2 col1\" >0.201943</td>\n",
       "                        <td id=\"T_86e7074c_88a1_11ea_b5e7_e0d55e1c57e4row2_col2\" class=\"data row2 col2\" >0.2</td>\n",
       "                        <td id=\"T_86e7074c_88a1_11ea_b5e7_e0d55e1c57e4row2_col3\" class=\"data row2 col3\" >2.19693</td>\n",
       "                        <td id=\"T_86e7074c_88a1_11ea_b5e7_e0d55e1c57e4row2_col4\" class=\"data row2 col4\" >0.2</td>\n",
       "            </tr>\n",
       "            <tr>\n",
       "                        <th id=\"T_86e7074c_88a1_11ea_b5e7_e0d55e1c57e4level0_row3\" class=\"row_heading level0 row3\" >clicked</th>\n",
       "                        <td id=\"T_86e7074c_88a1_11ea_b5e7_e0d55e1c57e4row3_col0\" class=\"data row3 col0\" >1.18916</td>\n",
       "                        <td id=\"T_86e7074c_88a1_11ea_b5e7_e0d55e1c57e4row3_col1\" class=\"data row3 col1\" >0.2</td>\n",
       "                        <td id=\"T_86e7074c_88a1_11ea_b5e7_e0d55e1c57e4row3_col2\" class=\"data row3 col2\" >0.206014</td>\n",
       "                        <td id=\"T_86e7074c_88a1_11ea_b5e7_e0d55e1c57e4row3_col3\" class=\"data row3 col3\" >0.2</td>\n",
       "                        <td id=\"T_86e7074c_88a1_11ea_b5e7_e0d55e1c57e4row3_col4\" class=\"data row3 col4\" >0.204827</td>\n",
       "            </tr>\n",
       "            <tr>\n",
       "                        <th id=\"T_86e7074c_88a1_11ea_b5e7_e0d55e1c57e4level0_row4\" class=\"row_heading level0 row4\" >aisle</th>\n",
       "                        <td id=\"T_86e7074c_88a1_11ea_b5e7_e0d55e1c57e4row4_col0\" class=\"data row4 col0\" >28.5021</td>\n",
       "                        <td id=\"T_86e7074c_88a1_11ea_b5e7_e0d55e1c57e4row4_col1\" class=\"data row4 col1\" >0.200925</td>\n",
       "                        <td id=\"T_86e7074c_88a1_11ea_b5e7_e0d55e1c57e4row4_col2\" class=\"data row4 col2\" >0.202845</td>\n",
       "                        <td id=\"T_86e7074c_88a1_11ea_b5e7_e0d55e1c57e4row4_col3\" class=\"data row4 col3\" >0.202737</td>\n",
       "                        <td id=\"T_86e7074c_88a1_11ea_b5e7_e0d55e1c57e4row4_col4\" class=\"data row4 col4\" >8.89139</td>\n",
       "            </tr>\n",
       "    </tbody></table>"
      ],
      "text/plain": [
       "<pandas.io.formats.style.Styler at 0x7f8b3f8a19d0>"
      ]
     },
     "execution_count": 12,
     "metadata": {},
     "output_type": "execute_result"
    }
   ],
   "source": [
    "PHI = pd.DataFrame(lda.components_, columns=TERMS)\n",
    "PHI.index.name = 'topic_id'\n",
    "PHI.columns.name  = 'term_str'\n",
    "PHI.T.sample(5).style.background_gradient()"
   ]
  },
  {
   "cell_type": "markdown",
   "metadata": {},
   "source": [
    "## Inspect Result\n",
    "### Get Top Terms per Topic"
   ]
  },
  {
   "cell_type": "code",
   "execution_count": 12,
   "metadata": {},
   "outputs": [
    {
     "data": {
      "text/html": [
       "<div>\n",
       "<style scoped>\n",
       "    .dataframe tbody tr th:only-of-type {\n",
       "        vertical-align: middle;\n",
       "    }\n",
       "\n",
       "    .dataframe tbody tr th {\n",
       "        vertical-align: top;\n",
       "    }\n",
       "\n",
       "    .dataframe thead th {\n",
       "        text-align: right;\n",
       "    }\n",
       "</style>\n",
       "<table border=\"1\" class=\"dataframe\">\n",
       "  <thead>\n",
       "    <tr style=\"text-align: right;\">\n",
       "      <th>term_str</th>\n",
       "      <th>0</th>\n",
       "      <th>1</th>\n",
       "      <th>2</th>\n",
       "      <th>3</th>\n",
       "      <th>4</th>\n",
       "      <th>5</th>\n",
       "      <th>6</th>\n",
       "      <th>7</th>\n",
       "      <th>8</th>\n",
       "      <th>9</th>\n",
       "      <th>label</th>\n",
       "    </tr>\n",
       "    <tr>\n",
       "      <th>topic_id</th>\n",
       "      <th></th>\n",
       "      <th></th>\n",
       "      <th></th>\n",
       "      <th></th>\n",
       "      <th></th>\n",
       "      <th></th>\n",
       "      <th></th>\n",
       "      <th></th>\n",
       "      <th></th>\n",
       "      <th></th>\n",
       "      <th></th>\n",
       "    </tr>\n",
       "  </thead>\n",
       "  <tbody>\n",
       "    <tr>\n",
       "      <th>0</th>\n",
       "      <td>say</td>\n",
       "      <td>trump</td>\n",
       "      <td>coronavirus</td>\n",
       "      <td>president</td>\n",
       "      <td>people</td>\n",
       "      <td>american</td>\n",
       "      <td>house</td>\n",
       "      <td>make</td>\n",
       "      <td>government</td>\n",
       "      <td>need</td>\n",
       "      <td>0 say trump coronavirus president people ameri...</td>\n",
       "    </tr>\n",
       "    <tr>\n",
       "      <th>1</th>\n",
       "      <td>say</td>\n",
       "      <td>china</td>\n",
       "      <td>case</td>\n",
       "      <td>coronavirus</td>\n",
       "      <td>virus</td>\n",
       "      <td>people</td>\n",
       "      <td>reuters</td>\n",
       "      <td>country</td>\n",
       "      <td>health</td>\n",
       "      <td>new</td>\n",
       "      <td>1 say china case coronavirus virus people reut...</td>\n",
       "    </tr>\n",
       "    <tr>\n",
       "      <th>2</th>\n",
       "      <td>say</td>\n",
       "      <td>game</td>\n",
       "      <td>event</td>\n",
       "      <td>march</td>\n",
       "      <td>coronavirus</td>\n",
       "      <td>biden</td>\n",
       "      <td>election</td>\n",
       "      <td>team</td>\n",
       "      <td>postpone</td>\n",
       "      <td>cancel</td>\n",
       "      <td>2 say game event march coronavirus biden elect...</td>\n",
       "    </tr>\n",
       "    <tr>\n",
       "      <th>3</th>\n",
       "      <td>say</td>\n",
       "      <td>state</td>\n",
       "      <td>people</td>\n",
       "      <td>health</td>\n",
       "      <td>test</td>\n",
       "      <td>new</td>\n",
       "      <td>coronavirus</td>\n",
       "      <td>virus</td>\n",
       "      <td>case</td>\n",
       "      <td>associate</td>\n",
       "      <td>3 say state people health test new coronavirus...</td>\n",
       "    </tr>\n",
       "    <tr>\n",
       "      <th>4</th>\n",
       "      <td>coronavirus</td>\n",
       "      <td>china</td>\n",
       "      <td>virus</td>\n",
       "      <td>news</td>\n",
       "      <td>disease</td>\n",
       "      <td>chinese</td>\n",
       "      <td>spread</td>\n",
       "      <td>report</td>\n",
       "      <td>cdc</td>\n",
       "      <td>wuhan</td>\n",
       "      <td>4 coronavirus china virus news disease chinese...</td>\n",
       "    </tr>\n",
       "  </tbody>\n",
       "</table>\n",
       "</div>"
      ],
      "text/plain": [
       "term_str            0      1            2            3            4         5  \\\n",
       "topic_id                                                                        \n",
       "0                 say  trump  coronavirus    president       people  american   \n",
       "1                 say  china         case  coronavirus        virus    people   \n",
       "2                 say   game        event        march  coronavirus     biden   \n",
       "3                 say  state       people       health         test       new   \n",
       "4         coronavirus  china        virus         news      disease   chinese   \n",
       "\n",
       "term_str            6        7           8          9  \\\n",
       "topic_id                                                \n",
       "0               house     make  government       need   \n",
       "1             reuters  country      health        new   \n",
       "2            election     team    postpone     cancel   \n",
       "3         coronavirus    virus        case  associate   \n",
       "4              spread   report         cdc      wuhan   \n",
       "\n",
       "term_str                                              label  \n",
       "topic_id                                                     \n",
       "0         0 say trump coronavirus president people ameri...  \n",
       "1         1 say china case coronavirus virus people reut...  \n",
       "2         2 say game event march coronavirus biden elect...  \n",
       "3         3 say state people health test new coronavirus...  \n",
       "4         4 coronavirus china virus news disease chinese...  "
      ]
     },
     "execution_count": 12,
     "metadata": {},
     "output_type": "execute_result"
    }
   ],
   "source": [
    "TOPICS = PHI.stack().to_frame().rename(columns={0:'weight'})\\\n",
    "    .groupby('topic_id')\\\n",
    "    .apply(lambda x: \n",
    "           x.weight.sort_values(ascending=False)\\\n",
    "               .head(10)\\\n",
    "               .reset_index()\\\n",
    "               .drop('topic_id',1)\\\n",
    "               .term_str)\n",
    "\n",
    "TOPICS['label'] = TOPICS.apply(lambda x: str(x.name) + ' ' + ' '.join(x), 1)\n",
    "TOPICS.head()"
   ]
  },
  {
   "cell_type": "markdown",
   "metadata": {},
   "source": [
    "### Sort Topics by Doc Weight"
   ]
  },
  {
   "cell_type": "code",
   "execution_count": 15,
   "metadata": {},
   "outputs": [
    {
     "data": {
      "image/png": "[encoded data removed]",
      "text/plain": [
       "<Figure size 360x360 with 1 Axes>"
      ]
     },
     "metadata": {
      "needs_background": "light"
     },
     "output_type": "display_data"
    }
   ],
   "source": [
    "TOPICS['doc_weight_sum'] = THETA.sum()\n",
    "TOPICS.sort_values('doc_weight_sum', ascending=True).plot.barh(y='doc_weight_sum', x='label', figsize=(5,5)) ;"
   ]
  },
  {
   "cell_type": "markdown",
   "metadata": {},
   "source": [
    "From the five topics, we can see that topic 0 is more about the government and politics, which may include many articles that wrote Trump or government announcements. Topic 1 and topic 3 indicates more about people's health prospective, which includes the how coronavirus case change and the testing result. Topic 2 are related to election and the cause that coronavirus have made to the society, such as many events being postponed and canceled. Topic 4 are news articles more focused on reporting coronavirus associated with Wuhan, China.\n",
    "\n",
    "Since there are some topics delivering overlapping messages, the potential topics may be less than 5."
   ]
  },
  {
   "cell_type": "markdown",
   "metadata": {},
   "source": [
    "## Explore Topics by Doc Source"
   ]
  },
  {
   "cell_type": "code",
   "execution_count": 21,
   "metadata": {},
   "outputs": [],
   "source": [
    "topic_cols = [t for t in range(5)]\n",
    "source = THETA.join(df.set_index('doc_id'), on='doc_id')\\\n",
    "    .reset_index().set_index(['doc_source']+OHCO)\\\n",
    "    .groupby('doc_source')[topic_cols].mean()\\\n",
    "    .T                                            \n",
    "source.index.name = 'topic_id'"
   ]
  },
  {
   "cell_type": "code",
   "execution_count": 23,
   "metadata": {},
   "outputs": [
    {
     "ename": "NameError",
     "evalue": "name 'TOPICS' is not defined",
     "output_type": "error",
     "traceback": [
      "\u001b[0;31m---------------------------------------------------------------------------\u001b[0m",
      "\u001b[0;31mNameError\u001b[0m                                 Traceback (most recent call last)",
      "\u001b[0;32m<ipython-input-23-2ba800fe07fb>\u001b[0m in \u001b[0;36m<module>\u001b[0;34m\u001b[0m\n\u001b[0;32m----> 1\u001b[0;31m \u001b[0msource\u001b[0m\u001b[0;34m[\u001b[0m\u001b[0;34m'topterms'\u001b[0m\u001b[0;34m]\u001b[0m \u001b[0;34m=\u001b[0m \u001b[0mTOPICS\u001b[0m\u001b[0;34m[\u001b[0m\u001b[0;34m[\u001b[0m\u001b[0mi\u001b[0m \u001b[0;32mfor\u001b[0m \u001b[0mi\u001b[0m \u001b[0;32min\u001b[0m \u001b[0mrange\u001b[0m\u001b[0;34m(\u001b[0m\u001b[0;36m10\u001b[0m\u001b[0;34m)\u001b[0m\u001b[0;34m]\u001b[0m\u001b[0;34m]\u001b[0m\u001b[0;34m.\u001b[0m\u001b[0mapply\u001b[0m\u001b[0;34m(\u001b[0m\u001b[0;32mlambda\u001b[0m \u001b[0mx\u001b[0m\u001b[0;34m:\u001b[0m \u001b[0;34m' '\u001b[0m\u001b[0;34m.\u001b[0m\u001b[0mjoin\u001b[0m\u001b[0;34m(\u001b[0m\u001b[0mx\u001b[0m\u001b[0;34m)\u001b[0m\u001b[0;34m,\u001b[0m\u001b[0;36m1\u001b[0m\u001b[0;34m)\u001b[0m\u001b[0;34m\u001b[0m\u001b[0;34m\u001b[0m\u001b[0m\n\u001b[0m\u001b[1;32m      2\u001b[0m \u001b[0mAUTHORS\u001b[0m\u001b[0;34m.\u001b[0m\u001b[0msort_values\u001b[0m\u001b[0;34m(\u001b[0m\u001b[0;34m'Breibart'\u001b[0m\u001b[0;34m,\u001b[0m \u001b[0mascending\u001b[0m\u001b[0;34m=\u001b[0m\u001b[0;32mFalse\u001b[0m\u001b[0;34m)\u001b[0m\u001b[0;34m.\u001b[0m\u001b[0mstyle\u001b[0m\u001b[0;34m.\u001b[0m\u001b[0mbackground_gradient\u001b[0m\u001b[0;34m(\u001b[0m\u001b[0;34m)\u001b[0m\u001b[0;34m\u001b[0m\u001b[0;34m\u001b[0m\u001b[0m\n",
      "\u001b[0;31mNameError\u001b[0m: name 'TOPICS' is not defined"
     ]
    }
   ],
   "source": [
    "source['topterms'] = TOPICS[[i for i in range(10)]].apply(lambda x: ' '.join(x),1)\n",
    "AUTHORS.sort_values('Breibart', ascending=False).style.background_gradient()"
   ]
  },
  {
   "cell_type": "markdown",
   "metadata": {},
   "source": [
    "## LDA Viz"
   ]
  },
  {
   "cell_type": "code",
   "execution_count": 8,
   "metadata": {
    "ExecuteTime": {
     "end_time": "2020-04-24T19:48:40.589563Z",
     "start_time": "2020-04-24T19:48:38.273021Z"
    }
   },
   "outputs": [],
   "source": [
    "from gensim import corpora\n",
    "dictionary = corpora.Dictionary(df['tokenize'])\n",
    "corpus = [dictionary.doc2bow(text) for text in df['tokenize']]\n"
   ]
  },
  {
   "cell_type": "code",
   "execution_count": 15,
   "metadata": {
    "ExecuteTime": {
     "end_time": "2020-04-24T20:15:48.791636Z",
     "start_time": "2020-04-24T20:14:13.400113Z"
    }
   },
   "outputs": [
    {
     "name": "stdout",
     "output_type": "stream",
     "text": [
      "(0, '0.016*\"say\" + 0.013*\"china\" + 0.013*\"coronavirus\" + 0.011*\"case\"')\n",
      "(1, '0.011*\"say\" + 0.010*\"trump\" + 0.008*\"coronavirus\" + 0.006*\"president\"')\n",
      "(2, '0.024*\"say\" + 0.014*\"state\" + 0.012*\"people\" + 0.011*\"health\"')\n"
     ]
    }
   ],
   "source": [
    "import gensim\n",
    "NUM_TOPICS = 3 # reduce topics to 3\n",
    "ldamodel = gensim.models.ldamodel.LdaModel(corpus, num_topics = NUM_TOPICS, id2word=dictionary, passes=15)\n",
    "topics = ldamodel.print_topics(num_words=4)\n",
    "for topic in topics:\n",
    "    print(topic)"
   ]
  },
  {
   "cell_type": "markdown",
   "metadata": {},
   "source": [
    "We can clearly see that if we cluster new articles in three topics, those three topics have clear different perspectives. Topic 0 represents news articles associated with China. Topic 1 represents news articles related to Trump's policy for COVID-19 and topic 2 is related to people's health.\n"
   ]
  },
  {
   "cell_type": "code",
   "execution_count": 16,
   "metadata": {
    "ExecuteTime": {
     "end_time": "2020-04-24T20:17:34.000631Z",
     "start_time": "2020-04-24T20:17:33.991882Z"
    }
   },
   "outputs": [
    {
     "name": "stdout",
     "output_type": "stream",
     "text": [
      "[(59, 1), (277, 1), (1356, 1), (2365, 1), (4132, 1), (7249, 1)]\n",
      "[(0, 0.0608163), (1, 0.87225646), (2, 0.06692727)]\n"
     ]
    }
   ],
   "source": [
    "new_doc = ['trump', 'suggest', 'injection', 'disinfect', 'beat', 'coronavirus']\n",
    "new_doc_bow = dictionary.doc2bow(new_doc)\n",
    "print(new_doc_bow)\n",
    "print(ldamodel.get_document_topics(new_doc_bow))"
   ]
  },
  {
   "cell_type": "code",
   "execution_count": 17,
   "metadata": {
    "ExecuteTime": {
     "end_time": "2020-04-24T20:29:24.508433Z",
     "start_time": "2020-04-24T20:17:49.616304Z"
    }
   },
   "outputs": [
    {
     "data": {
      "text/html": [
       "\n",
       "<link rel=\"stylesheet\" type=\"text/css\" href=\"https://cdn.rawgit.com/bmabey/pyLDAvis/files/ldavis.v1.0.0.css\">\n",
       "\n",
       "\n",
       "<div id=\"ldavis_el4270891400517492659209972411730\"></div>\n",
       "<script type=\"text/javascript\">\n",
       "\n",
       "var ldavis_el4270891400517492659209972411730_data = {\"mdsDat\": {\"x\": [0.09332745777666412, -0.12525279028654632, 0.03192533250988213], \"y\": [-0.08002809273726656, -0.03126322472676186, 0.11129131746402839], \"topics\": [1, 2, 3], \"cluster\": [1, 1, 1], \"Freq\": [30.632368087768555, 36.23476791381836, 33.13286590576172]}, \"tinfo\": {\"Category\": [\"Default\", \"Default\", \"Default\", \"Default\", \"Default\", \"Default\", \"Default\", \"Default\", \"Default\", \"Default\", \"Default\", \"Default\", \"Default\", \"Default\", \"Default\", \"Default\", \"Default\", \"Default\", \"Default\", \"Default\", \"Default\", \"Default\", \"Default\", \"Default\", \"Default\", \"Default\", \"Default\", \"Default\", \"Default\", \"Default\", \"Topic1\", \"Topic1\", \"Topic1\", \"Topic1\", \"Topic1\", \"Topic1\", \"Topic1\", \"Topic1\", \"Topic1\", \"Topic1\", \"Topic1\", \"Topic1\", \"Topic1\", \"Topic1\", \"Topic1\", \"Topic1\", \"Topic1\", \"Topic1\", \"Topic1\", \"Topic1\", \"Topic1\", \"Topic1\", \"Topic1\", \"Topic1\", \"Topic1\", \"Topic1\", \"Topic1\", \"Topic1\", \"Topic1\", \"Topic1\", \"Topic1\", \"Topic1\", \"Topic1\", \"Topic1\", \"Topic1\", \"Topic1\", \"Topic1\", \"Topic1\", \"Topic1\", \"Topic1\", \"Topic1\", \"Topic1\", \"Topic1\", \"Topic1\", \"Topic1\", \"Topic1\", \"Topic1\", \"Topic1\", \"Topic1\", \"Topic1\", \"Topic1\", \"Topic1\", \"Topic1\", \"Topic1\", \"Topic1\", \"Topic1\", \"Topic1\", \"Topic1\", \"Topic1\", \"Topic1\", \"Topic1\", \"Topic1\", \"Topic1\", \"Topic1\", \"Topic1\", \"Topic1\", \"Topic1\", \"Topic1\", \"Topic1\", \"Topic1\", \"Topic1\", \"Topic1\", \"Topic1\", \"Topic1\", \"Topic1\", \"Topic1\", \"Topic1\", \"Topic1\", \"Topic1\", \"Topic2\", \"Topic2\", \"Topic2\", \"Topic2\", \"Topic2\", \"Topic2\", \"Topic2\", \"Topic2\", \"Topic2\", \"Topic2\", \"Topic2\", \"Topic2\", \"Topic2\", \"Topic2\", \"Topic2\", \"Topic2\", \"Topic2\", \"Topic2\", \"Topic2\", \"Topic2\", \"Topic2\", \"Topic2\", \"Topic2\", \"Topic2\", \"Topic2\", \"Topic2\", \"Topic2\", \"Topic2\", \"Topic2\", \"Topic2\", \"Topic2\", \"Topic2\", \"Topic2\", \"Topic2\", \"Topic2\", \"Topic2\", \"Topic2\", \"Topic2\", \"Topic2\", \"Topic2\", \"Topic2\", \"Topic2\", \"Topic2\", \"Topic2\", \"Topic2\", \"Topic2\", \"Topic2\", \"Topic2\", \"Topic2\", \"Topic2\", \"Topic2\", \"Topic2\", \"Topic2\", \"Topic2\", \"Topic2\", \"Topic2\", \"Topic2\", \"Topic2\", \"Topic2\", \"Topic2\", \"Topic2\", \"Topic2\", \"Topic2\", \"Topic2\", \"Topic2\", \"Topic2\", \"Topic2\", \"Topic2\", \"Topic2\", \"Topic2\", \"Topic2\", \"Topic2\", \"Topic2\", \"Topic2\", \"Topic2\", \"Topic2\", \"Topic2\", \"Topic2\", \"Topic2\", \"Topic2\", \"Topic2\", \"Topic2\", \"Topic2\", \"Topic2\", \"Topic2\", \"Topic2\", \"Topic2\", \"Topic2\", \"Topic2\", \"Topic2\", \"Topic2\", \"Topic2\", \"Topic2\", \"Topic2\", \"Topic2\", \"Topic3\", \"Topic3\", \"Topic3\", \"Topic3\", \"Topic3\", \"Topic3\", \"Topic3\", \"Topic3\", \"Topic3\", \"Topic3\", \"Topic3\", \"Topic3\", \"Topic3\", \"Topic3\", \"Topic3\", \"Topic3\", \"Topic3\", \"Topic3\", \"Topic3\", \"Topic3\", \"Topic3\", \"Topic3\", \"Topic3\", \"Topic3\", \"Topic3\", \"Topic3\", \"Topic3\", \"Topic3\", \"Topic3\", \"Topic3\", \"Topic3\", \"Topic3\", \"Topic3\", \"Topic3\", \"Topic3\", \"Topic3\", \"Topic3\", \"Topic3\", \"Topic3\", \"Topic3\", \"Topic3\", \"Topic3\", \"Topic3\", \"Topic3\", \"Topic3\", \"Topic3\", \"Topic3\", \"Topic3\", \"Topic3\", \"Topic3\", \"Topic3\", \"Topic3\", \"Topic3\", \"Topic3\", \"Topic3\", \"Topic3\", \"Topic3\", \"Topic3\", \"Topic3\", \"Topic3\", \"Topic3\", \"Topic3\", \"Topic3\", \"Topic3\", \"Topic3\", \"Topic3\", \"Topic3\", \"Topic3\", \"Topic3\", \"Topic3\", \"Topic3\", \"Topic3\", \"Topic3\", \"Topic3\", \"Topic3\", \"Topic3\", \"Topic3\", \"Topic3\", \"Topic3\", \"Topic3\", \"Topic3\", \"Topic3\", \"Topic3\", \"Topic3\", \"Topic3\", \"Topic3\"], \"Freq\": [6558.0, 5699.0, 2826.0, 8940.0, 3387.0, 10502.0, 2457.0, 5181.0, 2389.0, 2193.0, 2402.0, 2565.0, 10738.0, 7062.0, 4245.0, 3991.0, 1867.0, 26296.0, 9866.0, 1274.0, 1468.0, 3184.0, 1224.0, 4228.0, 1390.0, 1477.0, 1374.0, 1177.0, 2429.0, 1177.0, 2825.75927734375, 1224.0902099609375, 892.343505859375, 813.3604736328125, 764.2171020507812, 608.6412353515625, 537.3932495117188, 530.0336303710938, 435.0712890625, 387.12799072265625, 368.75140380859375, 339.6230163574219, 332.3095397949219, 243.30210876464844, 1175.01513671875, 186.5452117919922, 181.82069396972656, 197.72450256347656, 171.53131103515625, 161.27845764160156, 165.1842803955078, 146.40171813964844, 141.12466430664062, 135.43624877929688, 144.62648010253906, 132.79275512695312, 134.00711059570312, 156.8895721435547, 154.2716827392578, 134.25320434570312, 1267.338134765625, 1168.760986328125, 670.300537109375, 2147.5224609375, 713.4029541015625, 886.4257202148438, 6282.60498046875, 1346.3365478515625, 2270.9033203125, 349.8294372558594, 461.1401062011719, 1722.0877685546875, 1391.3466796875, 402.1259460449219, 337.23681640625, 655.3538818359375, 435.7261657714844, 3764.011474609375, 956.2529296875, 889.516845703125, 542.8040771484375, 5158.3583984375, 1602.9967041015625, 1892.40625, 2833.45849609375, 2978.67431640625, 4769.01123046875, 1923.222900390625, 6095.34375, 2346.24365234375, 1227.8485107421875, 7550.802734375, 2244.220703125, 1600.7235107421875, 1906.378173828125, 1346.84912109375, 2113.231201171875, 3460.138671875, 3621.0966796875, 2471.838623046875, 2801.197998046875, 1844.42236328125, 1663.9180908203125, 1762.510009765625, 1736.32763671875, 1486.4130859375, 1563.5223388671875, 1655.7532958984375, 1568.096435546875, 1373.611083984375, 905.777587890625, 512.70849609375, 513.2406616210938, 522.044189453125, 337.3114929199219, 326.54754638671875, 312.42877197265625, 228.4596710205078, 201.95628356933594, 464.2578430175781, 196.10940551757812, 168.5822296142578, 182.8040313720703, 166.30938720703125, 317.38043212890625, 160.64236450195312, 155.3162841796875, 157.42190551757812, 192.05914306640625, 139.85557556152344, 153.3571014404297, 165.0174560546875, 125.40148162841797, 127.15743255615234, 123.60286712646484, 114.19039916992188, 1034.0355224609375, 114.54088592529297, 106.1921157836914, 5648.4951171875, 827.6802978515625, 266.4693298339844, 204.28866577148438, 1161.369140625, 794.4280395507812, 428.6367492675781, 342.8066101074219, 1025.2147216796875, 215.44268798828125, 497.7857666015625, 352.41619873046875, 247.47662353515625, 339.7658996582031, 1194.322021484375, 981.17236328125, 941.833251953125, 2086.159912109375, 564.9570922851562, 297.26495361328125, 3504.85888671875, 721.9118041992188, 1172.878662109375, 1227.681884765625, 762.8233032226562, 2448.18505859375, 689.091064453125, 1242.8487548828125, 885.8116455078125, 1592.7332763671875, 631.324462890625, 2844.599365234375, 913.401123046875, 2617.111083984375, 1916.38427734375, 953.0823974609375, 3331.689697265625, 1715.169189453125, 2567.583984375, 1162.2630615234375, 1254.537109375, 2425.12646484375, 1059.4652099609375, 1756.615234375, 1971.4498291015625, 1155.0885009765625, 6388.26416015625, 2380.103515625, 4397.55419921875, 2627.933837890625, 1752.8056640625, 1816.7825927734375, 1803.4776611328125, 1323.5452880859375, 2425.73095703125, 1765.4873046875, 1391.6834716796875, 1546.7010498046875, 1484.371826171875, 1453.6995849609375, 1656.7337646484375, 1806.2503662109375, 1712.3968505859375, 1482.3779296875, 1507.05029296875, 756.8694458007812, 413.3033447265625, 391.63568115234375, 351.9778747558594, 336.7165222167969, 220.29541015625, 156.31578063964844, 115.71907043457031, 217.62005615234375, 125.47712707519531, 109.41255950927734, 101.36296844482422, 88.6581039428711, 81.87251281738281, 75.97763061523438, 104.52667999267578, 71.75376892089844, 67.30972290039062, 66.57897186279297, 69.3493881225586, 66.46845245361328, 64.69127655029297, 61.90070724487305, 62.608970642089844, 59.430458068847656, 342.4783935546875, 54.91548538208008, 2426.74365234375, 50.42888641357422, 276.11859130859375, 2335.767578125, 1434.6075439453125, 1203.073486328125, 1430.8284912109375, 351.2181091308594, 2431.3876953125, 3181.577880859375, 875.6864013671875, 1114.5186767578125, 207.04576110839844, 90.08103942871094, 487.0627136230469, 437.6792297363281, 360.140625, 915.3621826171875, 1502.7501220703125, 1417.88671875, 371.042724609375, 773.98583984375, 374.422119140625, 726.0047607421875, 647.4959106445312, 2096.590087890625, 1487.0108642578125, 3120.5537109375, 2533.2001953125, 1416.635986328125, 1443.5784912109375, 1891.024658203125, 7040.35986328125, 2512.84130859375, 1675.3597412109375, 4703.482421875, 1933.01416015625, 976.0050659179688, 2664.21142578125, 12357.8349609375, 5943.75341796875, 6421.228515625, 2743.57568359375, 2240.3251953125, 4376.62255859375, 1745.3466796875, 3221.98828125, 2306.641357421875, 2717.367431640625, 3590.519775390625, 3373.993408203125, 4350.26708984375, 1956.22509765625, 2223.81640625, 1768.658935546875, 1980.759521484375, 2017.2236328125, 1872.651123046875, 1956.731201171875], \"Term\": [\"china\", \"trump\", \"reuters\", \"case\", \"associate\", \"state\", \"county\", \"country\", \"chinese\", \"wuhan\", \"___\", \"ap\", \"health\", \"test\", \"president\", \"press\", \"italy\", \"say\", \"virus\", \"iran\", \"redistribute\", \"order\", \"thomson\", \"death\", \"flight\", \"rewrite\", \"biden\", \"minister\", \"house\", \"edit\", \"reuters\", \"thomson\", \"ministry\", \"beijing\", \"province\", \"hubei\", \"hong\", \"kong\", \"iranian\", \"taiwan\", \"shanghai\", \"xi\", \"singapore\", \"thailand\", \"minister\", \"tehran\", \"malaysia\", \"philippine\", \"seoul\", \"tedros\", \"g20\", \"jinping\", \"qom\", \"lunar\", \"indonesia\", \"moscow\", \"maduro\", \"madrid\", \"turkey\", \"delhi\", \"iran\", \"edit\", \"france\", \"wuhan\", \"japan\", \"korea\", \"china\", \"flight\", \"chinese\", \"africa\", \"communist\", \"italy\", \"reporting\", \"germany\", \"french\", \"feb\", \"italian\", \"country\", \"epidemic\", \"border\", \"prime\", \"case\", \"infection\", \"travel\", \"outbreak\", \"report\", \"virus\", \"world\", \"coronavirus\", \"death\", \"authority\", \"say\", \"government\", \"confirm\", \"number\", \"united\", \"spread\", \"health\", \"people\", \"u\", \"new\", \"2020\", \"city\", \"day\", \"official\", \"disease\", \"also\", \"state\", \"test\", \"biden\", \"sander\", \"voter\", \"player\", \"debate\", \"obama\", \"pelosi\", \"candidate\", \"bernie\", \"nba\", \"senator\", \"2008\", \"dingell\", \"ad\", \"mcconnell\", \"idea\", \"mnuchin\", \"burr\", \"schumer\", \"listen\", \"massie\", \"payroll\", \"warren\", \"bailout\", \"hoax\", \"progressive\", \"nomination\", \"vote\", \"career\", \"gm\", \"trump\", \"congress\", \"poll\", \"bloomberg\", \"democrat\", \"campaign\", \"presidential\", \"fauci\", \"cnn\", \"treasury\", \"stimulus\", \"trillion\", \"maybe\", \"voting\", \"white\", \"senate\", \"democratic\", \"house\", \"penny\", \"congressional\", \"president\", \"talk\", \"bill\", \"think\", \"political\", \"american\", \"package\", \"administration\", \"donald\", \"crisis\", \"money\", \"get\", \"thing\", \"make\", \"like\", \"republican\", \"would\", \"even\", \"go\", \"way\", \"want\", \"time\", \"billion\", \"pandemic\", \"need\", \"economy\", \"say\", \"one\", \"coronavirus\", \"u\", \"could\", \"government\", \"take\", \"well\", \"people\", \"also\", \"call\", \"work\", \"year\", \"come\", \"week\", \"state\", \"new\", \"day\", \"virus\", \"apnews\", \"statewide\", \"inmate\", \"virusoutbreak\", \"understandingtheoutbreak\", \"newsom\", \"evers\", \"takeout\", \"abortion\", \"beshear\", \"detainee\", \"thru\", \"diego\", \"dine\", \"kemp\", \"santa\", \"richmond\", \"albuquerque\", \"polis\", \"sacramento\", \"lightfoot\", \"lamont\", \"superintendent\", \"honolulu\", \"kirkland\", \"hughes\", \"ducey\", \"county\", \"holcomb\", \"homeless\", \"___\", \"redistribute\", \"gov\", \"rewrite\", \"receives\", \"ap\", \"associate\", \"adult\", \"mild\", \"connecticut\", \"surgery\", \"seattle\", \"nursing\", \"howard\", \"cough\", \"material\", \"broadcast\", \"chicago\", \"moderate\", \"angeles\", \"coverage\", \"park\", \"department\", \"reserve\", \"press\", \"order\", \"publish\", \"illness\", \"school\", \"state\", \"covid\", \"symptom\", \"test\", \"cause\", \"facility\", \"19\", \"say\", \"health\", \"people\", \"home\", \"hospital\", \"new\", \"care\", \"week\", \"may\", \"official\", \"virus\", \"case\", \"coronavirus\", \"close\", \"include\", \"positive\", \"two\", \"also\", \"city\", \"day\"], \"Total\": [6558.0, 5699.0, 2826.0, 8940.0, 3387.0, 10502.0, 2457.0, 5181.0, 2389.0, 2193.0, 2402.0, 2565.0, 10738.0, 7062.0, 4245.0, 3991.0, 1867.0, 26296.0, 9866.0, 1274.0, 1468.0, 3184.0, 1224.0, 4228.0, 1390.0, 1477.0, 1374.0, 1177.0, 2429.0, 1177.0, 2826.34130859375, 1224.67041015625, 892.9075927734375, 813.9389038085938, 764.7933959960938, 609.2027587890625, 537.95849609375, 530.5988159179688, 435.6462097167969, 387.6872253417969, 369.3118591308594, 340.1924743652344, 332.8830871582031, 243.86654663085938, 1177.8670654296875, 187.10662841796875, 182.3823699951172, 198.35450744628906, 172.10618591308594, 161.84889221191406, 165.7794189453125, 146.97532653808594, 141.68368530273438, 135.99827575683594, 145.2270050048828, 133.35784912109375, 134.57887268066406, 157.5744171142578, 154.94789123535156, 134.84893798828125, 1274.67919921875, 1177.102294921875, 676.308837890625, 2193.734619140625, 723.8510131835938, 905.9395751953125, 6558.5625, 1390.064697265625, 2389.880615234375, 356.3982849121094, 474.36151123046875, 1867.742919921875, 1508.948974609375, 416.13323974609375, 347.5421447753906, 700.7283325195312, 456.29864501953125, 5181.97265625, 1122.163818359375, 1056.664306640625, 592.766845703125, 8940.74609375, 2212.162353515625, 2761.344482421875, 4802.345703125, 5264.93994140625, 9866.5810546875, 3031.87353515625, 14843.166015625, 4228.1123046875, 1700.7587890625, 26296.90234375, 4406.234375, 2657.062744140625, 3643.933349609375, 2014.5323486328125, 4447.80712890625, 10738.966796875, 12468.056640625, 6448.904296875, 8890.216796875, 3864.508544921875, 3706.923828125, 5201.619140625, 4976.0546875, 2921.772705078125, 5346.2333984375, 10502.36328125, 7062.54833984375, 1374.3128662109375, 906.481201171875, 513.5357666015625, 514.08935546875, 523.032958984375, 338.0220031738281, 327.2574768066406, 313.2721252441406, 229.1723175048828, 202.7170867919922, 466.0205383300781, 196.87770080566406, 169.27877807617188, 183.5662384033203, 167.02719116210938, 318.7784423828125, 161.3531494140625, 156.01637268066406, 158.1317901611328, 192.99400329589844, 140.55398559570312, 154.14268493652344, 165.87847900390625, 126.1059799194336, 127.90790557861328, 124.35147857666016, 114.89491271972656, 1040.570556640625, 115.29816436767578, 106.9096908569336, 5699.68017578125, 834.2936401367188, 268.42950439453125, 206.17388916015625, 1197.1929931640625, 818.0462646484375, 438.5159606933594, 349.70458984375, 1077.4326171875, 217.9820098876953, 518.9310913085938, 362.7342224121094, 252.19749450683594, 351.0925598144531, 1305.5970458984375, 1062.17236328125, 1018.3433227539062, 2429.437744140625, 605.8076782226562, 306.37469482421875, 4245.5625, 788.6068115234375, 1336.92626953125, 1409.486572265625, 848.5107421875, 3090.354248046875, 759.152587890625, 1463.45947265625, 1024.5845947265625, 2023.2451171875, 701.7499389648438, 4155.23974609375, 1087.5257568359375, 4050.3203125, 2759.06884765625, 1163.8448486328125, 5847.072265625, 2510.642822265625, 4284.84814453125, 1511.6075439453125, 1681.490234375, 4203.62158203125, 1362.8382568359375, 2904.7978515625, 3484.432861328125, 1554.5450439453125, 26296.90234375, 5133.2314453125, 14843.166015625, 6448.904296875, 3376.43701171875, 4406.234375, 4520.396484375, 2163.6552734375, 12468.056640625, 5346.2333984375, 2554.8046875, 3902.939208984375, 3576.6630859375, 3304.829833984375, 6196.42529296875, 10502.36328125, 8890.216796875, 5201.619140625, 9866.5810546875, 757.7564086914062, 413.96807861328125, 392.3343811035156, 352.66314697265625, 337.3946228027344, 220.9646453857422, 157.09178161621094, 116.38652801513672, 218.9335174560547, 126.30261993408203, 110.13565063476562, 102.10536193847656, 89.36441040039062, 82.56493377685547, 76.63139343261719, 105.43186950683594, 72.4244155883789, 67.96892547607422, 67.23383331298828, 70.03337860107422, 67.12889099121094, 65.34520721435547, 62.55387878417969, 63.282161712646484, 60.10451889038086, 346.46234130859375, 55.570045471191406, 2457.5654296875, 51.078269958496094, 279.7208557128906, 2402.964599609375, 1468.915283203125, 1238.120361328125, 1477.5086669921875, 358.9029541015625, 2565.8427734375, 3387.088134765625, 912.4013671875, 1181.17333984375, 212.98031616210938, 91.30823516845703, 512.1063842773438, 459.8114929199219, 379.2015075683594, 992.8091430664062, 1665.1103515625, 1583.8988037109375, 392.5074768066406, 844.323486328125, 398.8894348144531, 803.5121459960938, 713.2229614257812, 2533.769775390625, 1753.288818359375, 3991.86962890625, 3184.87353515625, 1688.3662109375, 1725.1724853515625, 2334.8095703125, 10502.36328125, 3394.9326171875, 2132.017578125, 7062.54833984375, 2515.7421875, 1148.21923828125, 3797.03759765625, 26296.90234375, 10738.966796875, 12468.056640625, 4253.958984375, 3404.08447265625, 8890.216796875, 2492.46630859375, 6196.42529296875, 3800.47119140625, 4976.0546875, 9866.5810546875, 8940.74609375, 14843.166015625, 3117.279541015625, 4217.24169921875, 2572.37255859375, 4259.087890625, 5346.2333984375, 3706.923828125, 5201.619140625], \"loglift\": [30.0, 29.0, 28.0, 27.0, 26.0, 25.0, 24.0, 23.0, 22.0, 21.0, 20.0, 19.0, 18.0, 17.0, 16.0, 15.0, 14.0, 13.0, 12.0, 11.0, 10.0, 9.0, 8.0, 7.0, 6.0, 5.0, 4.0, 3.0, 2.0, 1.0, 1.1828999519348145, 1.1826000213623047, 1.1825000047683716, 1.1823999881744385, 1.1823999881744385, 1.1821999549865723, 1.1821000576019287, 1.1820000410079956, 1.1818000078201294, 1.1816999912261963, 1.1815999746322632, 1.181399941444397, 1.181399941444397, 1.180799961090088, 1.1806999444961548, 1.1800999641418457, 1.1799999475479126, 1.179900050163269, 1.179800033569336, 1.1796000003814697, 1.1794999837875366, 1.1792000532150269, 1.1792000532150269, 1.1790000200271606, 1.1790000200271606, 1.1789000034332275, 1.1789000034332275, 1.1787999868392944, 1.1786999702453613, 1.1786999702453613, 1.177299976348877, 1.1759999990463257, 1.1742000579833984, 1.1618000268936157, 1.1685999631881714, 1.1612999439239502, 1.1401000022888184, 1.1512000560760498, 1.1319999694824219, 1.1644999980926514, 1.1548000574111938, 1.1018999814987183, 1.1019999980926514, 1.148900032043457, 1.152999997138977, 1.1161999702453613, 1.1369999647140503, 0.8633999824523926, 1.0231000185012817, 1.0109000205993652, 1.0951000452041626, 0.6330999732017517, 0.8610000014305115, 0.8051999807357788, 0.6554999947547913, 0.6134999990463257, 0.4560999870300293, 0.7279000282287598, 0.2930999994277954, 0.5942000150680542, 0.8572999835014343, -0.06469999998807907, 0.5084999799728394, 0.6762999892234802, 0.5353000164031982, 0.7804999947547913, 0.4388999938964844, 0.05050000175833702, -0.053300000727176666, 0.22419999539852142, 0.028200000524520874, 0.44339999556541443, 0.382099986076355, 0.10090000182390213, 0.13019999861717224, 0.5073000192642212, -0.046300001442432404, -0.6642000079154968, -0.32179999351501465, 1.0146000385284424, 1.0144000053405762, 1.0134999752044678, 1.0134999752044678, 1.0132999420166016, 1.0130000114440918, 1.0130000114440918, 1.0125000476837158, 1.0119999647140503, 1.0113999843597412, 1.0113999843597412, 1.011199951171875, 1.0110000371932983, 1.0110000371932983, 1.0108000040054321, 1.0108000040054321, 1.010699987411499, 1.010699987411499, 1.010699987411499, 1.0103000402450562, 1.010200023651123, 1.0099999904632568, 1.0098999738693237, 1.0095000267028809, 1.0092999935150146, 1.0090999603271484, 1.0089999437332153, 1.0089000463485718, 1.0085999965667725, 1.0083999633789062, 1.006100058555603, 1.007200002670288, 1.0077999830245972, 1.00600004196167, 0.9847999811172485, 0.9858999848365784, 0.9923999905586243, 0.995199978351593, 0.965499997138977, 1.0033999681472778, 0.9735000133514404, 0.986299991607666, 0.9962999820709229, 0.9824000000953674, 0.9261000156402588, 0.9358000159263611, 0.9369999766349792, 0.8628000020980835, 0.9452999830245972, 0.9850000143051147, 0.8234000205993652, 0.926800012588501, 0.8841999769210815, 0.8770999908447266, 0.9086999893188477, 0.7821999788284302, 0.9182999730110168, 0.8518000245094299, 0.8695999979972839, 0.7759000062942505, 0.9093999862670898, 0.6362000107765198, 0.8406999707221985, 0.5784000158309937, 0.6506999731063843, 0.8154000043869019, 0.4526999890804291, 0.6341000199317932, 0.503000020980835, 0.7523000240325928, 0.7221999764442444, 0.4650999903678894, 0.7633000016212463, 0.5121999979019165, 0.4456000030040741, 0.7181000113487244, -0.39980000257492065, 0.24660000205039978, -0.2012999951839447, 0.11739999800920486, 0.359499990940094, 0.12919999659061432, 0.09629999846220016, 0.5236999988555908, -0.6219000220298767, -0.09279999881982803, 0.4077000021934509, 0.08950000256299973, 0.13570000231266022, 0.193900004029274, -0.30399999022483826, -0.745199978351593, -0.6319000124931335, -0.2401999980211258, -0.8637999892234802, 1.1035000085830688, 1.1030000448226929, 1.1029000282287598, 1.1026999950408936, 1.1025999784469604, 1.1016000509262085, 1.0996999740600586, 1.0988999605178833, 1.0986000299453735, 1.098099946975708, 1.098099946975708, 1.0973000526428223, 1.0966999530792236, 1.0961999893188477, 1.0960999727249146, 1.0959999561309814, 1.0952999591827393, 1.0949000120162964, 1.0949000120162964, 1.0947999954223633, 1.0947999954223633, 1.094599962234497, 1.094099998474121, 1.0938999652862549, 1.093400001525879, 1.0930999517440796, 1.0928000211715698, 1.0920000076293945, 1.0917999744415283, 1.0916999578475952, 1.076300024986267, 1.0809999704360962, 1.0758999586105347, 1.0724999904632568, 1.0829999446868896, 1.0507999658584595, 1.042099952697754, 1.063599944114685, 1.0465999841690063, 1.0764000415802002, 1.0910999774932861, 1.0544999837875366, 1.055299997329712, 1.0530999898910522, 1.0233999490737915, 1.0019999742507935, 0.9939000010490417, 1.0484000444412231, 1.017699956893921, 1.0413000583648682, 1.0032000541687012, 1.0080000162124634, 0.9151999950408936, 0.9398999810218811, 0.8583999872207642, 0.8756999969482422, 0.9291999936103821, 0.9264000058174133, 0.8938000202178955, 0.7046999931335449, 0.8037999868392944, 0.8636000156402588, 0.6980999708175659, 0.8411999940872192, 0.9420999884605408, 0.7502999901771545, 0.34950000047683716, 0.5131000280380249, 0.44110000133514404, 0.666100025177002, 0.6862999796867371, 0.3959999978542328, 0.7483000159263611, 0.4507000148296356, 0.6053000092506409, 0.49970000982284546, 0.09380000084638596, 0.13009999692440033, -0.12269999831914902, 0.638700008392334, 0.46470001339912415, 0.7300000190734863, 0.3391000032424927, 0.12999999523162842, 0.42179998755455017, 0.12690000236034393], \"logprob\": [30.0, 29.0, 28.0, 27.0, 26.0, 25.0, 24.0, 23.0, 22.0, 21.0, 20.0, 19.0, 18.0, 17.0, 16.0, 15.0, 14.0, 13.0, 12.0, 11.0, 10.0, 9.0, 8.0, 7.0, 6.0, 5.0, 4.0, 3.0, 2.0, 1.0, -5.136899948120117, -5.973499774932861, -6.289599895477295, -6.382299900054932, -6.4446001052856445, -6.6722002029418945, -6.7967000007629395, -6.810500144958496, -7.007999897003174, -7.12470006942749, -7.173299789428711, -7.2555999755859375, -7.277400016784668, -7.589200019836426, -6.014400005340576, -7.854800224304199, -7.88040018081665, -7.796599864959717, -7.938700199127197, -8.000300407409668, -7.976399898529053, -8.097100257873535, -8.13379955291748, -8.175000190734863, -8.109299659729004, -8.194700241088867, -8.185600280761719, -8.027899742126465, -8.0447998046875, -8.183699607849121, -5.938799858093262, -6.019800186157227, -6.575699806213379, -5.411399841308594, -6.513400077819824, -6.296299934387207, -4.337900161743164, -5.878300189971924, -5.355500221252441, -7.22599983215332, -6.94980001449585, -5.632199764251709, -5.845399856567383, -7.086699962615967, -7.262700080871582, -6.598299980163574, -7.006499767303467, -4.850200176239014, -6.220399856567383, -6.292799949645996, -6.7866997718811035, -4.535099983215332, -5.703800201416016, -5.537899971008301, -5.134200096130371, -5.084199905395508, -4.61359977722168, -5.521699905395508, -4.368199825286865, -5.32289981842041, -5.970399856567383, -4.154099941253662, -5.367400169372559, -5.7052998542785645, -5.5304999351501465, -5.877900123596191, -5.427499771118164, -4.9344000816345215, -4.888899803161621, -5.270699977874756, -5.145699977874756, -5.563499927520752, -5.666500091552734, -5.609000205993652, -5.623899936676025, -5.779300212860107, -5.728799819946289, -5.671500205993652, -5.725800037384033, -6.026199817657471, -6.442599773406982, -7.01170015335083, -7.010700225830078, -6.99370002746582, -7.4303998947143555, -7.462900161743164, -7.5071001052856445, -7.820099830627441, -7.943399906158447, -7.111000061035156, -7.972799777984619, -8.12399959564209, -8.043000221252441, -8.13759994506836, -7.491300106048584, -8.172200202941895, -8.206000328063965, -8.192500114440918, -7.993599891662598, -8.310799598693848, -8.218700408935547, -8.145400047302246, -8.419899940490723, -8.406000137329102, -8.434399604797363, -8.51360034942627, -6.310200214385986, -8.510499954223633, -8.586199760437012, -4.612299919128418, -6.532800197601318, -7.666200160980225, -7.9319000244140625, -6.1940999031066895, -6.573800086975098, -7.190800189971924, -7.414299964904785, -6.31879997253418, -7.878699779510498, -7.041299819946289, -7.386600017547607, -7.740099906921387, -7.4232001304626465, -6.166100025177002, -6.36269998550415, -6.403600215911865, -5.60830020904541, -6.914700031280518, -7.55679988861084, -5.0894999504089355, -6.66949987411499, -6.184199810028076, -6.138500213623047, -6.6143999099731445, -5.448299884796143, -6.716100215911865, -6.126299858093262, -6.464900016784668, -5.878200054168701, -6.803599834442139, -5.2982001304626465, -6.434299945831299, -5.3815999031066895, -5.69320011138916, -6.39169979095459, -5.140200138092041, -5.804200172424316, -5.400700092315674, -6.193299770355225, -6.1168999671936035, -5.457799911499023, -6.285900115966797, -5.780300140380859, -5.664899826049805, -6.19950008392334, -4.489200115203857, -5.476500034332275, -4.862599849700928, -5.377500057220459, -5.78249979019165, -5.746600151062012, -5.754000186920166, -6.063399791717529, -5.457499980926514, -5.775199890136719, -6.013199806213379, -5.90749979019165, -5.948699951171875, -5.969600200653076, -5.838799953460693, -5.752399921417236, -5.805799961090088, -5.949999809265137, -5.933499813079834, -6.532700061798096, -7.137800216674805, -7.1915998458862305, -7.298399925231934, -7.342700004577637, -7.767000198364258, -8.110099792480469, -8.410799980163574, -7.779200077056885, -8.32979965209961, -8.46679973602295, -8.54319953918457, -8.67710018157959, -8.756799697875977, -8.831500053405762, -8.512499809265137, -8.888699531555176, -8.95259952545166, -8.963500022888184, -8.922800064086914, -8.965200424194336, -8.992300033569336, -9.036399841308594, -9.024999618530273, -9.077099800109863, -7.325699806213379, -9.156100273132324, -5.367599964141846, -9.241399765014648, -7.541100025177002, -5.405799865722656, -5.8933000564575195, -6.069300174713135, -5.895899772644043, -7.30049991607666, -5.365699768066406, -5.096799850463867, -6.386899948120117, -6.1458001136779785, -7.828999996185303, -8.661199569702148, -6.973499774932861, -7.080399990081787, -7.275400161743164, -6.342599868774414, -5.84689998626709, -5.90500020980835, -7.24560022354126, -6.51039981842041, -7.236599922180176, -6.574399948120117, -6.688799858093262, -5.513899803161621, -5.857399940490723, -5.116199970245361, -5.324699878692627, -5.905900001525879, -5.8871002197265625, -5.617099761962891, -4.302499771118164, -5.332799911499023, -5.7382001876831055, -4.705900192260742, -5.595099925994873, -6.278500080108643, -5.2743000984191895, -3.7399001121520996, -4.471799850463867, -4.394599914550781, -5.244900226593018, -5.4475998878479, -4.777900218963623, -5.697199821472168, -5.084199905395508, -5.418399810791016, -5.254499912261963, -4.975900173187256, -5.038099765777588, -4.783899784088135, -5.583199977874756, -5.454999923706055, -5.684000015258789, -5.570700168609619, -5.552499771118164, -5.626800060272217, -5.582900047302246]}, \"token.table\": {\"Topic\": [1, 2, 3, 2, 1, 2, 3, 1, 2, 3, 2, 3, 2, 1, 2, 3, 2, 3, 1, 2, 3, 1, 2, 3, 1, 2, 3, 1, 2, 3, 1, 2, 3, 3, 1, 2, 3, 1, 2, 3, 2, 1, 2, 3, 2, 1, 2, 3, 1, 2, 3, 1, 2, 1, 2, 3, 1, 2, 3, 2, 1, 2, 3, 1, 2, 2, 1, 2, 3, 2, 1, 2, 3, 1, 2, 3, 1, 2, 3, 1, 2, 3, 1, 2, 1, 2, 3, 1, 2, 3, 1, 2, 3, 1, 2, 3, 1, 2, 1, 2, 3, 2, 3, 2, 3, 2, 3, 1, 2, 3, 1, 2, 3, 1, 2, 3, 1, 2, 3, 2, 3, 1, 2, 3, 1, 2, 3, 1, 2, 3, 1, 2, 3, 1, 2, 3, 1, 2, 1, 2, 3, 1, 2, 3, 1, 2, 3, 3, 3, 3, 2, 1, 2, 3, 1, 2, 3, 3, 1, 2, 3, 1, 2, 1, 2, 3, 1, 2, 3, 3, 1, 2, 3, 1, 2, 1, 2, 3, 1, 2, 3, 1, 2, 1, 2, 1, 1, 2, 1, 2, 3, 2, 1, 2, 3, 2, 3, 1, 2, 3, 1, 2, 3, 2, 3, 1, 2, 3, 2, 3, 1, 3, 1, 2, 3, 1, 2, 3, 2, 3, 1, 2, 3, 1, 2, 1, 2, 3, 1, 2, 3, 1, 1, 2, 3, 3, 1, 2, 1, 1, 2, 3, 1, 2, 3, 1, 2, 1, 3, 3, 1, 1, 2, 3, 3, 3, 1, 2, 3, 1, 2, 1, 1, 1, 1, 2, 3, 1, 2, 1, 2, 3, 1, 2, 3, 1, 2, 3, 2, 1, 2, 3, 1, 2, 1, 2, 2, 3, 1, 2, 3, 1, 2, 1, 2, 3, 1, 2, 3, 3, 2, 1, 2, 3, 1, 2, 3, 2, 1, 2, 3, 1, 2, 3, 1, 2, 3, 1, 2, 3, 1, 2, 3, 1, 2, 3, 1, 2, 3, 2, 2, 1, 2, 3, 1, 2, 3, 1, 2, 3, 1, 2, 3, 1, 2, 1, 2, 3, 1, 2, 3, 2, 3, 1, 2, 3, 1, 2, 3, 2, 1, 1, 2, 3, 1, 1, 2, 3, 1, 2, 3, 1, 2, 3, 1, 2, 3, 2, 3, 1, 2, 3, 1, 1, 2, 3, 3, 3, 2, 1, 3, 1, 2, 3, 1, 2, 3, 2, 1, 2, 3, 2, 3, 2, 3, 1, 1, 1, 1, 2, 3, 1, 2, 3, 3, 1, 2, 3, 1, 2, 3, 1, 2, 3, 1, 1, 2, 3, 3, 1, 2, 3, 1, 1, 1, 2, 3, 1, 1, 2, 3, 1, 2, 3, 1, 3, 1, 2, 3, 1, 2, 3, 1, 2, 1, 2, 1, 2, 3, 1, 1, 2, 3, 1, 2, 3, 3, 1, 2, 3, 1, 2, 3, 3, 2, 3, 2, 2, 3, 1, 2, 3, 2, 1, 2, 3, 1, 2, 3, 1, 2, 3, 1, 2, 3, 1, 2, 3, 1, 2, 3, 1, 2, 3, 1, 2, 3, 1, 1, 2, 3], \"Freq\": [0.1888314187526703, 0.10955909639596939, 0.7015995979309082, 0.9955418705940247, 0.4771628677845001, 0.17130251228809357, 0.35140302777290344, 0.0008323052315972745, 0.027049919590353966, 0.9721325039863586, 0.004567596595734358, 0.9957360625267029, 0.996915340423584, 0.02323262207210064, 0.8493573069572449, 0.12777942419052124, 0.0394563190639019, 0.9601037502288818, 0.9820473790168762, 0.01683509722352028, 0.9857445955276489, 0.29254239797592163, 0.3301389813423157, 0.3772749602794647, 0.17603160440921783, 0.7921422123908997, 0.03171157464385033, 0.002506960416212678, 0.06016704812645912, 0.9376031756401062, 0.01870730333030224, 0.033517252653837204, 0.9474470019340515, 0.9990018010139465, 0.020076241344213486, 0.04074295982718468, 0.9394500255584717, 0.7220306396484375, 0.061149176210165024, 0.21696197986602783, 0.991229772567749, 0.9988464713096619, 0.9948845505714417, 0.9896864891052246, 0.9997723698616028, 0.002991937566548586, 0.8773857355117798, 0.11967750638723373, 0.18857704102993011, 0.7770547866821289, 0.03375308960676193, 0.009700549766421318, 0.989456057548523, 0.8422731757164001, 0.0917983129620552, 0.06719257682561874, 0.005050827749073505, 0.09975384920835495, 0.8952592015266418, 0.9934854507446289, 0.1867070347070694, 0.5448557138442993, 0.26851367950439453, 0.0281157698482275, 0.9706052541732788, 0.9959392547607422, 0.07663092762231827, 0.2234734296798706, 0.7001097798347473, 0.9974139928817749, 0.5769093632698059, 0.04563377425074577, 0.37737342715263367, 0.14786888659000397, 0.08387187123298645, 0.7683617472648621, 0.025477221235632896, 0.0280249435454607, 0.9452049136161804, 0.9579843282699585, 0.03217168524861336, 0.009910708293318748, 0.9502566456794739, 0.04979328066110611, 0.44888973236083984, 0.04586012661457062, 0.5052707195281982, 0.24861420691013336, 0.12382591515779495, 0.6274701952934265, 0.03434089571237564, 0.951335608959198, 0.01392198447138071, 0.2260328233242035, 0.43996214866638184, 0.3340565264225006, 0.9718326330184937, 0.027405258268117905, 0.6025450229644775, 0.012419729493558407, 0.38501161336898804, 0.992456316947937, 0.007191712502390146, 0.9694011807441711, 0.029375793412327766, 0.028171617537736893, 0.9719207882881165, 0.41062667965888977, 0.29629796743392944, 0.293064147233963, 0.0674852803349495, 0.010072429664433002, 0.9216272830963135, 0.20613445341587067, 0.5191863179206848, 0.27454978227615356, 0.7263643145561218, 0.22134427726268768, 0.05229668691754341, 0.01220720261335373, 0.9875627160072327, 0.011200826615095139, 0.08587300032377243, 0.9035333395004272, 0.14875110983848572, 0.11104785650968552, 0.7402209043502808, 0.11664429306983948, 0.7873489856719971, 0.09637981653213501, 0.33893293142318726, 0.28491127490997314, 0.37622901797294617, 0.5548575520515442, 0.04186265170574188, 0.4032532572746277, 0.0019119253847748041, 0.9980250597000122, 0.9937044978141785, 0.9697684645652771, 0.029235051944851875, 0.0058919223956763744, 0.925031840801239, 0.06972108036279678, 0.08998449891805649, 0.08248578757047653, 0.8276205658912659, 0.9896886348724365, 0.9959222078323364, 0.993157684803009, 0.998353123664856, 0.50859534740448, 0.17318253219127655, 0.31795766949653625, 0.03806420788168907, 0.8647407293319702, 0.0976005271077156, 0.989741861820221, 0.21099421381950378, 0.7429826259613037, 0.04631580039858818, 0.9931167364120483, 0.0067963507026433945, 0.8519255518913269, 0.14436395466327667, 0.0035645419266074896, 0.13024552166461945, 0.6830919981002808, 0.1864064484834671, 0.9930500388145447, 0.11931519210338593, 0.030481982976198196, 0.8500118851661682, 0.020016895607113838, 0.9808278679847717, 0.934741735458374, 0.012843779288232327, 0.051375117152929306, 0.9683002829551697, 0.018704164773225784, 0.012949037365615368, 0.9906716346740723, 0.008871686644852161, 0.969666600227356, 0.028773488476872444, 0.995298445224762, 0.9660367369651794, 0.03364307060837746, 0.0642562210559845, 0.6846777200698853, 0.2512490451335907, 0.9914910197257996, 0.10058699548244476, 0.5993211269378662, 0.3001273274421692, 0.028268657624721527, 0.9716341495513916, 0.509278416633606, 0.4123702645301819, 0.07829815149307251, 0.32219114899635315, 0.12431363761425018, 0.5534983277320862, 0.9929018616676331, 0.9788898229598999, 0.19205638766288757, 0.16290706396102905, 0.6450461745262146, 0.01072497759014368, 0.9866979718208313, 0.998218297958374, 0.9955412149429321, 0.2749637961387634, 0.06697835773229599, 0.658033013343811, 0.011113682761788368, 0.858634889125824, 0.1300712525844574, 0.05010528489947319, 0.9493632912635803, 0.9996671676635742, 0.011545266024768353, 0.9871202707290649, 0.0031369749922305346, 0.9944210648536682, 0.1350589543581009, 0.027823304757475853, 0.8370177745819092, 0.2627309560775757, 0.20985279977321625, 0.527358889579773, 0.9984368681907654, 0.7246303558349609, 0.029835062101483345, 0.24546119570732117, 0.9991477131843567, 0.9939755797386169, 0.00549157802015543, 0.9985166788101196, 0.9555145502090454, 0.02410701848566532, 0.02191547118127346, 0.921968400478363, 0.024093251675367355, 0.05407596379518509, 0.9850093126296997, 0.013814997859299183, 0.9933640360832214, 0.9917606711387634, 0.9816233515739441, 0.9988714456558228, 0.9779901504516602, 0.01545356959104538, 0.005519131664186716, 0.9947171807289124, 0.9831832051277161, 0.13809005916118622, 0.6944372057914734, 0.1674477905035019, 0.0051815081387758255, 0.9948495626449585, 0.9926596283912659, 0.9963546395301819, 0.9956986308097839, 0.12764422595500946, 0.6461217403411865, 0.22615495324134827, 0.9979034662246704, 0.9960585832595825, 0.014413459226489067, 0.08287739008665085, 0.9026429057121277, 0.1263001263141632, 0.2665458917617798, 0.6070299744606018, 0.0039651463739573956, 0.9793911576271057, 0.015860585495829582, 0.9938501715660095, 0.04148417338728905, 0.015239084139466286, 0.9439765810966492, 0.9975658655166626, 0.002546976786106825, 0.9989835619926453, 0.9978113174438477, 0.08290661126375198, 0.9167102575302124, 0.011400071904063225, 0.8991807103157043, 0.08977556973695755, 0.9973165988922119, 0.9964626431465149, 0.08609722554683685, 0.5656587481498718, 0.3481197655200958, 0.3150654435157776, 0.1925712376832962, 0.49233895540237427, 0.9956343770027161, 0.9922110438346863, 0.5230611562728882, 0.12925593554973602, 0.34770119190216064, 0.019573237746953964, 0.02827245555818081, 0.9525642991065979, 0.9969764947891235, 0.34887075424194336, 0.10490238666534424, 0.5460149049758911, 0.2624078094959259, 0.4636455774307251, 0.2739015519618988, 0.10801056772470474, 0.09670713543891907, 0.7953220009803772, 0.5899200439453125, 0.16054654121398926, 0.24946142733097076, 0.04742129519581795, 0.907590925693512, 0.04478678107261658, 0.16730940341949463, 0.6048613786697388, 0.22789882123470306, 0.054681356996297836, 0.037856325507164, 0.9071497321128845, 0.9925868511199951, 0.9992132186889648, 0.00330137787386775, 0.9326392412185669, 0.06437686830759048, 0.2904221713542938, 0.19457723200321198, 0.5149960517883301, 0.9982127547264099, 0.9978809952735901, 0.996522068977356, 0.0931043028831482, 0.8992225527763367, 0.00824974849820137, 0.007450745906680822, 0.9909492135047913, 0.24802006781101227, 0.06453186273574829, 0.6876919865608215, 0.11188152432441711, 0.825567901134491, 0.06241811439394951, 0.978299617767334, 0.020523767918348312, 0.06162526085972786, 0.156568244099617, 0.78183913230896, 0.9160431623458862, 0.08266319334506989, 0.0016870038816705346, 0.9971734881401062, 0.9989625811576843, 0.09891218692064285, 0.06219029799103737, 0.8392729163169861, 0.9951745867729187, 0.005572536960244179, 0.013931342400610447, 0.9779802560806274, 0.000680774450302124, 0.022465556859970093, 0.9769113659858704, 0.5658184289932251, 0.10465456545352936, 0.3295384347438812, 0.9218336939811707, 0.035786498337984085, 0.0424136258661747, 0.8188376426696777, 0.1804364174604416, 0.013118203729391098, 0.13859666883945465, 0.848120391368866, 0.9998792409896851, 0.0006768149905838072, 0.030456673353910446, 0.9685222506523132, 0.9941399097442627, 0.9852445125579834, 0.9994691610336304, 0.009484797716140747, 0.9959037899971008, 0.28714409470558167, 0.24291834235191345, 0.46994128823280334, 0.11564112454652786, 0.07409597933292389, 0.8099161386489868, 0.9928427338600159, 0.0019527192926034331, 0.04686526209115982, 0.9509742856025696, 0.9235789179801941, 0.07625880837440491, 0.9956642985343933, 0.0021458282135427, 0.9993830323219299, 0.999155580997467, 0.9973471760749817, 0.47506555914878845, 0.14591459929943085, 0.37883836030960083, 0.15767879784107208, 0.17196129262447357, 0.6703253388404846, 0.9976614713668823, 0.04046780243515968, 0.9596650004386902, 0.9911455512046814, 0.010951914824545383, 0.010951914824545383, 0.9856722950935364, 0.20825344324111938, 0.006097510922700167, 0.7856407761573792, 0.9982273578643799, 0.25241148471832275, 0.39885881543159485, 0.3486419916152954, 0.9966789484024048, 0.04818624258041382, 0.9155386090278625, 0.03677371144294739, 0.9947550296783447, 0.9994301199913025, 0.22201618552207947, 0.11199923604726791, 0.6659069657325745, 0.9964466094970703, 0.027585553005337715, 0.8395203351974487, 0.1324106603860855, 0.04398765042424202, 0.8712392449378967, 0.08442790806293488, 0.9994525909423828, 0.9891743063926697, 0.21362531185150146, 0.5768834948539734, 0.2095811814069748, 0.6851734519004822, 0.09524346143007278, 0.21945831179618835, 0.009175068698823452, 0.986319899559021, 0.027568394318223, 0.9704074859619141, 0.004737108014523983, 0.990932822227478, 0.004210762679576874, 0.9938825368881226, 0.3305872082710266, 0.2045038789510727, 0.4651230573654175, 0.3833209276199341, 0.4075110852718353, 0.20918282866477966, 0.9988303780555725, 0.6686415076255798, 0.2501821219921112, 0.08140847086906433, 0.4833487868309021, 0.1527378112077713, 0.36395585536956787, 0.998119592666626, 0.9936856031417847, 0.0057660676538944244, 0.9989567399024963, 0.9684056043624878, 0.03133076801896095, 0.042224448174238205, 0.7463617324829102, 0.21171696484088898, 0.9947040677070618, 0.0932781770825386, 0.7687180638313293, 0.13826340436935425, 0.21270328760147095, 0.2674122452735901, 0.5199772119522095, 0.20151084661483765, 0.6119274497032166, 0.1867210566997528, 0.04212632030248642, 0.9145241379737854, 0.04289225488901138, 0.1719217151403427, 0.3963679373264313, 0.4317259192466736, 0.6342613101005554, 0.2780458927154541, 0.08740469813346863, 0.21532143652439117, 0.5698578357696533, 0.2148083597421646, 0.9791521430015564, 0.020512964576482773, 0.0004558436630759388, 0.999434232711792, 0.3712958097457886, 0.4149118661880493, 0.21388651430606842], \"Term\": [\"19\", \"19\", \"19\", \"2008\", \"2020\", \"2020\", \"2020\", \"___\", \"___\", \"___\", \"abortion\", \"abortion\", \"ad\", \"administration\", \"administration\", \"administration\", \"adult\", \"adult\", \"africa\", \"africa\", \"albuquerque\", \"also\", \"also\", \"also\", \"american\", \"american\", \"american\", \"angeles\", \"angeles\", \"angeles\", \"ap\", \"ap\", \"ap\", \"apnews\", \"associate\", \"associate\", \"associate\", \"authority\", \"authority\", \"authority\", \"bailout\", \"beijing\", \"bernie\", \"beshear\", \"biden\", \"bill\", \"bill\", \"bill\", \"billion\", \"billion\", \"billion\", \"bloomberg\", \"bloomberg\", \"border\", \"border\", \"border\", \"broadcast\", \"broadcast\", \"broadcast\", \"burr\", \"call\", \"call\", \"call\", \"campaign\", \"campaign\", \"candidate\", \"care\", \"care\", \"care\", \"career\", \"case\", \"case\", \"case\", \"cause\", \"cause\", \"cause\", \"chicago\", \"chicago\", \"chicago\", \"china\", \"china\", \"china\", \"chinese\", \"chinese\", \"city\", \"city\", \"city\", \"close\", \"close\", \"close\", \"cnn\", \"cnn\", \"cnn\", \"come\", \"come\", \"come\", \"communist\", \"communist\", \"confirm\", \"confirm\", \"confirm\", \"congress\", \"congress\", \"congressional\", \"congressional\", \"connecticut\", \"connecticut\", \"coronavirus\", \"coronavirus\", \"coronavirus\", \"cough\", \"cough\", \"cough\", \"could\", \"could\", \"could\", \"country\", \"country\", \"country\", \"county\", \"county\", \"coverage\", \"coverage\", \"coverage\", \"covid\", \"covid\", \"covid\", \"crisis\", \"crisis\", \"crisis\", \"day\", \"day\", \"day\", \"death\", \"death\", \"death\", \"debate\", \"debate\", \"delhi\", \"democrat\", \"democrat\", \"democratic\", \"democratic\", \"democratic\", \"department\", \"department\", \"department\", \"detainee\", \"diego\", \"dine\", \"dingell\", \"disease\", \"disease\", \"disease\", \"donald\", \"donald\", \"donald\", \"ducey\", \"economy\", \"economy\", \"economy\", \"edit\", \"edit\", \"epidemic\", \"epidemic\", \"epidemic\", \"even\", \"even\", \"even\", \"evers\", \"facility\", \"facility\", \"facility\", \"fauci\", \"fauci\", \"feb\", \"feb\", \"feb\", \"flight\", \"flight\", \"flight\", \"france\", \"france\", \"french\", \"french\", \"g20\", \"germany\", \"germany\", \"get\", \"get\", \"get\", \"gm\", \"go\", \"go\", \"go\", \"gov\", \"gov\", \"government\", \"government\", \"government\", \"health\", \"health\", \"health\", \"hoax\", \"holcomb\", \"home\", \"home\", \"home\", \"homeless\", \"homeless\", \"hong\", \"honolulu\", \"hospital\", \"hospital\", \"hospital\", \"house\", \"house\", \"house\", \"howard\", \"howard\", \"hubei\", \"hughes\", \"hughes\", \"idea\", \"idea\", \"illness\", \"illness\", \"illness\", \"include\", \"include\", \"include\", \"indonesia\", \"infection\", \"infection\", \"infection\", \"inmate\", \"iran\", \"iran\", \"iranian\", \"italian\", \"italian\", \"italian\", \"italy\", \"italy\", \"italy\", \"japan\", \"japan\", \"jinping\", \"kemp\", \"kirkland\", \"kong\", \"korea\", \"korea\", \"korea\", \"lamont\", \"lightfoot\", \"like\", \"like\", \"like\", \"listen\", \"listen\", \"lunar\", \"madrid\", \"maduro\", \"make\", \"make\", \"make\", \"malaysia\", \"massie\", \"material\", \"material\", \"material\", \"may\", \"may\", \"may\", \"maybe\", \"maybe\", \"maybe\", \"mcconnell\", \"mild\", \"mild\", \"mild\", \"minister\", \"minister\", \"ministry\", \"mnuchin\", \"moderate\", \"moderate\", \"money\", \"money\", \"money\", \"moscow\", \"nba\", \"need\", \"need\", \"need\", \"new\", \"new\", \"new\", \"newsom\", \"nomination\", \"number\", \"number\", \"number\", \"nursing\", \"nursing\", \"nursing\", \"obama\", \"official\", \"official\", \"official\", \"one\", \"one\", \"one\", \"order\", \"order\", \"order\", \"outbreak\", \"outbreak\", \"outbreak\", \"package\", \"package\", \"package\", \"pandemic\", \"pandemic\", \"pandemic\", \"park\", \"park\", \"park\", \"payroll\", \"pelosi\", \"penny\", \"penny\", \"penny\", \"people\", \"people\", \"people\", \"philippine\", \"player\", \"polis\", \"political\", \"political\", \"political\", \"poll\", \"poll\", \"positive\", \"positive\", \"positive\", \"president\", \"president\", \"president\", \"presidential\", \"presidential\", \"press\", \"press\", \"press\", \"prime\", \"prime\", \"prime\", \"progressive\", \"province\", \"publish\", \"publish\", \"publish\", \"qom\", \"receives\", \"receives\", \"receives\", \"redistribute\", \"redistribute\", \"redistribute\", \"report\", \"report\", \"report\", \"reporting\", \"reporting\", \"reporting\", \"republican\", \"republican\", \"reserve\", \"reserve\", \"reserve\", \"reuters\", \"rewrite\", \"rewrite\", \"rewrite\", \"richmond\", \"sacramento\", \"sander\", \"santa\", \"santa\", \"say\", \"say\", \"say\", \"school\", \"school\", \"school\", \"schumer\", \"seattle\", \"seattle\", \"seattle\", \"senate\", \"senate\", \"senator\", \"senator\", \"seoul\", \"shanghai\", \"singapore\", \"spread\", \"spread\", \"spread\", \"state\", \"state\", \"state\", \"statewide\", \"stimulus\", \"stimulus\", \"superintendent\", \"surgery\", \"surgery\", \"surgery\", \"symptom\", \"symptom\", \"symptom\", \"taiwan\", \"take\", \"take\", \"take\", \"takeout\", \"talk\", \"talk\", \"talk\", \"tedros\", \"tehran\", \"test\", \"test\", \"test\", \"thailand\", \"thing\", \"thing\", \"thing\", \"think\", \"think\", \"think\", \"thomson\", \"thru\", \"time\", \"time\", \"time\", \"travel\", \"travel\", \"travel\", \"treasury\", \"treasury\", \"trillion\", \"trillion\", \"trump\", \"trump\", \"trump\", \"turkey\", \"two\", \"two\", \"two\", \"u\", \"u\", \"u\", \"understandingtheoutbreak\", \"united\", \"united\", \"united\", \"virus\", \"virus\", \"virus\", \"virusoutbreak\", \"vote\", \"vote\", \"voter\", \"voting\", \"voting\", \"want\", \"want\", \"want\", \"warren\", \"way\", \"way\", \"way\", \"week\", \"week\", \"week\", \"well\", \"well\", \"well\", \"white\", \"white\", \"white\", \"work\", \"work\", \"work\", \"world\", \"world\", \"world\", \"would\", \"would\", \"would\", \"wuhan\", \"wuhan\", \"wuhan\", \"xi\", \"year\", \"year\", \"year\"]}, \"R\": 30, \"lambda.step\": 0.01, \"plot.opts\": {\"xlab\": \"PC1\", \"ylab\": \"PC2\"}, \"topic.order\": [1, 2, 3]};\n",
       "\n",
       "function LDAvis_load_lib(url, callback){\n",
       "  var s = document.createElement('script');\n",
       "  s.src = url;\n",
       "  s.async = true;\n",
       "  s.onreadystatechange = s.onload = callback;\n",
       "  s.onerror = function(){console.warn(\"failed to load library \" + url);};\n",
       "  document.getElementsByTagName(\"head\")[0].appendChild(s);\n",
       "}\n",
       "\n",
       "if(typeof(LDAvis) !== \"undefined\"){\n",
       "   // already loaded: just create the visualization\n",
       "   !function(LDAvis){\n",
       "       new LDAvis(\"#\" + \"ldavis_el4270891400517492659209972411730\", ldavis_el4270891400517492659209972411730_data);\n",
       "   }(LDAvis);\n",
       "}else if(typeof define === \"function\" && define.amd){\n",
       "   // require.js is available: use it to load d3/LDAvis\n",
       "   require.config({paths: {d3: \"https://cdnjs.cloudflare.com/ajax/libs/d3/3.5.5/d3.min\"}});\n",
       "   require([\"d3\"], function(d3){\n",
       "      window.d3 = d3;\n",
       "      LDAvis_load_lib(\"https://cdn.rawgit.com/bmabey/pyLDAvis/files/ldavis.v1.0.0.js\", function(){\n",
       "        new LDAvis(\"#\" + \"ldavis_el4270891400517492659209972411730\", ldavis_el4270891400517492659209972411730_data);\n",
       "      });\n",
       "    });\n",
       "}else{\n",
       "    // require.js not available: dynamically load d3 & LDAvis\n",
       "    LDAvis_load_lib(\"https://cdnjs.cloudflare.com/ajax/libs/d3/3.5.5/d3.min.js\", function(){\n",
       "         LDAvis_load_lib(\"https://cdn.rawgit.com/bmabey/pyLDAvis/files/ldavis.v1.0.0.js\", function(){\n",
       "                 new LDAvis(\"#\" + \"ldavis_el4270891400517492659209972411730\", ldavis_el4270891400517492659209972411730_data);\n",
       "            })\n",
       "         });\n",
       "}\n",
       "</script>"
      ],
      "text/plain": [
       "<IPython.core.display.HTML object>"
      ]
     },
     "execution_count": 17,
     "metadata": {},
     "output_type": "execute_result"
    }
   ],
   "source": [
    "import pyLDAvis.gensim\n",
    "lda_display = pyLDAvis.gensim.prepare(ldamodel, corpus, dictionary, sort_topics=False)\n",
    "pyLDAvis.display(lda_display)"
   ]
  }
 ],
 "metadata": {
  "kernelspec": {
   "display_name": "elle",
   "language": "python",
   "name": "elle"
  },
  "language_info": {
   "codemirror_mode": {
    "name": "ipython",
    "version": 3
   },
   "file_extension": ".py",
   "mimetype": "text/x-python",
   "name": "python",
   "nbconvert_exporter": "python",
   "pygments_lexer": "ipython3",
   "version": "3.8.0"
  },
  "latex_envs": {
   "LaTeX_envs_menu_present": true,
   "autoclose": false,
   "autocomplete": true,
   "bibliofile": "biblio.bib",
   "cite_by": "apalike",
   "current_citInitial": 1,
   "eqLabelWithNumbers": true,
   "eqNumInitial": 1,
   "hotkeys": {
    "equation": "Ctrl-E",
    "itemize": "Ctrl-I"
   },
   "labels_anchors": false,
   "latex_user_defs": false,
   "report_style_numbering": false,
   "user_envs_cfg": false
  },
  "toc": {
   "base_numbering": 1,
   "nav_menu": {},
   "number_sections": true,
   "sideBar": true,
   "skip_h1_title": false,
   "title_cell": "Table of Contents",
   "title_sidebar": "Contents",
   "toc_cell": false,
   "toc_position": {},
   "toc_section_display": true,
   "toc_window_display": false
  },
  "varInspector": {
   "cols": {
    "lenName": 16,
    "lenType": 16,
    "lenVar": 40
   },
   "kernels_config": {
    "python": {
     "delete_cmd_postfix": "",
     "delete_cmd_prefix": "del ",
     "library": "var_list.py",
     "varRefreshCmd": "print(var_dic_list())"
    },
    "r": {
     "delete_cmd_postfix": ") ",
     "delete_cmd_prefix": "rm(",
     "library": "var_list.r",
     "varRefreshCmd": "cat(var_dic_list()) "
    }
   },
   "types_to_exclude": [
    "module",
    "function",
    "builtin_function_or_method",
    "instance",
    "_Feature"
   ],
   "window_display": false
  }
 },
 "nbformat": 4,
 "nbformat_minor": 4
}
