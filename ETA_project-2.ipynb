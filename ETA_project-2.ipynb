{
 "cells": [
  {
   "cell_type": "code",
   "execution_count": 1,
   "metadata": {},
   "outputs": [],
   "source": [
    "import numpy as np # linear algebra\n",
    "import pandas as pd # data processing, CSV file I/O (e.g. pd.read_csv)\n",
    "import glob\n",
    "import json\n",
    "from sklearn.feature_extraction.text import TfidfVectorizer\n",
    "\n",
    "import matplotlib.pyplot as plt\n",
    "plt.style.use('ggplot')"
   ]
  },
  {
   "cell_type": "markdown",
   "metadata": {},
   "source": [
    "# Import Data"
   ]
  },
  {
   "cell_type": "code",
   "execution_count": 70,
   "metadata": {},
   "outputs": [],
   "source": [
    "df_covid = pd.read_csv(\"covid19_news.csv\")"
   ]
  },
  {
   "cell_type": "code",
   "execution_count": 71,
   "metadata": {},
   "outputs": [
    {
     "data": {
      "text/plain": [
       "4619"
      ]
     },
     "execution_count": 71,
     "metadata": {},
     "output_type": "execute_result"
    }
   ],
   "source": [
    "len(df_covid)"
   ]
  },
  {
   "cell_type": "code",
   "execution_count": 72,
   "metadata": {},
   "outputs": [
    {
     "data": {
      "text/html": [
       "<div>\n",
       "<style scoped>\n",
       "    .dataframe tbody tr th:only-of-type {\n",
       "        vertical-align: middle;\n",
       "    }\n",
       "\n",
       "    .dataframe tbody tr th {\n",
       "        vertical-align: top;\n",
       "    }\n",
       "\n",
       "    .dataframe thead th {\n",
       "        text-align: right;\n",
       "    }\n",
       "</style>\n",
       "<table border=\"1\" class=\"dataframe\">\n",
       "  <thead>\n",
       "    <tr style=\"text-align: right;\">\n",
       "      <th></th>\n",
       "      <th>doc_content</th>\n",
       "      <th>doc_date</th>\n",
       "      <th>doc_id</th>\n",
       "      <th>doc_source</th>\n",
       "      <th>doc_title</th>\n",
       "      <th>doc_url</th>\n",
       "    </tr>\n",
       "  </thead>\n",
       "  <tbody>\n",
       "    <tr>\n",
       "      <th>764</th>\n",
       "      <td>ALBANY, N.Y. (AP) — The state University at Al...</td>\n",
       "      <td>02/20/2020</td>\n",
       "      <td>1021697</td>\n",
       "      <td>US News</td>\n",
       "      <td>Students' Coronavirus-Themed Party Stirs Anger...</td>\n",
       "      <td>https://www.usnews.com/news/best-states/new-yo...</td>\n",
       "    </tr>\n",
       "    <tr>\n",
       "      <th>4031</th>\n",
       "      <td>By KIM CHANDLER, Associated Press\\nMONTGOMERY,...</td>\n",
       "      <td>03/25/2020</td>\n",
       "      <td>1039624</td>\n",
       "      <td>US News</td>\n",
       "      <td>Alabama Unemployment Claims Skyrocket Amid Pan...</td>\n",
       "      <td>https://www.usnews.com/news/best-states/alabam...</td>\n",
       "    </tr>\n",
       "    <tr>\n",
       "      <th>471</th>\n",
       "      <td>closeVideoFox News Flash top headlines for Feb...</td>\n",
       "      <td>02/06/2020</td>\n",
       "      <td>1009458</td>\n",
       "      <td>Fox</td>\n",
       "      <td>Airline passenger forces WestJet plane back to...</td>\n",
       "      <td>https://www.foxnews.com/travel/airline-passeng...</td>\n",
       "    </tr>\n",
       "    <tr>\n",
       "      <th>468</th>\n",
       "      <td>(This Feb. 8 story has been corrected to remov...</td>\n",
       "      <td>02/06/2020</td>\n",
       "      <td>1009323</td>\n",
       "      <td>US News</td>\n",
       "      <td>American Dies of Coronavirus in China; Five Br...</td>\n",
       "      <td>https://www.usnews.com/news/world/articles/202...</td>\n",
       "    </tr>\n",
       "    <tr>\n",
       "      <th>749</th>\n",
       "      <td>BEIJING/SHANGHAI (Reuters) - China plans to ta...</td>\n",
       "      <td>02/19/2020</td>\n",
       "      <td>1020395</td>\n",
       "      <td>US News</td>\n",
       "      <td>China to Take Over HNA as Coronavirus Hits Bus...</td>\n",
       "      <td>https://www.usnews.com/news/world/articles/202...</td>\n",
       "    </tr>\n",
       "    <tr>\n",
       "      <th>194</th>\n",
       "      <td>\\nSen. Tom Cotton (R-AR) is calling on the Tru...</td>\n",
       "      <td>01/28/2020</td>\n",
       "      <td>1001651</td>\n",
       "      <td>Breitbart</td>\n",
       "      <td>Tom Cotton Calls for Targeted Travel Ban on Ch...</td>\n",
       "      <td>http://feedproxy.google.com/~r/breitbart/~3/Is...</td>\n",
       "    </tr>\n",
       "    <tr>\n",
       "      <th>2529</th>\n",
       "      <td>By ANDREW MELDRUM, Associated Press\\nJOHANNESB...</td>\n",
       "      <td>03/14/2020</td>\n",
       "      <td>1035719</td>\n",
       "      <td>US News</td>\n",
       "      <td>Virus Cases Spread Across Africa, Nations Prep...</td>\n",
       "      <td>https://www.usnews.com/news/world/articles/202...</td>\n",
       "    </tr>\n",
       "    <tr>\n",
       "      <th>289</th>\n",
       "      <td>(Reuters) - The coronavirus epidemic continued...</td>\n",
       "      <td>01/31/2020</td>\n",
       "      <td>1004789</td>\n",
       "      <td>US News</td>\n",
       "      <td>Coronavirus Forces Postponement of Badminton O...</td>\n",
       "      <td>https://www.usnews.com/news/world/articles/202...</td>\n",
       "    </tr>\n",
       "    <tr>\n",
       "      <th>1297</th>\n",
       "      <td>By JOHN LEICESTER, Associated Press\\nPARIS (AP...</td>\n",
       "      <td>03/01/2020</td>\n",
       "      <td>1028575</td>\n",
       "      <td>US News</td>\n",
       "      <td>Virus Fears Close Down France's Famed Louvre M...</td>\n",
       "      <td>https://www.usnews.com/news/business/articles/...</td>\n",
       "    </tr>\n",
       "    <tr>\n",
       "      <th>3186</th>\n",
       "      <td>closeVideoDr. Anthony Fauci says it will be we...</td>\n",
       "      <td>03/18/2020</td>\n",
       "      <td>1037221</td>\n",
       "      <td>Fox</td>\n",
       "      <td>Fauci says it'll be weeks before we see the ef...</td>\n",
       "      <td>https://www.foxnews.com/media/dr-fauci-says-it...</td>\n",
       "    </tr>\n",
       "  </tbody>\n",
       "</table>\n",
       "</div>"
      ],
      "text/plain": [
       "                                            doc_content    doc_date   doc_id  \\\n",
       "764   ALBANY, N.Y. (AP) — The state University at Al...  02/20/2020  1021697   \n",
       "4031  By KIM CHANDLER, Associated Press\\nMONTGOMERY,...  03/25/2020  1039624   \n",
       "471   closeVideoFox News Flash top headlines for Feb...  02/06/2020  1009458   \n",
       "468   (This Feb. 8 story has been corrected to remov...  02/06/2020  1009323   \n",
       "749   BEIJING/SHANGHAI (Reuters) - China plans to ta...  02/19/2020  1020395   \n",
       "194   \\nSen. Tom Cotton (R-AR) is calling on the Tru...  01/28/2020  1001651   \n",
       "2529  By ANDREW MELDRUM, Associated Press\\nJOHANNESB...  03/14/2020  1035719   \n",
       "289   (Reuters) - The coronavirus epidemic continued...  01/31/2020  1004789   \n",
       "1297  By JOHN LEICESTER, Associated Press\\nPARIS (AP...  03/01/2020  1028575   \n",
       "3186  closeVideoDr. Anthony Fauci says it will be we...  03/18/2020  1037221   \n",
       "\n",
       "     doc_source                                          doc_title  \\\n",
       "764     US News  Students' Coronavirus-Themed Party Stirs Anger...   \n",
       "4031    US News  Alabama Unemployment Claims Skyrocket Amid Pan...   \n",
       "471         Fox  Airline passenger forces WestJet plane back to...   \n",
       "468     US News  American Dies of Coronavirus in China; Five Br...   \n",
       "749     US News  China to Take Over HNA as Coronavirus Hits Bus...   \n",
       "194   Breitbart  Tom Cotton Calls for Targeted Travel Ban on Ch...   \n",
       "2529    US News  Virus Cases Spread Across Africa, Nations Prep...   \n",
       "289     US News  Coronavirus Forces Postponement of Badminton O...   \n",
       "1297    US News  Virus Fears Close Down France's Famed Louvre M...   \n",
       "3186        Fox  Fauci says it'll be weeks before we see the ef...   \n",
       "\n",
       "                                                doc_url  \n",
       "764   https://www.usnews.com/news/best-states/new-yo...  \n",
       "4031  https://www.usnews.com/news/best-states/alabam...  \n",
       "471   https://www.foxnews.com/travel/airline-passeng...  \n",
       "468   https://www.usnews.com/news/world/articles/202...  \n",
       "749   https://www.usnews.com/news/world/articles/202...  \n",
       "194   http://feedproxy.google.com/~r/breitbart/~3/Is...  \n",
       "2529  https://www.usnews.com/news/world/articles/202...  \n",
       "289   https://www.usnews.com/news/world/articles/202...  \n",
       "1297  https://www.usnews.com/news/business/articles/...  \n",
       "3186  https://www.foxnews.com/media/dr-fauci-says-it...  "
      ]
     },
     "execution_count": 72,
     "metadata": {},
     "output_type": "execute_result"
    }
   ],
   "source": [
    "df_covid.sample(10)"
   ]
  },
  {
   "cell_type": "code",
   "execution_count": 63,
   "metadata": {},
   "outputs": [
    {
     "data": {
      "text/plain": [
       "\"\\nBrazilian President Jair Bolsonaro once again blasted the global “hysteria” over the Chinese coronavirus in a public address Tuesday, urging his people to get back to normal life and work as soon as they possibly can.\\nIn an address to the nation, Bolsonaro called on local authorities such as mayors and state governors to start rolling back lockdown measures that have shut down schools and brought many of the country’s big cities to complete standstill.\\n\\n\\n“Our lives have to go on. Jobs must be kept … we must, yes, get back to normal,” Bolsonaro said. “A small number of state and municipal authorities must abandon their scorched-earth ideas: the banning of public transport, the closing of commerce, and mass confinement.”\\n\\n“What is happening around the world has shown that the at-risk group are those aged 60 or over. So why close schools?” he continued. “90 percent of us will show no symptoms if we are infected.”\\n\\nUnable to take to the streets due to lockdown, opponents of Bolsonaro vented their fury at what they claimed was a cavalier attitude towards the virus by banging pots and pans from their balconies.\\nCiting his history as an athlete, the former army captain also insisted that he would “feel nothing” if he were infected with the coronavirus.\\n“In my particular case, with my history as an athlete, if I were infected with the virus, I would have no reason to worry, I would feel nothing, or it would be at most just a small flu,” he said.\\nIn a video-conference held on Wednesday morning between the president and state officials, Bolsonaro clashed with São Paulo governor João Doria, who has enforced a 15-day quarantine period affecting about 46 million in the country’s most populous and important financial state.\\nIn the exchange, Doria pledged to\\xa0pursue “legal action” if necessary.\\n\\n“We have 40 deaths in our state,” he said. “These aren’t fake deaths, Mr. President. This is not just a ‘little flu.'”\\nAccording to the latest figures, Brazil has so far recorded 2,201 cases of the coronavirus and 46 deaths, most of which are in São Paulo and Rio de Janeiro. Despite its population of around 200 million, the figures place Brazil relatively ahead of most Latin American countries.\\nBolsonaro, who recently tested negative for the coronavirus following false reports that he had tested positive, is now proposing a “vertical” approach to isolation, that will require the elderly and those with prior health conditions to self-quarantine. Reports in Brazilian media suggest that his Health Minister Dr. Luiz Henrique Mandetta may resign in protest.\\nBolsonaro insisted last week that his country was “winning” the fight against the coronavirus thanks to his leadership.\\n“The team is doing well and we are winning by a landslide [goleada,\\xa0a term meaning many soccer goals],”\\xa0he told an\\xa0O Globo\\xa0journalist when asked whether he regretted his initial response. “But it is also thanks to its coach.\\xa0So, we are going to do justice and praise the coach named Jair Bolsonaro.”\\nFollow Ben Kew on\\xa0Facebook, Twitter at\\xa0@ben_kew,\\xa0or\\xa0email him at bkew@breitbart.com.\\n\""
      ]
     },
     "execution_count": 63,
     "metadata": {},
     "output_type": "execute_result"
    }
   ],
   "source": [
    "df_covid.doc_content[4280]"
   ]
  },
  {
   "cell_type": "code",
   "execution_count": 248,
   "metadata": {},
   "outputs": [
    {
     "data": {
      "text/plain": [
       "1035069"
      ]
     },
     "execution_count": 248,
     "metadata": {},
     "output_type": "execute_result"
    }
   ],
   "source": [
    "df_covid.doc_id[2509]"
   ]
  },
  {
   "cell_type": "markdown",
   "metadata": {},
   "source": [
    "## doc content preprocessing"
   ]
  },
  {
   "cell_type": "markdown",
   "metadata": {},
   "source": [
    "### fox news"
   ]
  },
  {
   "cell_type": "code",
   "execution_count": 94,
   "metadata": {},
   "outputs": [],
   "source": [
    "dt_fox = df_covid[df_covid.doc_source == 'Fox']"
   ]
  },
  {
   "cell_type": "code",
   "execution_count": 93,
   "metadata": {},
   "outputs": [
    {
     "data": {
      "text/plain": [
       "0"
      ]
     },
     "execution_count": 93,
     "metadata": {},
     "output_type": "execute_result"
    }
   ],
   "source": [
    "len(dt_fox)"
   ]
  },
  {
   "cell_type": "code",
   "execution_count": 77,
   "metadata": {},
   "outputs": [
    {
     "data": {
      "text/html": [
       "<div>\n",
       "<style scoped>\n",
       "    .dataframe tbody tr th:only-of-type {\n",
       "        vertical-align: middle;\n",
       "    }\n",
       "\n",
       "    .dataframe tbody tr th {\n",
       "        vertical-align: top;\n",
       "    }\n",
       "\n",
       "    .dataframe thead th {\n",
       "        text-align: right;\n",
       "    }\n",
       "</style>\n",
       "<table border=\"1\" class=\"dataframe\">\n",
       "  <thead>\n",
       "    <tr style=\"text-align: right;\">\n",
       "      <th></th>\n",
       "      <th>doc_content</th>\n",
       "      <th>doc_date</th>\n",
       "      <th>doc_id</th>\n",
       "      <th>doc_source</th>\n",
       "      <th>doc_title</th>\n",
       "      <th>doc_url</th>\n",
       "    </tr>\n",
       "  </thead>\n",
       "  <tbody>\n",
       "    <tr>\n",
       "      <th>14</th>\n",
       "      <td>BEIJING -- China reported Monday a sharp rise ...</td>\n",
       "      <td>01/20/2020</td>\n",
       "      <td>993253</td>\n",
       "      <td>Fox</td>\n",
       "      <td>China counts sharp rise in coronavirus cases d...</td>\n",
       "      <td>https://www.foxnews.com/health/china-counts-sh...</td>\n",
       "    </tr>\n",
       "    <tr>\n",
       "      <th>43</th>\n",
       "      <td>closeVideoSen. Tom Cotton links coronavirus sp...</td>\n",
       "      <td>01/22/2020</td>\n",
       "      <td>995686</td>\n",
       "      <td>Fox</td>\n",
       "      <td>Tom Cotton: China needs to answer for 'malfeas...</td>\n",
       "      <td>https://www.foxnews.com/media/tom-cotton-coron...</td>\n",
       "    </tr>\n",
       "    <tr>\n",
       "      <th>47</th>\n",
       "      <td>closeVideoTrump took swipe at Democratic candi...</td>\n",
       "      <td>01/22/2020</td>\n",
       "      <td>995366</td>\n",
       "      <td>Fox</td>\n",
       "      <td>Trump says US has plan to contain coronavirus</td>\n",
       "      <td>https://www.foxnews.com/health/trump-says-us-h...</td>\n",
       "    </tr>\n",
       "    <tr>\n",
       "      <th>54</th>\n",
       "      <td>closeVideoChina expands quarantine measures am...</td>\n",
       "      <td>01/23/2020</td>\n",
       "      <td>996817</td>\n",
       "      <td>Fox</td>\n",
       "      <td>Who are the coronavirus victims? What to know ...</td>\n",
       "      <td>https://www.foxnews.com/health/who-are-the-cor...</td>\n",
       "    </tr>\n",
       "    <tr>\n",
       "      <th>56</th>\n",
       "      <td>closeVideoWorld Health Organization officials ...</td>\n",
       "      <td>01/23/2020</td>\n",
       "      <td>996824</td>\n",
       "      <td>Fox</td>\n",
       "      <td>WHO says China's coronavirus 'too early' for e...</td>\n",
       "      <td>https://www.foxnews.com/health/who-china-coron...</td>\n",
       "    </tr>\n",
       "  </tbody>\n",
       "</table>\n",
       "</div>"
      ],
      "text/plain": [
       "                                          doc_content    doc_date  doc_id  \\\n",
       "14  BEIJING -- China reported Monday a sharp rise ...  01/20/2020  993253   \n",
       "43  closeVideoSen. Tom Cotton links coronavirus sp...  01/22/2020  995686   \n",
       "47  closeVideoTrump took swipe at Democratic candi...  01/22/2020  995366   \n",
       "54  closeVideoChina expands quarantine measures am...  01/23/2020  996817   \n",
       "56  closeVideoWorld Health Organization officials ...  01/23/2020  996824   \n",
       "\n",
       "   doc_source                                          doc_title  \\\n",
       "14        Fox  China counts sharp rise in coronavirus cases d...   \n",
       "43        Fox  Tom Cotton: China needs to answer for 'malfeas...   \n",
       "47        Fox      Trump says US has plan to contain coronavirus   \n",
       "54        Fox  Who are the coronavirus victims? What to know ...   \n",
       "56        Fox  WHO says China's coronavirus 'too early' for e...   \n",
       "\n",
       "                                              doc_url  \n",
       "14  https://www.foxnews.com/health/china-counts-sh...  \n",
       "43  https://www.foxnews.com/media/tom-cotton-coron...  \n",
       "47  https://www.foxnews.com/health/trump-says-us-h...  \n",
       "54  https://www.foxnews.com/health/who-are-the-cor...  \n",
       "56  https://www.foxnews.com/health/who-china-coron...  "
      ]
     },
     "execution_count": 77,
     "metadata": {},
     "output_type": "execute_result"
    }
   ],
   "source": [
    "dt_fox.head()"
   ]
  },
  {
   "cell_type": "code",
   "execution_count": 78,
   "metadata": {},
   "outputs": [
    {
     "data": {
      "text/plain": [
       "[14, 43, 47, 54, 56, 67, 96, 115, 148, 150]"
      ]
     },
     "execution_count": 78,
     "metadata": {},
     "output_type": "execute_result"
    }
   ],
   "source": [
    "index = list(dt_fox.doc_content.index.values)\n",
    "index[:10]"
   ]
  },
  {
   "cell_type": "code",
   "execution_count": 79,
   "metadata": {},
   "outputs": [],
   "source": [
    "#dt_fox.doc_content[index[329]]"
   ]
  },
  {
   "cell_type": "code",
   "execution_count": 80,
   "metadata": {},
   "outputs": [
    {
     "name": "stderr",
     "output_type": "stream",
     "text": [
      "/apps/software/standard/compiler/gcc/7.1.0/jupyter_conda/2019.10-py3.7/lib/python3.7/site-packages/ipykernel_launcher.py:18: DeprecationWarning: The default dtype for empty Series will be 'object' instead of 'float64' in a future version. Specify a dtype explicitly to silence this warning.\n"
     ]
    }
   ],
   "source": [
    "K = []\n",
    "\n",
    "for i, d in enumerate(index):\n",
    "    #print(i,d)\n",
    "    text = df_covid.doc_content[d]\n",
    "    para_lst = text.split('\\n      ')\n",
    "    \n",
    "    para_lst = pd.DataFrame(para_lst)\n",
    "    para_lst.columns = ['paragraph_str']\n",
    "    er = df_covid.doc_id[i]\n",
    "    para_lst = pd.concat([para_lst], keys=[er], names=['doc_id'])\n",
    "    K.append(pd.DataFrame())\n",
    "    \n",
    "    K[i] = para_lst.paragraph_str.apply(lambda x: pd.Series(x.split('.'))).stack()\n",
    "    K[i] = K[i].to_frame().rename(columns={0:'sentence_str'})\n",
    "    \n",
    "    K[i].index.names = ['doc_id','paragraph_num','sentence_num']\n",
    "    K[i] = K[i].sentence_str.apply(lambda x: pd.Series(x.split())).stack()\n",
    "    \n",
    "    K[i] = K[i].to_frame().rename(columns={0:'token_str'})\n",
    "    K[i].index.names = ['doc_id','paragraph_num','sentence_num','token_num']\n",
    "    \n",
    "    K[i]['term_str'] = K[i].token_str.replace('\\W+', '', regex=True).str.lower()\n",
    "\n",
    "#print (K[13], K[7])"
   ]
  },
  {
   "cell_type": "code",
   "execution_count": 81,
   "metadata": {},
   "outputs": [
    {
     "data": {
      "text/html": [
       "<div>\n",
       "<style scoped>\n",
       "    .dataframe tbody tr th:only-of-type {\n",
       "        vertical-align: middle;\n",
       "    }\n",
       "\n",
       "    .dataframe tbody tr th {\n",
       "        vertical-align: top;\n",
       "    }\n",
       "\n",
       "    .dataframe thead th {\n",
       "        text-align: right;\n",
       "    }\n",
       "</style>\n",
       "<table border=\"1\" class=\"dataframe\">\n",
       "  <thead>\n",
       "    <tr style=\"text-align: right;\">\n",
       "      <th></th>\n",
       "      <th></th>\n",
       "      <th></th>\n",
       "      <th></th>\n",
       "      <th>token_str</th>\n",
       "      <th>term_str</th>\n",
       "    </tr>\n",
       "    <tr>\n",
       "      <th>doc_id</th>\n",
       "      <th>paragraph_num</th>\n",
       "      <th>sentence_num</th>\n",
       "      <th>token_num</th>\n",
       "      <th></th>\n",
       "      <th></th>\n",
       "    </tr>\n",
       "  </thead>\n",
       "  <tbody>\n",
       "    <tr>\n",
       "      <th rowspan=\"11\" valign=\"top\">987316</th>\n",
       "      <th rowspan=\"11\" valign=\"top\">0</th>\n",
       "      <th rowspan=\"5\" valign=\"top\">0</th>\n",
       "      <th>0</th>\n",
       "      <td>closeVideoTrump</td>\n",
       "      <td>closevideotrump</td>\n",
       "    </tr>\n",
       "    <tr>\n",
       "      <th>1</th>\n",
       "      <td>took</td>\n",
       "      <td>took</td>\n",
       "    </tr>\n",
       "    <tr>\n",
       "      <th>2</th>\n",
       "      <td>swipe</td>\n",
       "      <td>swipe</td>\n",
       "    </tr>\n",
       "    <tr>\n",
       "      <th>3</th>\n",
       "      <td>at</td>\n",
       "      <td>at</td>\n",
       "    </tr>\n",
       "    <tr>\n",
       "      <th>4</th>\n",
       "      <td>Democratic</td>\n",
       "      <td>democratic</td>\n",
       "    </tr>\n",
       "    <tr>\n",
       "      <th>...</th>\n",
       "      <th>...</th>\n",
       "      <td>...</td>\n",
       "      <td>...</td>\n",
       "    </tr>\n",
       "    <tr>\n",
       "      <th rowspan=\"5\" valign=\"top\">15</th>\n",
       "      <th>17</th>\n",
       "      <td>and</td>\n",
       "      <td>and</td>\n",
       "    </tr>\n",
       "    <tr>\n",
       "      <th>18</th>\n",
       "      <td>Taiwan,</td>\n",
       "      <td>taiwan</td>\n",
       "    </tr>\n",
       "    <tr>\n",
       "      <th>19</th>\n",
       "      <td>according</td>\n",
       "      <td>according</td>\n",
       "    </tr>\n",
       "    <tr>\n",
       "      <th>20</th>\n",
       "      <td>to</td>\n",
       "      <td>to</td>\n",
       "    </tr>\n",
       "    <tr>\n",
       "      <th>21</th>\n",
       "      <td>CNBC</td>\n",
       "      <td>cnbc</td>\n",
       "    </tr>\n",
       "  </tbody>\n",
       "</table>\n",
       "<p>267 rows × 2 columns</p>\n",
       "</div>"
      ],
      "text/plain": [
       "                                                   token_str         term_str\n",
       "doc_id paragraph_num sentence_num token_num                                  \n",
       "987316 0             0            0          closeVideoTrump  closevideotrump\n",
       "                                  1                     took             took\n",
       "                                  2                    swipe            swipe\n",
       "                                  3                       at               at\n",
       "                                  4               Democratic       democratic\n",
       "...                                                      ...              ...\n",
       "                     15           17                     and              and\n",
       "                                  18                 Taiwan,           taiwan\n",
       "                                  19               according        according\n",
       "                                  20                      to               to\n",
       "                                  21                    CNBC             cnbc\n",
       "\n",
       "[267 rows x 2 columns]"
      ]
     },
     "execution_count": 81,
     "metadata": {},
     "output_type": "execute_result"
    }
   ],
   "source": [
    "K[2]"
   ]
  },
  {
   "cell_type": "code",
   "execution_count": 82,
   "metadata": {},
   "outputs": [],
   "source": [
    "fox = pd.concat(K,axis = 0)"
   ]
  },
  {
   "cell_type": "code",
   "execution_count": 83,
   "metadata": {},
   "outputs": [
    {
     "data": {
      "text/html": [
       "<div>\n",
       "<style scoped>\n",
       "    .dataframe tbody tr th:only-of-type {\n",
       "        vertical-align: middle;\n",
       "    }\n",
       "\n",
       "    .dataframe tbody tr th {\n",
       "        vertical-align: top;\n",
       "    }\n",
       "\n",
       "    .dataframe thead th {\n",
       "        text-align: right;\n",
       "    }\n",
       "</style>\n",
       "<table border=\"1\" class=\"dataframe\">\n",
       "  <thead>\n",
       "    <tr style=\"text-align: right;\">\n",
       "      <th></th>\n",
       "      <th></th>\n",
       "      <th></th>\n",
       "      <th></th>\n",
       "      <th>token_str</th>\n",
       "      <th>term_str</th>\n",
       "    </tr>\n",
       "    <tr>\n",
       "      <th>doc_id</th>\n",
       "      <th>paragraph_num</th>\n",
       "      <th>sentence_num</th>\n",
       "      <th>token_num</th>\n",
       "      <th></th>\n",
       "      <th></th>\n",
       "    </tr>\n",
       "  </thead>\n",
       "  <tbody>\n",
       "    <tr>\n",
       "      <th rowspan=\"5\" valign=\"top\">983556</th>\n",
       "      <th rowspan=\"5\" valign=\"top\">0</th>\n",
       "      <th rowspan=\"5\" valign=\"top\">0</th>\n",
       "      <th>0</th>\n",
       "      <td>BEIJING</td>\n",
       "      <td>beijing</td>\n",
       "    </tr>\n",
       "    <tr>\n",
       "      <th>1</th>\n",
       "      <td>--</td>\n",
       "      <td></td>\n",
       "    </tr>\n",
       "    <tr>\n",
       "      <th>2</th>\n",
       "      <td>China</td>\n",
       "      <td>china</td>\n",
       "    </tr>\n",
       "    <tr>\n",
       "      <th>3</th>\n",
       "      <td>reported</td>\n",
       "      <td>reported</td>\n",
       "    </tr>\n",
       "    <tr>\n",
       "      <th>4</th>\n",
       "      <td>Monday</td>\n",
       "      <td>monday</td>\n",
       "    </tr>\n",
       "    <tr>\n",
       "      <th>...</th>\n",
       "      <th>...</th>\n",
       "      <th>...</th>\n",
       "      <th>...</th>\n",
       "      <td>...</td>\n",
       "      <td>...</td>\n",
       "    </tr>\n",
       "    <tr>\n",
       "      <th rowspan=\"5\" valign=\"top\">1005471</th>\n",
       "      <th rowspan=\"5\" valign=\"top\">2</th>\n",
       "      <th rowspan=\"4\" valign=\"top\">73</th>\n",
       "      <th>9</th>\n",
       "      <td>her</td>\n",
       "      <td>her</td>\n",
       "    </tr>\n",
       "    <tr>\n",
       "      <th>10</th>\n",
       "      <td>website</td>\n",
       "      <td>website</td>\n",
       "    </tr>\n",
       "    <tr>\n",
       "      <th>11</th>\n",
       "      <td>at</td>\n",
       "      <td>at</td>\n",
       "    </tr>\n",
       "    <tr>\n",
       "      <th>12</th>\n",
       "      <td>Komando</td>\n",
       "      <td>komando</td>\n",
       "    </tr>\n",
       "    <tr>\n",
       "      <th>74</th>\n",
       "      <th>0</th>\n",
       "      <td>com</td>\n",
       "      <td>com</td>\n",
       "    </tr>\n",
       "  </tbody>\n",
       "</table>\n",
       "<p>183327 rows × 2 columns</p>\n",
       "</div>"
      ],
      "text/plain": [
       "                                             token_str  term_str\n",
       "doc_id  paragraph_num sentence_num token_num                    \n",
       "983556  0             0            0           BEIJING   beijing\n",
       "                                   1                --          \n",
       "                                   2             China     china\n",
       "                                   3          reported  reported\n",
       "                                   4            Monday    monday\n",
       "...                                                ...       ...\n",
       "1005471 2             73           9               her       her\n",
       "                                   10          website   website\n",
       "                                   11               at        at\n",
       "                                   12          Komando   komando\n",
       "                      74           0               com       com\n",
       "\n",
       "[183327 rows x 2 columns]"
      ]
     },
     "execution_count": 83,
     "metadata": {},
     "output_type": "execute_result"
    }
   ],
   "source": [
    "fox"
   ]
  },
  {
   "cell_type": "markdown",
   "metadata": {},
   "source": [
    "### US news and CNN"
   ]
  },
  {
   "cell_type": "code",
   "execution_count": 123,
   "metadata": {},
   "outputs": [],
   "source": [
    "dt_us_cnn_bre = df_covid[df_covid.doc_source != 'Fox' ]"
   ]
  },
  {
   "cell_type": "code",
   "execution_count": 124,
   "metadata": {},
   "outputs": [
    {
     "data": {
      "text/plain": [
       "4289"
      ]
     },
     "execution_count": 124,
     "metadata": {},
     "output_type": "execute_result"
    }
   ],
   "source": [
    "len(dt_us_cnn_bre)"
   ]
  },
  {
   "cell_type": "code",
   "execution_count": 127,
   "metadata": {},
   "outputs": [],
   "source": [
    "index = list(dt_us_cnn_bre.doc_content.index.values)\n",
    "#index[:30]"
   ]
  },
  {
   "cell_type": "code",
   "execution_count": 128,
   "metadata": {},
   "outputs": [
    {
     "name": "stderr",
     "output_type": "stream",
     "text": [
      "/apps/software/standard/compiler/gcc/7.1.0/jupyter_conda/2019.10-py3.7/lib/python3.7/site-packages/ipykernel_launcher.py:18: DeprecationWarning: The default dtype for empty Series will be 'object' instead of 'float64' in a future version. Specify a dtype explicitly to silence this warning.\n"
     ]
    }
   ],
   "source": [
    "K = []\n",
    "\n",
    "for i, d in enumerate(index):\n",
    "    #print(i,d)\n",
    "    text = df_covid.doc_content[d]\n",
    "    para_lst = text.split('\\n')\n",
    "    \n",
    "    para_lst = pd.DataFrame(para_lst)\n",
    "    para_lst.columns = ['paragraph_str']\n",
    "    er = df_covid.doc_id[i]\n",
    "    para_lst = pd.concat([para_lst], keys=[er], names=['doc_id'])\n",
    "    K.append(pd.DataFrame())\n",
    "    \n",
    "    K[i] = para_lst.paragraph_str.apply(lambda x: pd.Series(x.split('.'))).stack()\n",
    "    K[i] = K[i].to_frame().rename(columns={0:'sentence_str'})\n",
    "    \n",
    "    K[i].index.names = ['doc_id','paragraph_num','sentence_num']\n",
    "    K[i] = K[i].sentence_str.apply(lambda x: pd.Series(x.split())).stack()\n",
    "    \n",
    "    K[i] = K[i].to_frame().rename(columns={0:'token_str'})\n",
    "    K[i].index.names = ['doc_id','paragraph_num','sentence_num','token_num']\n",
    "    \n",
    "    K[i]['term_str'] = K[i].token_str.replace('\\W+', '', regex=True).str.lower()\n",
    "\n",
    "#print (K[13], K[7])"
   ]
  },
  {
   "cell_type": "code",
   "execution_count": 129,
   "metadata": {},
   "outputs": [],
   "source": [
    "us_cnn_bre = pd.concat(K,axis = 0)"
   ]
  },
  {
   "cell_type": "code",
   "execution_count": 131,
   "metadata": {},
   "outputs": [
    {
     "data": {
      "text/html": [
       "<div>\n",
       "<style scoped>\n",
       "    .dataframe tbody tr th:only-of-type {\n",
       "        vertical-align: middle;\n",
       "    }\n",
       "\n",
       "    .dataframe tbody tr th {\n",
       "        vertical-align: top;\n",
       "    }\n",
       "\n",
       "    .dataframe thead th {\n",
       "        text-align: right;\n",
       "    }\n",
       "</style>\n",
       "<table border=\"1\" class=\"dataframe\">\n",
       "  <thead>\n",
       "    <tr style=\"text-align: right;\">\n",
       "      <th></th>\n",
       "      <th></th>\n",
       "      <th></th>\n",
       "      <th></th>\n",
       "      <th>token_str</th>\n",
       "      <th>term_str</th>\n",
       "    </tr>\n",
       "    <tr>\n",
       "      <th>doc_id</th>\n",
       "      <th>paragraph_num</th>\n",
       "      <th>sentence_num</th>\n",
       "      <th>token_num</th>\n",
       "      <th></th>\n",
       "      <th></th>\n",
       "    </tr>\n",
       "  </thead>\n",
       "  <tbody>\n",
       "    <tr>\n",
       "      <th>1030603</th>\n",
       "      <th>16</th>\n",
       "      <th>0</th>\n",
       "      <th>8</th>\n",
       "      <td>coronavirus</td>\n",
       "      <td>coronavirus</td>\n",
       "    </tr>\n",
       "    <tr>\n",
       "      <th>1003948</th>\n",
       "      <th>9</th>\n",
       "      <th>0</th>\n",
       "      <th>9</th>\n",
       "      <td>all</td>\n",
       "      <td>all</td>\n",
       "    </tr>\n",
       "    <tr>\n",
       "      <th>1037954</th>\n",
       "      <th>16</th>\n",
       "      <th>2</th>\n",
       "      <th>2</th>\n",
       "      <td>also</td>\n",
       "      <td>also</td>\n",
       "    </tr>\n",
       "    <tr>\n",
       "      <th>1033581</th>\n",
       "      <th>2</th>\n",
       "      <th>1</th>\n",
       "      <th>11</th>\n",
       "      <td>duty,</td>\n",
       "      <td>duty</td>\n",
       "    </tr>\n",
       "    <tr>\n",
       "      <th>1039958</th>\n",
       "      <th>0</th>\n",
       "      <th>11</th>\n",
       "      <th>4</th>\n",
       "      <td>never</td>\n",
       "      <td>never</td>\n",
       "    </tr>\n",
       "    <tr>\n",
       "      <th>1039177</th>\n",
       "      <th>130</th>\n",
       "      <th>0</th>\n",
       "      <th>24</th>\n",
       "      <td>8</td>\n",
       "      <td>8</td>\n",
       "    </tr>\n",
       "    <tr>\n",
       "      <th>992548</th>\n",
       "      <th>3</th>\n",
       "      <th>0</th>\n",
       "      <th>21</th>\n",
       "      <td>epidemic,</td>\n",
       "      <td>epidemic</td>\n",
       "    </tr>\n",
       "    <tr>\n",
       "      <th>1032992</th>\n",
       "      <th>9</th>\n",
       "      <th>1</th>\n",
       "      <th>6</th>\n",
       "      <td>few</td>\n",
       "      <td>few</td>\n",
       "    </tr>\n",
       "    <tr>\n",
       "      <th>1016604</th>\n",
       "      <th>15</th>\n",
       "      <th>0</th>\n",
       "      <th>6</th>\n",
       "      <td>positive</td>\n",
       "      <td>positive</td>\n",
       "    </tr>\n",
       "    <tr>\n",
       "      <th>1035337</th>\n",
       "      <th>2</th>\n",
       "      <th>0</th>\n",
       "      <th>13</th>\n",
       "      <td>—</td>\n",
       "      <td></td>\n",
       "    </tr>\n",
       "    <tr>\n",
       "      <th>995621</th>\n",
       "      <th>11</th>\n",
       "      <th>1</th>\n",
       "      <th>9</th>\n",
       "      <td>should</td>\n",
       "      <td>should</td>\n",
       "    </tr>\n",
       "    <tr>\n",
       "      <th>1034207</th>\n",
       "      <th>2</th>\n",
       "      <th>1</th>\n",
       "      <th>17</th>\n",
       "      <td>the</td>\n",
       "      <td>the</td>\n",
       "    </tr>\n",
       "    <tr>\n",
       "      <th>1035375</th>\n",
       "      <th>12</th>\n",
       "      <th>0</th>\n",
       "      <th>18</th>\n",
       "      <td>virus</td>\n",
       "      <td>virus</td>\n",
       "    </tr>\n",
       "    <tr>\n",
       "      <th>1030293</th>\n",
       "      <th>5</th>\n",
       "      <th>0</th>\n",
       "      <th>35</th>\n",
       "      <td>Biden</td>\n",
       "      <td>biden</td>\n",
       "    </tr>\n",
       "    <tr>\n",
       "      <th>1040478</th>\n",
       "      <th>0</th>\n",
       "      <th>49</th>\n",
       "      <th>7</th>\n",
       "      <td>of</td>\n",
       "      <td>of</td>\n",
       "    </tr>\n",
       "    <tr>\n",
       "      <th>1024899</th>\n",
       "      <th>1</th>\n",
       "      <th>0</th>\n",
       "      <th>27</th>\n",
       "      <td>screening</td>\n",
       "      <td>screening</td>\n",
       "    </tr>\n",
       "    <tr>\n",
       "      <th>1031984</th>\n",
       "      <th>12</th>\n",
       "      <th>1</th>\n",
       "      <th>5</th>\n",
       "      <td>for</td>\n",
       "      <td>for</td>\n",
       "    </tr>\n",
       "    <tr>\n",
       "      <th>1038370</th>\n",
       "      <th>10</th>\n",
       "      <th>1</th>\n",
       "      <th>4</th>\n",
       "      <td>minister</td>\n",
       "      <td>minister</td>\n",
       "    </tr>\n",
       "    <tr>\n",
       "      <th>1039498</th>\n",
       "      <th>13</th>\n",
       "      <th>1</th>\n",
       "      <th>6</th>\n",
       "      <td>out</td>\n",
       "      <td>out</td>\n",
       "    </tr>\n",
       "    <tr>\n",
       "      <th>1039214</th>\n",
       "      <th>38</th>\n",
       "      <th>0</th>\n",
       "      <th>3</th>\n",
       "      <td>Associated</td>\n",
       "      <td>associated</td>\n",
       "    </tr>\n",
       "  </tbody>\n",
       "</table>\n",
       "</div>"
      ],
      "text/plain": [
       "                                                token_str     term_str\n",
       "doc_id  paragraph_num sentence_num token_num                          \n",
       "1030603 16            0            8          coronavirus  coronavirus\n",
       "1003948 9             0            9                  all          all\n",
       "1037954 16            2            2                 also         also\n",
       "1033581 2             1            11               duty,         duty\n",
       "1039958 0             11           4                never        never\n",
       "1039177 130           0            24                   8            8\n",
       "992548  3             0            21           epidemic,     epidemic\n",
       "1032992 9             1            6                  few          few\n",
       "1016604 15            0            6             positive     positive\n",
       "1035337 2             0            13                   —             \n",
       "995621  11            1            9               should       should\n",
       "1034207 2             1            17                 the          the\n",
       "1035375 12            0            18               virus        virus\n",
       "1030293 5             0            35               Biden        biden\n",
       "1040478 0             49           7                   of           of\n",
       "1024899 1             0            27           screening    screening\n",
       "1031984 12            1            5                  for          for\n",
       "1038370 10            1            4             minister     minister\n",
       "1039498 13            1            6                  out          out\n",
       "1039214 38            0            3           Associated   associated"
      ]
     },
     "execution_count": 131,
     "metadata": {},
     "output_type": "execute_result"
    }
   ],
   "source": [
    "us_cnn_bre.sample(20)"
   ]
  },
  {
   "cell_type": "code",
   "execution_count": 132,
   "metadata": {},
   "outputs": [],
   "source": [
    "news = [fox, us_cnn_bre]"
   ]
  },
  {
   "cell_type": "code",
   "execution_count": 133,
   "metadata": {},
   "outputs": [],
   "source": [
    "total = pd.concat(news,axis = 0)"
   ]
  },
  {
   "cell_type": "code",
   "execution_count": null,
   "metadata": {},
   "outputs": [],
   "source": [
    "total.sample()"
   ]
  }
 ],
 "metadata": {
  "kernelspec": {
   "display_name": "Python 3",
   "language": "python",
   "name": "python3"
  },
  "language_info": {
   "codemirror_mode": {
    "name": "ipython",
    "version": 3
   },
   "file_extension": ".py",
   "mimetype": "text/x-python",
   "name": "python",
   "nbconvert_exporter": "python",
   "pygments_lexer": "ipython3",
   "version": "3.7.4"
  }
 },
 "nbformat": 4,
 "nbformat_minor": 4
}
