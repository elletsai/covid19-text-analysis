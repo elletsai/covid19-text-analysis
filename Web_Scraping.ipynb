{
 "cells": [
  {
   "cell_type": "markdown",
   "metadata": {},
   "source": [
    "# ETA Final Project - Covid19 Sentiment Analysis on US news\n",
    "## Web scraping News Article\n",
    "\n",
    "* Yiting (Elle) Tsai (yt9mh@virginia.edu)\n",
    "* DS 5001\n",
    "* 28 April 2020\n"
   ]
  },
  {
   "cell_type": "code",
   "execution_count": 1,
   "metadata": {
    "ExecuteTime": {
     "end_time": "2020-04-02T15:50:51.647609Z",
     "start_time": "2020-04-02T15:50:50.167058Z"
    }
   },
   "outputs": [],
   "source": [
    "import pandas as pd\n",
    "import numpy as np\n",
    "import requests\n",
    "import os\n",
    "from bs4 import BeautifulSoup\n",
    "import requests"
   ]
  },
  {
   "cell_type": "code",
   "execution_count": 3,
   "metadata": {
    "ExecuteTime": {
     "end_time": "2020-04-02T15:50:51.676883Z",
     "start_time": "2020-04-02T15:50:51.657719Z"
    }
   },
   "outputs": [],
   "source": [
    "pd.set_option('display.max_columns', None)\n",
    "pd.set_option('display.max_rows', None)"
   ]
  },
  {
   "cell_type": "code",
   "execution_count": 2,
   "metadata": {
    "ExecuteTime": {
     "end_time": "2020-04-02T15:50:51.826557Z",
     "start_time": "2020-04-02T15:50:51.714037Z"
    }
   },
   "outputs": [],
   "source": [
    "news = pd.read_csv('coronavirus-news.csv')"
   ]
  },
  {
   "cell_type": "code",
   "execution_count": 3,
   "metadata": {
    "ExecuteTime": {
     "end_time": "2020-04-02T15:50:52.371184Z",
     "start_time": "2020-04-02T15:50:52.356006Z"
    }
   },
   "outputs": [
    {
     "data": {
      "text/plain": [
       "US News                2886\n",
       "Google News            1179\n",
       "Breitbart               901\n",
       "CNN                     366\n",
       "Fox                     331\n",
       "UPI Latest              313\n",
       "NPR                     178\n",
       "Reuters                 175\n",
       "Real Clear Politics     163\n",
       "Guardian                124\n",
       "Drudge Report           111\n",
       "PowerLine                88\n",
       "New York Times           75\n",
       "Politico Magazine        62\n",
       "Name: doc_source, dtype: int64"
      ]
     },
     "execution_count": 3,
     "metadata": {},
     "output_type": "execute_result"
    }
   ],
   "source": [
    "news.doc_source.value_counts()"
   ]
  },
  {
   "cell_type": "code",
   "execution_count": 4,
   "metadata": {
    "ExecuteTime": {
     "end_time": "2020-04-02T15:51:27.909818Z",
     "start_time": "2020-04-02T15:51:27.901671Z"
    }
   },
   "outputs": [],
   "source": [
    "bnews = news[news.doc_source=='Fox'].reset_index()"
   ]
  },
  {
   "cell_type": "code",
   "execution_count": 7,
   "metadata": {
    "ExecuteTime": {
     "end_time": "2020-04-02T15:51:30.636762Z",
     "start_time": "2020-04-02T15:51:30.619226Z"
    }
   },
   "outputs": [],
   "source": [
    "url = bnews['doc_url'][0]"
   ]
  },
  {
   "cell_type": "code",
   "execution_count": 9,
   "metadata": {},
   "outputs": [],
   "source": [
    "html = html_content = requests.get(url)\n",
    "html_content.status_code\n",
    "soup = BeautifulSoup(html_content.text, 'html')\n",
    "content = soup.find_all(class_ = 'article-body')\n",
    "content = content[0].text"
   ]
  },
  {
   "cell_type": "code",
   "execution_count": 10,
   "metadata": {},
   "outputs": [
    {
     "data": {
      "text/plain": [
       "\"BEIJING -- China reported Monday a sharp rise in the number of people infected with a new coronavirus, including the first cases in the capital. The outbreak coincides with the country's busiest travel period, as millions board trains and planes for the Lunar New Year holidays.Health authorities in the central city of Wuhan, where the viral pneumonia appears to have originated, said an additional 136 cases have been confirmed in the city, which now has a total of 198 infected patients. As of the weekend, a third patient had died, bringing the death toll to three.Two individuals in Beijing and one in the southern city of Shenzhen have also been diagnosed with the novel coronavirus, health commissions in the respective cities said Monday. The three people had visited Wuhan.CLICK HERE FOR THE ALL-NEW FOXBUSINESS.COMThe outbreak has put other countries on alert as millions of Chinese travel for Lunar New Year. Authorities in Thailand and in Japan have already identified at least three cases, all involving recent travel from China.At least a half-dozen countries in Asia and three U.S. airports have started screening incoming airline passengers from central China.Many of the initial cases had connections to a seafood market in Wuhan, which was closed for an investigation.As hundreds of people who came into close contact with diagnosed patients were not infected themselves, the municipal health commission maintains that the virus is not easily transmitted between humans, though it has not ruled out limited human-to-human transmission.CLICK HERE TO GET THE FOX NEWS APPCoronaviruses cause diseases ranging from the common cold to SARS, or severe acute respiratory syndrome. SARS first infected people in southern China in late 2002 and spread to more than two dozen countries, killing nearly 800.The virus causing the current outbreak is different from those previously identified, Chinese scientists said earlier this month. Initial symptoms of the novel coronavirus include fever, cough, tightness of the chest and shortness of breath.\""
      ]
     },
     "execution_count": 10,
     "metadata": {},
     "output_type": "execute_result"
    }
   ],
   "source": [
    "content"
   ]
  },
  {
   "cell_type": "code",
   "execution_count": 12,
   "metadata": {
    "ExecuteTime": {
     "end_time": "2020-04-02T15:51:14.367105Z",
     "start_time": "2020-04-02T15:51:14.354694Z"
    }
   },
   "outputs": [],
   "source": [
    "def scrape_news(url):\n",
    "    \n",
    "    #html_content = requests.get(url, headers=headers)\n",
    "    try: \n",
    "        html = html_content = requests.get(url)\n",
    "    except HTTPError as e:\n",
    "        html =  None\n",
    "    \n",
    "    html_content.status_code\n",
    "    soup = BeautifulSoup(html_content.text, 'html')\n",
    "    \n",
    "    # scrape title\n",
    "    try:\n",
    "        title = soup.find_all(class_ = 'headline')\n",
    "        title = title[0].text\n",
    "    except IndexError as e: \n",
    "        title = None\n",
    "        \n",
    "    \n",
    "    # scrape sub-title\n",
    "#     subtitle = soup.find_all(class_ = 'subheading')\n",
    "#     try:\n",
    "#         subtitle = subtitle[0].text\n",
    "#     except IndexError as e:\n",
    "#         subtitle = None\n",
    "    subtitle = None\n",
    "    \n",
    "        \n",
    "        \n",
    "    # scrape content\n",
    "    content = soup.find_all(class_ = 'article-body')\n",
    "    content = content[0].text\n",
    "    \n",
    "   \n",
    "    # store info into dataframe\n",
    "    news_dict = {'Title': title,\n",
    "                 'Subtitle': subtitle,\n",
    "                 'Content': content,\n",
    "                 'Doc_url': url}\n",
    "    news = pd.DataFrame([news_dict])\n",
    "\n",
    "    return news"
   ]
  },
  {
   "cell_type": "code",
   "execution_count": 13,
   "metadata": {
    "ExecuteTime": {
     "end_time": "2020-04-02T15:51:43.649138Z",
     "start_time": "2020-04-02T15:51:42.403201Z"
    }
   },
   "outputs": [
    {
     "data": {
      "text/html": [
       "<div>\n",
       "<style scoped>\n",
       "    .dataframe tbody tr th:only-of-type {\n",
       "        vertical-align: middle;\n",
       "    }\n",
       "\n",
       "    .dataframe tbody tr th {\n",
       "        vertical-align: top;\n",
       "    }\n",
       "\n",
       "    .dataframe thead th {\n",
       "        text-align: right;\n",
       "    }\n",
       "</style>\n",
       "<table border=\"1\" class=\"dataframe\">\n",
       "  <thead>\n",
       "    <tr style=\"text-align: right;\">\n",
       "      <th></th>\n",
       "      <th>Title</th>\n",
       "      <th>Subtitle</th>\n",
       "      <th>Content</th>\n",
       "      <th>Doc_url</th>\n",
       "    </tr>\n",
       "  </thead>\n",
       "  <tbody>\n",
       "    <tr>\n",
       "      <th>0</th>\n",
       "      <td>China counts sharp rise in coronavirus cases d...</td>\n",
       "      <td>None</td>\n",
       "      <td>BEIJING -- China reported Monday a sharp rise ...</td>\n",
       "      <td>https://www.foxnews.com/health/china-counts-sh...</td>\n",
       "    </tr>\n",
       "  </tbody>\n",
       "</table>\n",
       "</div>"
      ],
      "text/plain": [
       "                                               Title Subtitle  \\\n",
       "0  China counts sharp rise in coronavirus cases d...     None   \n",
       "\n",
       "                                             Content  \\\n",
       "0  BEIJING -- China reported Monday a sharp rise ...   \n",
       "\n",
       "                                             Doc_url  \n",
       "0  https://www.foxnews.com/health/china-counts-sh...  "
      ]
     },
     "execution_count": 13,
     "metadata": {},
     "output_type": "execute_result"
    }
   ],
   "source": [
    "url=bnews.doc_url[0]\n",
    "d =scrape_news(url)\n",
    "d"
   ]
  },
  {
   "cell_type": "code",
   "execution_count": null,
   "metadata": {},
   "outputs": [],
   "source": [
    "# news_rest = pd.DataFrame()\n",
    "n = bnews.shape[0]\n",
    "for i in [178]:\n",
    "    print(i)\n",
    "    url = bnews.doc_url[i]\n",
    "    n = scrape_news(url)\n",
    "    news_rest = news_rest.append(n)\n"
   ]
  }
 ],
 "metadata": {
  "kernelspec": {
   "display_name": "elle",
   "language": "python",
   "name": "elle"
  },
  "language_info": {
   "codemirror_mode": {
    "name": "ipython",
    "version": 3
   },
   "file_extension": ".py",
   "mimetype": "text/x-python",
   "name": "python",
   "nbconvert_exporter": "python",
   "pygments_lexer": "ipython3",
   "version": "3.8.0"
  },
  "latex_envs": {
   "LaTeX_envs_menu_present": true,
   "autoclose": false,
   "autocomplete": true,
   "bibliofile": "biblio.bib",
   "cite_by": "apalike",
   "current_citInitial": 1,
   "eqLabelWithNumbers": true,
   "eqNumInitial": 1,
   "hotkeys": {
    "equation": "Ctrl-E",
    "itemize": "Ctrl-I"
   },
   "labels_anchors": false,
   "latex_user_defs": false,
   "report_style_numbering": false,
   "user_envs_cfg": false
  },
  "toc": {
   "base_numbering": 1,
   "nav_menu": {},
   "number_sections": true,
   "sideBar": true,
   "skip_h1_title": false,
   "title_cell": "Table of Contents",
   "title_sidebar": "Contents",
   "toc_cell": false,
   "toc_position": {},
   "toc_section_display": true,
   "toc_window_display": false
  },
  "varInspector": {
   "cols": {
    "lenName": 16,
    "lenType": 16,
    "lenVar": 40
   },
   "kernels_config": {
    "python": {
     "delete_cmd_postfix": "",
     "delete_cmd_prefix": "del ",
     "library": "var_list.py",
     "varRefreshCmd": "print(var_dic_list())"
    },
    "r": {
     "delete_cmd_postfix": ") ",
     "delete_cmd_prefix": "rm(",
     "library": "var_list.r",
     "varRefreshCmd": "cat(var_dic_list()) "
    }
   },
   "types_to_exclude": [
    "module",
    "function",
    "builtin_function_or_method",
    "instance",
    "_Feature"
   ],
   "window_display": false
  }
 },
 "nbformat": 4,
 "nbformat_minor": 4
}
